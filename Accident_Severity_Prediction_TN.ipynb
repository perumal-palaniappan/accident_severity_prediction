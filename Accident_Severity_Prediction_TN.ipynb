{
 "cells": [
  {
   "cell_type": "markdown",
   "id": "f12ad0b4-908d-485c-9772-3b38c825c130",
   "metadata": {},
   "source": [
    "                                                        ACCIDENT-SEVERITY-PREDICTION"
   ]
  },
  {
   "cell_type": "markdown",
   "id": "71d566bc-8c43-425f-bd22-430989c48b21",
   "metadata": {},
   "source": [
    "Why did we choose this topic in particular? \n",
    "    Analyzing accidents and predicting the severity of accidents is of paramount importance for various reasons, including public safety, transportation efficiency, and business solutions. Let's delve deeper into these aspects:\r\n",
    "\r\n",
    "1. Public Safety and Human Lives: Accidents on the road can have devastating consequences, resulting in injuries, fatalities, and long-lasting trauma for individuals and families. Analyzing accidents helps us identify the root causes and risk factors, allowing us to implement preventive measures and reduce the human toll of accidents. Prioritizing safety on our roads is a fundamental moral imperative.\r\n",
    "\r\n",
    "2. Transportation Efficiency: Accidents can cause traffic congestion, delays, and economic losses due to increased travel times and vehicle damage. Analyzing accident data enables transportation authorities to identify accident-prone areas, optimize traffic flow, and make infrastructure improvements. Reducing accidents can lead to smoother traffic, shorter commutes, and lower transportation costs.\r\n",
    "\r\n",
    "3. Business Solutions and Cost Reduction: For businesses that rely on transportation, such as logistics and delivery companies, accidents can result in disruptions, increased expenses, and damage to their reputation. Analyzing accident data helps these businesses identify high-risk routes and times, allowing them to optimize their operations, reduce accidents, and lower associated costs.\r\n",
    "\r\n",
    "4. Resource Allocation: Law enforcement agencies and emergency services often have limited resources. Predicting the severity of accidents can help allocate resources more effectively. By prioritizing severe accidents, first responders can arrive at the scene faster, potentially saving lives and reducing the severity of injuries.\r\n",
    "\r\n",
    "5. Infrastructure Planning: City planners and engineers can use accident data to inform the design and maintenance of road infrastructure. Understanding where accidents frequently occur and their causes can lead to safer road designs and targeted improvements, such as better signage, lighting, or road surface maintenance.\r\n",
    "\r\n",
    "6. Insurance and Risk Assessment: Insurance companies can use accident data to assess risk and set premiums. Predicting the severity of accidents helps insurers better understand the potential costs associated with policies, allowing them to offer competitive rates while ensuring they can cy 7uman error.\r\n",
    "\r\n",
    "8. Policy and Legislation: Government agencies and policymakers can use accident data to formulate evidence-based policies and regulations aimed at improving road safety. This may include stricter enforcement of traffic laws, enhanced driver education programs, or initiatives to reduce distracted driving.\r\n",
    "\r\n",
    "Predicting Severity: Predicting the severity of accidents is particularly important because it allows for timely and appropriate responses. By assessing accident severity, responders can allocate resources, prioritize medical treatment, and dispatch appropriate personnel. Predictive models can take into account various factors such as road conditions, weather, vehicle type, and collision type to estimate the likelihood of severe outcomes, helping improve emergency response and medical care.\r\n",
    "\r\n",
    "In conclusion, analyzing accidents and predicting their severity is not only a matter of public safety but also a multifaceted approach with significant implications for businesses, transportation, healthcare, and society as a whole. It empowers stakeholders to make informed decisions, allocate resources efficiently, and work collectively towards the goal of reducing accidents and their impact on people's lives."
   ]
  },
  {
   "cell_type": "markdown",
   "id": "aa5be5f6-9187-4844-9e32-00390c1a15e4",
   "metadata": {},
   "source": [
    "ABOUT DATASET:"
   ]
  },
  {
   "cell_type": "markdown",
   "id": "a0c52223-fbd3-448c-8998-769382ea429c",
   "metadata": {},
   "source": [
    "\n",
    "ID: This is a unique identifier of the accident record.\n",
    "\n",
    "Source: Source of raw accident data\n",
    "\n",
    "Severity: Shows the severity of the accident, a number between 1 and 4, where 1 indicates the least impact on traffic (i.e., short delay as a result of the accident) and 4 indicates a significant impact on traffic (i.e., long delay).\n",
    "\n",
    "Start_Time: Shows start time of the accident in local time zone.\n",
    "\n",
    "End_Time: Shows end time of the accident in local time zone. End time here refers to when the impact of accident on traffic flow was dismissed.\n",
    "\n",
    "Start_Lat: Shows latitude in GPS coordinate of the start point.\n",
    "\n",
    "Start_Lng: Shows longitude in GPS coordinate of the start point.\n",
    "\n",
    "End_Lat: Shows latitude in GPS coordinate of the end point.\n",
    "\n",
    "End_Lng: Shows longitude in GPS coordinate of the end point.\n",
    "\n",
    "Distance(mi): The length of the road extent affected by the accident in miles.\n",
    "\n",
    "Description: Shows a human provided description of the accident.\n",
    "\n",
    "Street: Shows the street name in address field.\n",
    "\n",
    "City: Shows the city in address field.\n",
    "\n",
    "County: Shows the county in address field.\n",
    "\n",
    "State: Shows the state in address field.\n",
    "\n",
    "Zipcode: Shows the zipcode in address field.\n",
    "\n",
    "Country: Shows the country in address field.\n",
    "\n",
    "Timezone: Shows timezone based on the location of the accident (eastern, central, etc.).\n",
    "\n",
    "Airport_Code: Denotes an airport-based weather station which is the closest one to location of the accident.\n",
    "\n",
    "Weather_Timestamp: Shows the time-stamp of weather observation record (in local time).\n",
    "\n",
    "Temperature(F): Shows the temperature (in Fahrenheit).\n",
    "\n",
    "Wind_Chill(F): Shows the wind chill (in Fahrenheit).\n",
    "\n",
    "Humidity(%): Shows the humidity (in percentage).\n",
    "\n",
    "Pressure(in): Shows the air pressure (in inches).\n",
    "\n",
    "Visibility(mi): Shows visibility (in miles).\n",
    "\n",
    "Wind_Direction: Shows wind direction.\n",
    "\n",
    "Wind_Speed(mph): Shows wind speed (in miles per hour).\n",
    "\n",
    "Precipitation(in): Shows precipitation amount in inches, if there is any.\n",
    "\n",
    "Weather_Condition: Shows the weather condition (rain, snow, thunderstorm, fog, etc.)\n",
    "\n",
    "Amenity: A POI annotation which indicates presence of amenity in a nearby location.\n",
    "\n",
    "Bump: A POI annotation which indicates presence of speed bump or hump in a nearby location.\n",
    "\n",
    "Crossing: A POI annotation which indicates presence of crossing in a nearby location.\n",
    "\n",
    "Give_Way: A POI annotation which indicates presence of give_way in a nearby location.\n",
    "\n",
    "Junction: A POI annotation which indicates presence of junction in a nearby location.\n",
    "\n",
    "No_Exit: A POI annotation which indicates presence of no_exit in a nearby location.\n",
    "\n",
    "Railway: A POI annotation which indicates presence of railway in a nearby location.\n",
    "\n",
    "Roundabout: A POI annotation which indicates presence of roundabout in a nearby location.\n",
    "\n",
    "Station: A POI annotation which indicates presence of station in a nearby location.\n",
    "\n",
    "Stop: A POI annotation which indicates presence of stop in a nearby location.\n",
    "\n",
    "Traffic_Calming: A POI annotation which indicates presence of traffic_calming in a nearby location.\n",
    "\n",
    "Traffic_Signal: A POI annotation which indicates presence of traffic_signal in a nearby location.\n",
    "\n",
    "Turning_Loop: A POI annotation which indicates presence of turning_loop in a nearby location.\n",
    "\n",
    "Sunrise_Sunset: Shows the period of day (i.e. day or night) based on sunrise/sunset.\n",
    "\n",
    "Civil_Twilight: Shows the period of day (i.e. day or night) based on civil twilight.\n",
    "\n",
    "Nautical_Twilight: Shows the period of day (i.e. day or night) based on nautical twilight.\n",
    "\n",
    "Astronomical_Twilight: Shows the period of day (i.e. day or night) based on astronomical twilight."
   ]
  },
  {
   "cell_type": "code",
   "execution_count": 112,
   "id": "439d2e3a-e5e6-4c45-aa76-f331f463e22a",
   "metadata": {},
   "outputs": [],
   "source": [
    "#Importing Necessary Libraries_1\n",
    "import pandas as pd\n",
    "import numpy as np\n",
    "import seaborn as sns\n",
    "import matplotlib.pyplot as plt"
   ]
  },
  {
   "cell_type": "code",
   "execution_count": 113,
   "id": "10f24894-e1d5-45b9-9819-3715d698d899",
   "metadata": {},
   "outputs": [
    {
     "data": {
      "text/html": [
       "<div>\n",
       "<style scoped>\n",
       "    .dataframe tbody tr th:only-of-type {\n",
       "        vertical-align: middle;\n",
       "    }\n",
       "\n",
       "    .dataframe tbody tr th {\n",
       "        vertical-align: top;\n",
       "    }\n",
       "\n",
       "    .dataframe thead th {\n",
       "        text-align: right;\n",
       "    }\n",
       "</style>\n",
       "<table border=\"1\" class=\"dataframe\">\n",
       "  <thead>\n",
       "    <tr style=\"text-align: right;\">\n",
       "      <th></th>\n",
       "      <th>ID</th>\n",
       "      <th>Source</th>\n",
       "      <th>Severity</th>\n",
       "      <th>Start_Time</th>\n",
       "      <th>End_Time</th>\n",
       "      <th>Start_Lat</th>\n",
       "      <th>Start_Lng</th>\n",
       "      <th>End_Lat</th>\n",
       "      <th>End_Lng</th>\n",
       "      <th>Distance(mi)</th>\n",
       "      <th>...</th>\n",
       "      <th>Roundabout</th>\n",
       "      <th>Station</th>\n",
       "      <th>Stop</th>\n",
       "      <th>Traffic_Calming</th>\n",
       "      <th>Traffic_Signal</th>\n",
       "      <th>Turning_Loop</th>\n",
       "      <th>Sunrise_Sunset</th>\n",
       "      <th>Civil_Twilight</th>\n",
       "      <th>Nautical_Twilight</th>\n",
       "      <th>Astronomical_Twilight</th>\n",
       "    </tr>\n",
       "  </thead>\n",
       "  <tbody>\n",
       "    <tr>\n",
       "      <th>0</th>\n",
       "      <td>A-1</td>\n",
       "      <td>Source1</td>\n",
       "      <td>3</td>\n",
       "      <td>2016-02-08 05:46:00</td>\n",
       "      <td>2016-02-08 11:00:00</td>\n",
       "      <td>11.043213</td>\n",
       "      <td>79.098396</td>\n",
       "      <td>NaN</td>\n",
       "      <td>NaN</td>\n",
       "      <td>0.01</td>\n",
       "      <td>...</td>\n",
       "      <td>False</td>\n",
       "      <td>False</td>\n",
       "      <td>False</td>\n",
       "      <td>False</td>\n",
       "      <td>False</td>\n",
       "      <td>False</td>\n",
       "      <td>Night</td>\n",
       "      <td>Night</td>\n",
       "      <td>Night</td>\n",
       "      <td>Night</td>\n",
       "    </tr>\n",
       "    <tr>\n",
       "      <th>1</th>\n",
       "      <td>A-2</td>\n",
       "      <td>Source2</td>\n",
       "      <td>2</td>\n",
       "      <td>2016-02-08 06:07:59</td>\n",
       "      <td>2016-02-08 06:37:59</td>\n",
       "      <td>11.211145</td>\n",
       "      <td>79.362847</td>\n",
       "      <td>NaN</td>\n",
       "      <td>NaN</td>\n",
       "      <td>0.01</td>\n",
       "      <td>...</td>\n",
       "      <td>False</td>\n",
       "      <td>False</td>\n",
       "      <td>False</td>\n",
       "      <td>False</td>\n",
       "      <td>False</td>\n",
       "      <td>False</td>\n",
       "      <td>Night</td>\n",
       "      <td>Night</td>\n",
       "      <td>Night</td>\n",
       "      <td>Day</td>\n",
       "    </tr>\n",
       "    <tr>\n",
       "      <th>2</th>\n",
       "      <td>A-3</td>\n",
       "      <td>Source2</td>\n",
       "      <td>2</td>\n",
       "      <td>2016-02-08 06:49:27</td>\n",
       "      <td>2016-02-08 07:19:27</td>\n",
       "      <td>11.256016</td>\n",
       "      <td>79.177572</td>\n",
       "      <td>NaN</td>\n",
       "      <td>NaN</td>\n",
       "      <td>0.01</td>\n",
       "      <td>...</td>\n",
       "      <td>False</td>\n",
       "      <td>False</td>\n",
       "      <td>False</td>\n",
       "      <td>False</td>\n",
       "      <td>True</td>\n",
       "      <td>False</td>\n",
       "      <td>Night</td>\n",
       "      <td>Night</td>\n",
       "      <td>Day</td>\n",
       "      <td>Day</td>\n",
       "    </tr>\n",
       "    <tr>\n",
       "      <th>3</th>\n",
       "      <td>A-4</td>\n",
       "      <td>Source2</td>\n",
       "      <td>3</td>\n",
       "      <td>2016-02-08 07:23:34</td>\n",
       "      <td>2016-02-08 07:53:34</td>\n",
       "      <td>11.287254</td>\n",
       "      <td>79.102273</td>\n",
       "      <td>NaN</td>\n",
       "      <td>NaN</td>\n",
       "      <td>0.01</td>\n",
       "      <td>...</td>\n",
       "      <td>False</td>\n",
       "      <td>False</td>\n",
       "      <td>False</td>\n",
       "      <td>False</td>\n",
       "      <td>False</td>\n",
       "      <td>False</td>\n",
       "      <td>Night</td>\n",
       "      <td>Day</td>\n",
       "      <td>Day</td>\n",
       "      <td>Day</td>\n",
       "    </tr>\n",
       "    <tr>\n",
       "      <th>4</th>\n",
       "      <td>A-5</td>\n",
       "      <td>Source2</td>\n",
       "      <td>2</td>\n",
       "      <td>2016-02-08 07:39:07</td>\n",
       "      <td>2016-02-08 08:09:07</td>\n",
       "      <td>10.978284</td>\n",
       "      <td>79.396555</td>\n",
       "      <td>NaN</td>\n",
       "      <td>NaN</td>\n",
       "      <td>0.01</td>\n",
       "      <td>...</td>\n",
       "      <td>False</td>\n",
       "      <td>False</td>\n",
       "      <td>False</td>\n",
       "      <td>False</td>\n",
       "      <td>True</td>\n",
       "      <td>False</td>\n",
       "      <td>Day</td>\n",
       "      <td>Day</td>\n",
       "      <td>Day</td>\n",
       "      <td>Day</td>\n",
       "    </tr>\n",
       "  </tbody>\n",
       "</table>\n",
       "<p>5 rows × 46 columns</p>\n",
       "</div>"
      ],
      "text/plain": [
       "    ID   Source  Severity          Start_Time            End_Time  Start_Lat  \\\n",
       "0  A-1  Source1         3 2016-02-08 05:46:00 2016-02-08 11:00:00  11.043213   \n",
       "1  A-2  Source2         2 2016-02-08 06:07:59 2016-02-08 06:37:59  11.211145   \n",
       "2  A-3  Source2         2 2016-02-08 06:49:27 2016-02-08 07:19:27  11.256016   \n",
       "3  A-4  Source2         3 2016-02-08 07:23:34 2016-02-08 07:53:34  11.287254   \n",
       "4  A-5  Source2         2 2016-02-08 07:39:07 2016-02-08 08:09:07  10.978284   \n",
       "\n",
       "   Start_Lng  End_Lat  End_Lng  Distance(mi)  ... Roundabout Station   Stop  \\\n",
       "0  79.098396      NaN      NaN          0.01  ...      False   False  False   \n",
       "1  79.362847      NaN      NaN          0.01  ...      False   False  False   \n",
       "2  79.177572      NaN      NaN          0.01  ...      False   False  False   \n",
       "3  79.102273      NaN      NaN          0.01  ...      False   False  False   \n",
       "4  79.396555      NaN      NaN          0.01  ...      False   False  False   \n",
       "\n",
       "  Traffic_Calming Traffic_Signal Turning_Loop Sunrise_Sunset Civil_Twilight  \\\n",
       "0           False          False        False          Night          Night   \n",
       "1           False          False        False          Night          Night   \n",
       "2           False           True        False          Night          Night   \n",
       "3           False          False        False          Night            Day   \n",
       "4           False           True        False            Day            Day   \n",
       "\n",
       "  Nautical_Twilight Astronomical_Twilight  \n",
       "0             Night                 Night  \n",
       "1             Night                   Day  \n",
       "2               Day                   Day  \n",
       "3               Day                   Day  \n",
       "4               Day                   Day  \n",
       "\n",
       "[5 rows x 46 columns]"
      ]
     },
     "execution_count": 113,
     "metadata": {},
     "output_type": "execute_result"
    }
   ],
   "source": [
    "#Load Dataset\n",
    "acdf = pd.read_excel(r\"Ind_Accident_Data.xlsx\")\n",
    "acdf.head()"
   ]
  },
  {
   "cell_type": "code",
   "execution_count": 114,
   "id": "3d712c95-f14d-4581-821d-1e3e4e77adfb",
   "metadata": {},
   "outputs": [
    {
     "data": {
      "text/html": [
       "<div>\n",
       "<style scoped>\n",
       "    .dataframe tbody tr th:only-of-type {\n",
       "        vertical-align: middle;\n",
       "    }\n",
       "\n",
       "    .dataframe tbody tr th {\n",
       "        vertical-align: top;\n",
       "    }\n",
       "\n",
       "    .dataframe thead th {\n",
       "        text-align: right;\n",
       "    }\n",
       "</style>\n",
       "<table border=\"1\" class=\"dataframe\">\n",
       "  <thead>\n",
       "    <tr style=\"text-align: right;\">\n",
       "      <th></th>\n",
       "      <th>ID</th>\n",
       "      <th>Source</th>\n",
       "      <th>Severity</th>\n",
       "      <th>Start_Time</th>\n",
       "      <th>End_Time</th>\n",
       "      <th>Start_Lat</th>\n",
       "      <th>Start_Lng</th>\n",
       "      <th>End_Lat</th>\n",
       "      <th>End_Lng</th>\n",
       "      <th>Distance(mi)</th>\n",
       "      <th>...</th>\n",
       "      <th>Roundabout</th>\n",
       "      <th>Station</th>\n",
       "      <th>Stop</th>\n",
       "      <th>Traffic_Calming</th>\n",
       "      <th>Traffic_Signal</th>\n",
       "      <th>Turning_Loop</th>\n",
       "      <th>Sunrise_Sunset</th>\n",
       "      <th>Civil_Twilight</th>\n",
       "      <th>Nautical_Twilight</th>\n",
       "      <th>Astronomical_Twilight</th>\n",
       "    </tr>\n",
       "  </thead>\n",
       "  <tbody>\n",
       "    <tr>\n",
       "      <th>1545</th>\n",
       "      <td>A-1546</td>\n",
       "      <td>Source1</td>\n",
       "      <td>2</td>\n",
       "      <td>2016-06-28 13:24:23</td>\n",
       "      <td>2016-06-28 14:09:23</td>\n",
       "      <td>37.798340</td>\n",
       "      <td>-122.140739</td>\n",
       "      <td>NaN</td>\n",
       "      <td>NaN</td>\n",
       "      <td>0.0</td>\n",
       "      <td>...</td>\n",
       "      <td>False</td>\n",
       "      <td>False</td>\n",
       "      <td>False</td>\n",
       "      <td>False</td>\n",
       "      <td>False</td>\n",
       "      <td>False</td>\n",
       "      <td>Day</td>\n",
       "      <td>Day</td>\n",
       "      <td>Day</td>\n",
       "      <td>Day</td>\n",
       "    </tr>\n",
       "    <tr>\n",
       "      <th>1546</th>\n",
       "      <td>A-1547</td>\n",
       "      <td>Source1</td>\n",
       "      <td>2</td>\n",
       "      <td>2016-06-28 13:25:49</td>\n",
       "      <td>2016-06-28 14:10:49</td>\n",
       "      <td>37.226570</td>\n",
       "      <td>-121.975113</td>\n",
       "      <td>NaN</td>\n",
       "      <td>NaN</td>\n",
       "      <td>0.0</td>\n",
       "      <td>...</td>\n",
       "      <td>False</td>\n",
       "      <td>False</td>\n",
       "      <td>False</td>\n",
       "      <td>False</td>\n",
       "      <td>False</td>\n",
       "      <td>False</td>\n",
       "      <td>Day</td>\n",
       "      <td>Day</td>\n",
       "      <td>Day</td>\n",
       "      <td>Day</td>\n",
       "    </tr>\n",
       "    <tr>\n",
       "      <th>1547</th>\n",
       "      <td>A-1548</td>\n",
       "      <td>Source1</td>\n",
       "      <td>2</td>\n",
       "      <td>2016-06-28 13:25:01</td>\n",
       "      <td>2016-06-28 14:10:01</td>\n",
       "      <td>37.250729</td>\n",
       "      <td>-121.910713</td>\n",
       "      <td>NaN</td>\n",
       "      <td>NaN</td>\n",
       "      <td>0.0</td>\n",
       "      <td>...</td>\n",
       "      <td>False</td>\n",
       "      <td>False</td>\n",
       "      <td>False</td>\n",
       "      <td>False</td>\n",
       "      <td>False</td>\n",
       "      <td>False</td>\n",
       "      <td>Day</td>\n",
       "      <td>Day</td>\n",
       "      <td>Day</td>\n",
       "      <td>Day</td>\n",
       "    </tr>\n",
       "    <tr>\n",
       "      <th>1548</th>\n",
       "      <td>A-1549</td>\n",
       "      <td>Source2</td>\n",
       "      <td>2</td>\n",
       "      <td>2016-06-28 13:29:19</td>\n",
       "      <td>2016-06-28 14:14:19</td>\n",
       "      <td>38.016792</td>\n",
       "      <td>-121.889641</td>\n",
       "      <td>NaN</td>\n",
       "      <td>NaN</td>\n",
       "      <td>0.0</td>\n",
       "      <td>...</td>\n",
       "      <td>False</td>\n",
       "      <td>False</td>\n",
       "      <td>False</td>\n",
       "      <td>False</td>\n",
       "      <td>False</td>\n",
       "      <td>False</td>\n",
       "      <td>Day</td>\n",
       "      <td>Day</td>\n",
       "      <td>Day</td>\n",
       "      <td>Day</td>\n",
       "    </tr>\n",
       "    <tr>\n",
       "      <th>1549</th>\n",
       "      <td>A-1550</td>\n",
       "      <td>Source2</td>\n",
       "      <td>3</td>\n",
       "      <td>2016-06-28 13:25:36</td>\n",
       "      <td>2016-06-28 13:55:36</td>\n",
       "      <td>38.671360</td>\n",
       "      <td>-121.591324</td>\n",
       "      <td>NaN</td>\n",
       "      <td>NaN</td>\n",
       "      <td>0.0</td>\n",
       "      <td>...</td>\n",
       "      <td>False</td>\n",
       "      <td>False</td>\n",
       "      <td>False</td>\n",
       "      <td>False</td>\n",
       "      <td>False</td>\n",
       "      <td>False</td>\n",
       "      <td>Day</td>\n",
       "      <td>Day</td>\n",
       "      <td>Day</td>\n",
       "      <td>Day</td>\n",
       "    </tr>\n",
       "  </tbody>\n",
       "</table>\n",
       "<p>5 rows × 46 columns</p>\n",
       "</div>"
      ],
      "text/plain": [
       "          ID   Source  Severity          Start_Time            End_Time  \\\n",
       "1545  A-1546  Source1         2 2016-06-28 13:24:23 2016-06-28 14:09:23   \n",
       "1546  A-1547  Source1         2 2016-06-28 13:25:49 2016-06-28 14:10:49   \n",
       "1547  A-1548  Source1         2 2016-06-28 13:25:01 2016-06-28 14:10:01   \n",
       "1548  A-1549  Source2         2 2016-06-28 13:29:19 2016-06-28 14:14:19   \n",
       "1549  A-1550  Source2         3 2016-06-28 13:25:36 2016-06-28 13:55:36   \n",
       "\n",
       "      Start_Lat   Start_Lng  End_Lat  End_Lng  Distance(mi)  ... Roundabout  \\\n",
       "1545  37.798340 -122.140739      NaN      NaN           0.0  ...      False   \n",
       "1546  37.226570 -121.975113      NaN      NaN           0.0  ...      False   \n",
       "1547  37.250729 -121.910713      NaN      NaN           0.0  ...      False   \n",
       "1548  38.016792 -121.889641      NaN      NaN           0.0  ...      False   \n",
       "1549  38.671360 -121.591324      NaN      NaN           0.0  ...      False   \n",
       "\n",
       "     Station   Stop Traffic_Calming Traffic_Signal Turning_Loop  \\\n",
       "1545   False  False           False          False        False   \n",
       "1546   False  False           False          False        False   \n",
       "1547   False  False           False          False        False   \n",
       "1548   False  False           False          False        False   \n",
       "1549   False  False           False          False        False   \n",
       "\n",
       "     Sunrise_Sunset Civil_Twilight Nautical_Twilight Astronomical_Twilight  \n",
       "1545            Day            Day               Day                   Day  \n",
       "1546            Day            Day               Day                   Day  \n",
       "1547            Day            Day               Day                   Day  \n",
       "1548            Day            Day               Day                   Day  \n",
       "1549            Day            Day               Day                   Day  \n",
       "\n",
       "[5 rows x 46 columns]"
      ]
     },
     "execution_count": 114,
     "metadata": {},
     "output_type": "execute_result"
    }
   ],
   "source": [
    "acdf.tail()"
   ]
  },
  {
   "cell_type": "code",
   "execution_count": 115,
   "id": "5b930671-36ba-4df1-b9c3-329e4e2d5ca3",
   "metadata": {},
   "outputs": [],
   "source": [
    "#The stacked bar chart shows that two data providers reported totally different proportions of accidents of each level. \n",
    "#MapQuest reported so rare accidents with severity level 4 which can not even be seen in the plot,whereas Bing reported almost the same number of level 4 accidents as level 2. \n",
    "#Meanwhile, MapQuest reported much more level 3 accidents than Bing in terms of proportion."
   ]
  },
  {
   "cell_type": "code",
   "execution_count": 116,
   "id": "bdc2ee0e-2b82-4379-bf69-6be26db6251b",
   "metadata": {},
   "outputs": [
    {
     "data": {
      "text/plain": [
       "<Axes: title={'center': 'Severity Count by Sources'}, xlabel='Source'>"
      ]
     },
     "execution_count": 116,
     "metadata": {},
     "output_type": "execute_result"
    },
    {
     "data": {
      "image/png": "[encoded data removed]",
      "text/plain": [
       "<Figure size 640x480 with 1 Axes>"
      ]
     },
     "metadata": {},
     "output_type": "display_data"
    }
   ],
   "source": [
    "#Source Reporting\n",
    "df_source = acdf.groupby(['Severity','Source']).size().reset_index().pivot(\\\n",
    "    columns='Severity', index='Source', values=0)\n",
    "df_source.plot(kind='bar', stacked=True, title='Severity Count by Sources')"
   ]
  },
  {
   "cell_type": "code",
   "execution_count": 117,
   "id": "da5046a9-4fe4-4b91-82cf-66bdfb72a6ef",
   "metadata": {},
   "outputs": [
    {
     "name": "stdout",
     "output_type": "stream",
     "text": [
      "<class 'pandas.core.frame.DataFrame'>\n",
      "RangeIndex: 1550 entries, 0 to 1549\n",
      "Data columns (total 46 columns):\n",
      " #   Column                 Non-Null Count  Dtype         \n",
      "---  ------                 --------------  -----         \n",
      " 0   ID                     1550 non-null   object        \n",
      " 1   Source                 1550 non-null   object        \n",
      " 2   Severity               1550 non-null   int64         \n",
      " 3   Start_Time             1550 non-null   datetime64[ns]\n",
      " 4   End_Time               1550 non-null   datetime64[ns]\n",
      " 5   Start_Lat              1550 non-null   float64       \n",
      " 6   Start_Lng              1550 non-null   float64       \n",
      " 7   End_Lat                0 non-null      float64       \n",
      " 8   End_Lng                0 non-null      float64       \n",
      " 9   Distance(mi)           1550 non-null   float64       \n",
      " 10  Description            1550 non-null   object        \n",
      " 11  Street                 1550 non-null   object        \n",
      " 12  City                   1550 non-null   object        \n",
      " 13  County                 1550 non-null   object        \n",
      " 14  State                  1550 non-null   object        \n",
      " 15  Zipcode                1550 non-null   object        \n",
      " 16  Country                1550 non-null   object        \n",
      " 17  Timezone               1550 non-null   object        \n",
      " 18  Airport_Code           1550 non-null   object        \n",
      " 19  Weather_Timestamp      1549 non-null   datetime64[ns]\n",
      " 20  Temperature(F)         1549 non-null   float64       \n",
      " 21  Wind_Chill(F)          460 non-null    float64       \n",
      " 22  Humidity(%)            1549 non-null   float64       \n",
      " 23  Pressure(in)           1549 non-null   float64       \n",
      " 24  Visibility(mi)         1543 non-null   float64       \n",
      " 25  Wind_Direction         1549 non-null   object        \n",
      " 26  Wind_Speed(mph)        1424 non-null   float64       \n",
      " 27  Precipitation(in)      187 non-null    float64       \n",
      " 28  Weather_Condition      1547 non-null   object        \n",
      " 29  Amenity                1550 non-null   bool          \n",
      " 30  Bump                   1550 non-null   bool          \n",
      " 31  Crossing               1550 non-null   bool          \n",
      " 32  Give_Way               1550 non-null   bool          \n",
      " 33  Junction               1550 non-null   bool          \n",
      " 34  No_Exit                1550 non-null   bool          \n",
      " 35  Railway                1550 non-null   bool          \n",
      " 36  Roundabout             1550 non-null   bool          \n",
      " 37  Station                1550 non-null   bool          \n",
      " 38  Stop                   1550 non-null   bool          \n",
      " 39  Traffic_Calming        1550 non-null   bool          \n",
      " 40  Traffic_Signal         1550 non-null   bool          \n",
      " 41  Turning_Loop           1550 non-null   bool          \n",
      " 42  Sunrise_Sunset         1550 non-null   object        \n",
      " 43  Civil_Twilight         1550 non-null   object        \n",
      " 44  Nautical_Twilight      1550 non-null   object        \n",
      " 45  Astronomical_Twilight  1550 non-null   object        \n",
      "dtypes: bool(13), datetime64[ns](3), float64(12), int64(1), object(17)\n",
      "memory usage: 419.4+ KB\n"
     ]
    }
   ],
   "source": [
    "#showing type of every column and memory usage\n",
    "acdf.info()"
   ]
  },
  {
   "cell_type": "code",
   "execution_count": 118,
   "id": "1c03d702-4da2-4ca2-b50a-faf1ed27e9e3",
   "metadata": {},
   "outputs": [
    {
     "data": {
      "text/plain": [
       "object            17\n",
       "bool              13\n",
       "float64           12\n",
       "datetime64[ns]     3\n",
       "int64              1\n",
       "Name: count, dtype: int64"
      ]
     },
     "execution_count": 118,
     "metadata": {},
     "output_type": "execute_result"
    }
   ],
   "source": [
    "#Used to show datatype count\n",
    "acdf.dtypes.value_counts()"
   ]
  },
  {
   "cell_type": "code",
   "execution_count": 119,
   "id": "742b35c1-f863-4742-8704-7fa42424a5d8",
   "metadata": {},
   "outputs": [
    {
     "data": {
      "text/plain": [
       "Index(['ID', 'Source', 'Severity', 'Start_Time', 'End_Time', 'Start_Lat',\n",
       "       'Start_Lng', 'End_Lat', 'End_Lng', 'Distance(mi)', 'Description',\n",
       "       'Street', 'City', 'County', 'State', 'Zipcode', 'Country', 'Timezone',\n",
       "       'Airport_Code', 'Weather_Timestamp', 'Temperature(F)', 'Wind_Chill(F)',\n",
       "       'Humidity(%)', 'Pressure(in)', 'Visibility(mi)', 'Wind_Direction',\n",
       "       'Wind_Speed(mph)', 'Precipitation(in)', 'Weather_Condition', 'Amenity',\n",
       "       'Bump', 'Crossing', 'Give_Way', 'Junction', 'No_Exit', 'Railway',\n",
       "       'Roundabout', 'Station', 'Stop', 'Traffic_Calming', 'Traffic_Signal',\n",
       "       'Turning_Loop', 'Sunrise_Sunset', 'Civil_Twilight', 'Nautical_Twilight',\n",
       "       'Astronomical_Twilight'],\n",
       "      dtype='object')"
      ]
     },
     "execution_count": 119,
     "metadata": {},
     "output_type": "execute_result"
    }
   ],
   "source": [
    "#shows columns name\n",
    "acdf.columns"
   ]
  },
  {
   "cell_type": "code",
   "execution_count": 120,
   "id": "e76d31d7-7ed9-45f8-b0ad-82d373333fdb",
   "metadata": {},
   "outputs": [
    {
     "data": {
      "text/plain": [
       "13"
      ]
     },
     "execution_count": 120,
     "metadata": {},
     "output_type": "execute_result"
    }
   ],
   "source": [
    "# check the number of numeric columns in our data\n",
    "numerics = ['int16', 'int32', 'int64', 'float16', 'float32', 'float64']\n",
    "\n",
    "numeric_df = acdf.select_dtypes(include=numerics)\n",
    "len(numeric_df.columns)"
   ]
  },
  {
   "cell_type": "code",
   "execution_count": 121,
   "id": "1ddd22d9-f227-472f-8376-7202fdf4154d",
   "metadata": {},
   "outputs": [
    {
     "data": {
      "text/plain": [
       "(1550, 46)"
      ]
     },
     "execution_count": 121,
     "metadata": {},
     "output_type": "execute_result"
    }
   ],
   "source": [
    "#shape of data\n",
    "acdf.shape "
   ]
  },
  {
   "cell_type": "code",
   "execution_count": 122,
   "id": "869bc7f8-47a0-498c-9732-d3a9431fd5e1",
   "metadata": {},
   "outputs": [
    {
     "data": {
      "text/html": [
       "<div>\n",
       "<style scoped>\n",
       "    .dataframe tbody tr th:only-of-type {\n",
       "        vertical-align: middle;\n",
       "    }\n",
       "\n",
       "    .dataframe tbody tr th {\n",
       "        vertical-align: top;\n",
       "    }\n",
       "\n",
       "    .dataframe thead th {\n",
       "        text-align: right;\n",
       "    }\n",
       "</style>\n",
       "<table border=\"1\" class=\"dataframe\">\n",
       "  <thead>\n",
       "    <tr style=\"text-align: right;\">\n",
       "      <th></th>\n",
       "      <th>Severity</th>\n",
       "      <th>Start_Time</th>\n",
       "      <th>End_Time</th>\n",
       "      <th>Start_Lat</th>\n",
       "      <th>Start_Lng</th>\n",
       "      <th>End_Lat</th>\n",
       "      <th>End_Lng</th>\n",
       "      <th>Distance(mi)</th>\n",
       "      <th>Weather_Timestamp</th>\n",
       "      <th>Temperature(F)</th>\n",
       "      <th>Wind_Chill(F)</th>\n",
       "      <th>Humidity(%)</th>\n",
       "      <th>Pressure(in)</th>\n",
       "      <th>Visibility(mi)</th>\n",
       "      <th>Wind_Speed(mph)</th>\n",
       "      <th>Precipitation(in)</th>\n",
       "    </tr>\n",
       "  </thead>\n",
       "  <tbody>\n",
       "    <tr>\n",
       "      <th>count</th>\n",
       "      <td>1550.000000</td>\n",
       "      <td>1550</td>\n",
       "      <td>1550</td>\n",
       "      <td>1550.000000</td>\n",
       "      <td>1550.000000</td>\n",
       "      <td>0.0</td>\n",
       "      <td>0.0</td>\n",
       "      <td>1550.000000</td>\n",
       "      <td>1549</td>\n",
       "      <td>1549.000000</td>\n",
       "      <td>460.000000</td>\n",
       "      <td>1549.000000</td>\n",
       "      <td>1549.00000</td>\n",
       "      <td>1543.000000</td>\n",
       "      <td>1424.000000</td>\n",
       "      <td>187.000000</td>\n",
       "    </tr>\n",
       "    <tr>\n",
       "      <th>mean</th>\n",
       "      <td>2.418065</td>\n",
       "      <td>2016-04-29 16:15:14.709032192</td>\n",
       "      <td>2016-04-29 17:06:28.508387072</td>\n",
       "      <td>33.802781</td>\n",
       "      <td>-74.633556</td>\n",
       "      <td>NaN</td>\n",
       "      <td>NaN</td>\n",
       "      <td>0.022161</td>\n",
       "      <td>2016-04-29 17:01:26.378308864</td>\n",
       "      <td>58.768496</td>\n",
       "      <td>23.368696</td>\n",
       "      <td>58.690768</td>\n",
       "      <td>29.97694</td>\n",
       "      <td>8.651005</td>\n",
       "      <td>9.675421</td>\n",
       "      <td>0.021711</td>\n",
       "    </tr>\n",
       "    <tr>\n",
       "      <th>min</th>\n",
       "      <td>1.000000</td>\n",
       "      <td>2016-02-08 05:46:00</td>\n",
       "      <td>2016-02-08 06:37:59</td>\n",
       "      <td>10.471271</td>\n",
       "      <td>-123.354477</td>\n",
       "      <td>NaN</td>\n",
       "      <td>NaN</td>\n",
       "      <td>0.000000</td>\n",
       "      <td>2016-02-08 05:51:00</td>\n",
       "      <td>3.900000</td>\n",
       "      <td>-8.400000</td>\n",
       "      <td>9.000000</td>\n",
       "      <td>28.62000</td>\n",
       "      <td>0.200000</td>\n",
       "      <td>1.200000</td>\n",
       "      <td>0.000000</td>\n",
       "    </tr>\n",
       "    <tr>\n",
       "      <th>25%</th>\n",
       "      <td>2.000000</td>\n",
       "      <td>2016-02-25 06:56:26.500000</td>\n",
       "      <td>2016-02-25 07:26:26.500000</td>\n",
       "      <td>37.383432</td>\n",
       "      <td>-121.940712</td>\n",
       "      <td>NaN</td>\n",
       "      <td>NaN</td>\n",
       "      <td>0.000000</td>\n",
       "      <td>2016-02-25 06:38:00</td>\n",
       "      <td>37.400000</td>\n",
       "      <td>17.075000</td>\n",
       "      <td>37.000000</td>\n",
       "      <td>29.91000</td>\n",
       "      <td>9.000000</td>\n",
       "      <td>5.800000</td>\n",
       "      <td>0.000000</td>\n",
       "    </tr>\n",
       "    <tr>\n",
       "      <th>50%</th>\n",
       "      <td>2.000000</td>\n",
       "      <td>2016-06-21 13:25:19.500000</td>\n",
       "      <td>2016-06-21 14:04:54</td>\n",
       "      <td>38.005135</td>\n",
       "      <td>-121.157936</td>\n",
       "      <td>NaN</td>\n",
       "      <td>NaN</td>\n",
       "      <td>0.000000</td>\n",
       "      <td>2016-06-21 13:35:00</td>\n",
       "      <td>60.800000</td>\n",
       "      <td>25.200000</td>\n",
       "      <td>58.000000</td>\n",
       "      <td>29.99000</td>\n",
       "      <td>10.000000</td>\n",
       "      <td>9.200000</td>\n",
       "      <td>0.000000</td>\n",
       "    </tr>\n",
       "    <tr>\n",
       "      <th>75%</th>\n",
       "      <td>3.000000</td>\n",
       "      <td>2016-06-24 17:19:20.750000128</td>\n",
       "      <td>2016-06-24 18:11:50.750000128</td>\n",
       "      <td>39.665883</td>\n",
       "      <td>-83.014377</td>\n",
       "      <td>NaN</td>\n",
       "      <td>NaN</td>\n",
       "      <td>0.010000</td>\n",
       "      <td>2016-06-24 16:53:00</td>\n",
       "      <td>77.000000</td>\n",
       "      <td>30.800000</td>\n",
       "      <td>82.000000</td>\n",
       "      <td>30.06000</td>\n",
       "      <td>10.000000</td>\n",
       "      <td>12.700000</td>\n",
       "      <td>0.020000</td>\n",
       "    </tr>\n",
       "    <tr>\n",
       "      <th>max</th>\n",
       "      <td>4.000000</td>\n",
       "      <td>2016-06-28 13:29:19</td>\n",
       "      <td>2016-06-28 14:14:19</td>\n",
       "      <td>41.428753</td>\n",
       "      <td>80.287066</td>\n",
       "      <td>NaN</td>\n",
       "      <td>NaN</td>\n",
       "      <td>7.070000</td>\n",
       "      <td>2016-06-28 13:53:00</td>\n",
       "      <td>104.000000</td>\n",
       "      <td>66.000000</td>\n",
       "      <td>100.000000</td>\n",
       "      <td>30.62000</td>\n",
       "      <td>30.000000</td>\n",
       "      <td>31.100000</td>\n",
       "      <td>0.220000</td>\n",
       "    </tr>\n",
       "    <tr>\n",
       "      <th>std</th>\n",
       "      <td>0.501189</td>\n",
       "      <td>NaN</td>\n",
       "      <td>NaN</td>\n",
       "      <td>10.398857</td>\n",
       "      <td>73.765646</td>\n",
       "      <td>NaN</td>\n",
       "      <td>NaN</td>\n",
       "      <td>0.231383</td>\n",
       "      <td>NaN</td>\n",
       "      <td>23.113227</td>\n",
       "      <td>11.198559</td>\n",
       "      <td>26.080189</td>\n",
       "      <td>0.19601</td>\n",
       "      <td>2.835681</td>\n",
       "      <td>4.763978</td>\n",
       "      <td>0.042493</td>\n",
       "    </tr>\n",
       "  </tbody>\n",
       "</table>\n",
       "</div>"
      ],
      "text/plain": [
       "          Severity                     Start_Time  \\\n",
       "count  1550.000000                           1550   \n",
       "mean      2.418065  2016-04-29 16:15:14.709032192   \n",
       "min       1.000000            2016-02-08 05:46:00   \n",
       "25%       2.000000     2016-02-25 06:56:26.500000   \n",
       "50%       2.000000     2016-06-21 13:25:19.500000   \n",
       "75%       3.000000  2016-06-24 17:19:20.750000128   \n",
       "max       4.000000            2016-06-28 13:29:19   \n",
       "std       0.501189                            NaN   \n",
       "\n",
       "                            End_Time    Start_Lat    Start_Lng  End_Lat  \\\n",
       "count                           1550  1550.000000  1550.000000      0.0   \n",
       "mean   2016-04-29 17:06:28.508387072    33.802781   -74.633556      NaN   \n",
       "min              2016-02-08 06:37:59    10.471271  -123.354477      NaN   \n",
       "25%       2016-02-25 07:26:26.500000    37.383432  -121.940712      NaN   \n",
       "50%              2016-06-21 14:04:54    38.005135  -121.157936      NaN   \n",
       "75%    2016-06-24 18:11:50.750000128    39.665883   -83.014377      NaN   \n",
       "max              2016-06-28 14:14:19    41.428753    80.287066      NaN   \n",
       "std                              NaN    10.398857    73.765646      NaN   \n",
       "\n",
       "       End_Lng  Distance(mi)              Weather_Timestamp  Temperature(F)  \\\n",
       "count      0.0   1550.000000                           1549     1549.000000   \n",
       "mean       NaN      0.022161  2016-04-29 17:01:26.378308864       58.768496   \n",
       "min        NaN      0.000000            2016-02-08 05:51:00        3.900000   \n",
       "25%        NaN      0.000000            2016-02-25 06:38:00       37.400000   \n",
       "50%        NaN      0.000000            2016-06-21 13:35:00       60.800000   \n",
       "75%        NaN      0.010000            2016-06-24 16:53:00       77.000000   \n",
       "max        NaN      7.070000            2016-06-28 13:53:00      104.000000   \n",
       "std        NaN      0.231383                            NaN       23.113227   \n",
       "\n",
       "       Wind_Chill(F)  Humidity(%)  Pressure(in)  Visibility(mi)  \\\n",
       "count     460.000000  1549.000000    1549.00000     1543.000000   \n",
       "mean       23.368696    58.690768      29.97694        8.651005   \n",
       "min        -8.400000     9.000000      28.62000        0.200000   \n",
       "25%        17.075000    37.000000      29.91000        9.000000   \n",
       "50%        25.200000    58.000000      29.99000       10.000000   \n",
       "75%        30.800000    82.000000      30.06000       10.000000   \n",
       "max        66.000000   100.000000      30.62000       30.000000   \n",
       "std        11.198559    26.080189       0.19601        2.835681   \n",
       "\n",
       "       Wind_Speed(mph)  Precipitation(in)  \n",
       "count      1424.000000         187.000000  \n",
       "mean          9.675421           0.021711  \n",
       "min           1.200000           0.000000  \n",
       "25%           5.800000           0.000000  \n",
       "50%           9.200000           0.000000  \n",
       "75%          12.700000           0.020000  \n",
       "max          31.100000           0.220000  \n",
       "std           4.763978           0.042493  "
      ]
     },
     "execution_count": 122,
     "metadata": {},
     "output_type": "execute_result"
    }
   ],
   "source": [
    "#used to generate descriptive statistics of a DataFrame\n",
    "acdf.describe()"
   ]
  },
  {
   "cell_type": "code",
   "execution_count": 123,
   "id": "865f9492-5f54-4d67-8bbc-60993c7f8c0d",
   "metadata": {},
   "outputs": [],
   "source": [
    "#Importing Necessary Libraries_2\n",
    "import plotly.express as px"
   ]
  },
  {
   "cell_type": "code",
   "execution_count": 124,
   "id": "5bc5dfcb-49c1-41a4-bf34-57d61ad77b81",
   "metadata": {},
   "outputs": [
    {
     "data": {
      "application/vnd.plotly.v1+json": {
       "config": {
        "plotlyServerURL": "https://plot.ly"
       },
       "data": [
        {
         "domain": {
          "x": [
           0,
           1
          ],
          "y": [
           0,
           1
          ]
         },
         "hovertemplate": "character=%{label}<br>parent=%{parent}<extra></extra>",
         "labels": [
          "Basic",
          "Location",
          "Environment",
          "Infrastructure",
          "ID",
          "Severity",
          "Start_Time",
          "End_Time",
          "Distance(mi)",
          "Description",
          "Start_Lat",
          "Start_Lng",
          "End_Lat",
          "End_Lng",
          "Number",
          "Street",
          "Side",
          "City",
          "County",
          "State",
          "Zipcode",
          "Country",
          "Timezone",
          "Airport_Code",
          "Weather_Timestamp",
          "Temperature(F)",
          "Wind_Chill(F)",
          "Humidity(%)",
          "Pressure(in)",
          "Visibility(mi)",
          "Wind_Direction",
          "Wind_Speed(mph)",
          "Precipitation(in)",
          "Weather_Condition",
          "Sunrise_Sunset",
          "Civil_Twilight",
          "Nautical_Twilight",
          "Astronomical_Twilight",
          "Amenity",
          "Bump",
          "Crossing",
          "Give_Way",
          "Junction",
          "No_Exit",
          "Railway",
          "Roundabout",
          "Station",
          "Stop",
          "Traffic_Calming",
          "Traffic_Signal",
          "Turning_Loop"
         ],
         "name": "",
         "parents": [
          "",
          "",
          "",
          "",
          "Basic",
          "Basic",
          "Basic",
          "Basic",
          "Basic",
          "Basic",
          "Location",
          "Location",
          "Location",
          "Location",
          "Location",
          "Location",
          "Location",
          "Location",
          "Location",
          "Location",
          "Location",
          "Location",
          "Location",
          "Location",
          "Environment",
          "Environment",
          "Environment",
          "Environment",
          "Environment",
          "Environment",
          "Environment",
          "Environment",
          "Environment",
          "Environment",
          "Environment",
          "Environment",
          "Environment",
          "Environment",
          "Infrastructure",
          "Infrastructure",
          "Infrastructure",
          "Infrastructure",
          "Infrastructure",
          "Infrastructure",
          "Infrastructure",
          "Infrastructure",
          "Infrastructure",
          "Infrastructure",
          "Infrastructure",
          "Infrastructure",
          "Infrastructure"
         ],
         "type": "sunburst"
        }
       ],
       "layout": {
        "autosize": false,
        "height": 600,
        "legend": {
         "tracegroupgap": 0
        },
        "margin": {
         "t": 60
        },
        "template": {
         "data": {
          "bar": [
           {
            "error_x": {
             "color": "#2a3f5f"
            },
            "error_y": {
             "color": "#2a3f5f"
            },
            "marker": {
             "line": {
              "color": "#E5ECF6",
              "width": 0.5
             },
             "pattern": {
              "fillmode": "overlay",
              "size": 10,
              "solidity": 0.2
             }
            },
            "type": "bar"
           }
          ],
          "barpolar": [
           {
            "marker": {
             "line": {
              "color": "#E5ECF6",
              "width": 0.5
             },
             "pattern": {
              "fillmode": "overlay",
              "size": 10,
              "solidity": 0.2
             }
            },
            "type": "barpolar"
           }
          ],
          "carpet": [
           {
            "aaxis": {
             "endlinecolor": "#2a3f5f",
             "gridcolor": "white",
             "linecolor": "white",
             "minorgridcolor": "white",
             "startlinecolor": "#2a3f5f"
            },
            "baxis": {
             "endlinecolor": "#2a3f5f",
             "gridcolor": "white",
             "linecolor": "white",
             "minorgridcolor": "white",
             "startlinecolor": "#2a3f5f"
            },
            "type": "carpet"
           }
          ],
          "choropleth": [
           {
            "colorbar": {
             "outlinewidth": 0,
             "ticks": ""
            },
            "type": "choropleth"
           }
          ],
          "contour": [
           {
            "colorbar": {
             "outlinewidth": 0,
             "ticks": ""
            },
            "colorscale": [
             [
              0,
              "#0d0887"
             ],
             [
              0.1111111111111111,
              "#46039f"
             ],
             [
              0.2222222222222222,
              "#7201a8"
             ],
             [
              0.3333333333333333,
              "#9c179e"
             ],
             [
              0.4444444444444444,
              "#bd3786"
             ],
             [
              0.5555555555555556,
              "#d8576b"
             ],
             [
              0.6666666666666666,
              "#ed7953"
             ],
             [
              0.7777777777777778,
              "#fb9f3a"
             ],
             [
              0.8888888888888888,
              "#fdca26"
             ],
             [
              1,
              "#f0f921"
             ]
            ],
            "type": "contour"
           }
          ],
          "contourcarpet": [
           {
            "colorbar": {
             "outlinewidth": 0,
             "ticks": ""
            },
            "type": "contourcarpet"
           }
          ],
          "heatmap": [
           {
            "colorbar": {
             "outlinewidth": 0,
             "ticks": ""
            },
            "colorscale": [
             [
              0,
              "#0d0887"
             ],
             [
              0.1111111111111111,
              "#46039f"
             ],
             [
              0.2222222222222222,
              "#7201a8"
             ],
             [
              0.3333333333333333,
              "#9c179e"
             ],
             [
              0.4444444444444444,
              "#bd3786"
             ],
             [
              0.5555555555555556,
              "#d8576b"
             ],
             [
              0.6666666666666666,
              "#ed7953"
             ],
             [
              0.7777777777777778,
              "#fb9f3a"
             ],
             [
              0.8888888888888888,
              "#fdca26"
             ],
             [
              1,
              "#f0f921"
             ]
            ],
            "type": "heatmap"
           }
          ],
          "heatmapgl": [
           {
            "colorbar": {
             "outlinewidth": 0,
             "ticks": ""
            },
            "colorscale": [
             [
              0,
              "#0d0887"
             ],
             [
              0.1111111111111111,
              "#46039f"
             ],
             [
              0.2222222222222222,
              "#7201a8"
             ],
             [
              0.3333333333333333,
              "#9c179e"
             ],
             [
              0.4444444444444444,
              "#bd3786"
             ],
             [
              0.5555555555555556,
              "#d8576b"
             ],
             [
              0.6666666666666666,
              "#ed7953"
             ],
             [
              0.7777777777777778,
              "#fb9f3a"
             ],
             [
              0.8888888888888888,
              "#fdca26"
             ],
             [
              1,
              "#f0f921"
             ]
            ],
            "type": "heatmapgl"
           }
          ],
          "histogram": [
           {
            "marker": {
             "pattern": {
              "fillmode": "overlay",
              "size": 10,
              "solidity": 0.2
             }
            },
            "type": "histogram"
           }
          ],
          "histogram2d": [
           {
            "colorbar": {
             "outlinewidth": 0,
             "ticks": ""
            },
            "colorscale": [
             [
              0,
              "#0d0887"
             ],
             [
              0.1111111111111111,
              "#46039f"
             ],
             [
              0.2222222222222222,
              "#7201a8"
             ],
             [
              0.3333333333333333,
              "#9c179e"
             ],
             [
              0.4444444444444444,
              "#bd3786"
             ],
             [
              0.5555555555555556,
              "#d8576b"
             ],
             [
              0.6666666666666666,
              "#ed7953"
             ],
             [
              0.7777777777777778,
              "#fb9f3a"
             ],
             [
              0.8888888888888888,
              "#fdca26"
             ],
             [
              1,
              "#f0f921"
             ]
            ],
            "type": "histogram2d"
           }
          ],
          "histogram2dcontour": [
           {
            "colorbar": {
             "outlinewidth": 0,
             "ticks": ""
            },
            "colorscale": [
             [
              0,
              "#0d0887"
             ],
             [
              0.1111111111111111,
              "#46039f"
             ],
             [
              0.2222222222222222,
              "#7201a8"
             ],
             [
              0.3333333333333333,
              "#9c179e"
             ],
             [
              0.4444444444444444,
              "#bd3786"
             ],
             [
              0.5555555555555556,
              "#d8576b"
             ],
             [
              0.6666666666666666,
              "#ed7953"
             ],
             [
              0.7777777777777778,
              "#fb9f3a"
             ],
             [
              0.8888888888888888,
              "#fdca26"
             ],
             [
              1,
              "#f0f921"
             ]
            ],
            "type": "histogram2dcontour"
           }
          ],
          "mesh3d": [
           {
            "colorbar": {
             "outlinewidth": 0,
             "ticks": ""
            },
            "type": "mesh3d"
           }
          ],
          "parcoords": [
           {
            "line": {
             "colorbar": {
              "outlinewidth": 0,
              "ticks": ""
             }
            },
            "type": "parcoords"
           }
          ],
          "pie": [
           {
            "automargin": true,
            "type": "pie"
           }
          ],
          "scatter": [
           {
            "fillpattern": {
             "fillmode": "overlay",
             "size": 10,
             "solidity": 0.2
            },
            "type": "scatter"
           }
          ],
          "scatter3d": [
           {
            "line": {
             "colorbar": {
              "outlinewidth": 0,
              "ticks": ""
             }
            },
            "marker": {
             "colorbar": {
              "outlinewidth": 0,
              "ticks": ""
             }
            },
            "type": "scatter3d"
           }
          ],
          "scattercarpet": [
           {
            "marker": {
             "colorbar": {
              "outlinewidth": 0,
              "ticks": ""
             }
            },
            "type": "scattercarpet"
           }
          ],
          "scattergeo": [
           {
            "marker": {
             "colorbar": {
              "outlinewidth": 0,
              "ticks": ""
             }
            },
            "type": "scattergeo"
           }
          ],
          "scattergl": [
           {
            "marker": {
             "colorbar": {
              "outlinewidth": 0,
              "ticks": ""
             }
            },
            "type": "scattergl"
           }
          ],
          "scattermapbox": [
           {
            "marker": {
             "colorbar": {
              "outlinewidth": 0,
              "ticks": ""
             }
            },
            "type": "scattermapbox"
           }
          ],
          "scatterpolar": [
           {
            "marker": {
             "colorbar": {
              "outlinewidth": 0,
              "ticks": ""
             }
            },
            "type": "scatterpolar"
           }
          ],
          "scatterpolargl": [
           {
            "marker": {
             "colorbar": {
              "outlinewidth": 0,
              "ticks": ""
             }
            },
            "type": "scatterpolargl"
           }
          ],
          "scatterternary": [
           {
            "marker": {
             "colorbar": {
              "outlinewidth": 0,
              "ticks": ""
             }
            },
            "type": "scatterternary"
           }
          ],
          "surface": [
           {
            "colorbar": {
             "outlinewidth": 0,
             "ticks": ""
            },
            "colorscale": [
             [
              0,
              "#0d0887"
             ],
             [
              0.1111111111111111,
              "#46039f"
             ],
             [
              0.2222222222222222,
              "#7201a8"
             ],
             [
              0.3333333333333333,
              "#9c179e"
             ],
             [
              0.4444444444444444,
              "#bd3786"
             ],
             [
              0.5555555555555556,
              "#d8576b"
             ],
             [
              0.6666666666666666,
              "#ed7953"
             ],
             [
              0.7777777777777778,
              "#fb9f3a"
             ],
             [
              0.8888888888888888,
              "#fdca26"
             ],
             [
              1,
              "#f0f921"
             ]
            ],
            "type": "surface"
           }
          ],
          "table": [
           {
            "cells": {
             "fill": {
              "color": "#EBF0F8"
             },
             "line": {
              "color": "white"
             }
            },
            "header": {
             "fill": {
              "color": "#C8D4E3"
             },
             "line": {
              "color": "white"
             }
            },
            "type": "table"
           }
          ]
         },
         "layout": {
          "annotationdefaults": {
           "arrowcolor": "#2a3f5f",
           "arrowhead": 0,
           "arrowwidth": 1
          },
          "autotypenumbers": "strict",
          "coloraxis": {
           "colorbar": {
            "outlinewidth": 0,
            "ticks": ""
           }
          },
          "colorscale": {
           "diverging": [
            [
             0,
             "#8e0152"
            ],
            [
             0.1,
             "#c51b7d"
            ],
            [
             0.2,
             "#de77ae"
            ],
            [
             0.3,
             "#f1b6da"
            ],
            [
             0.4,
             "#fde0ef"
            ],
            [
             0.5,
             "#f7f7f7"
            ],
            [
             0.6,
             "#e6f5d0"
            ],
            [
             0.7,
             "#b8e186"
            ],
            [
             0.8,
             "#7fbc41"
            ],
            [
             0.9,
             "#4d9221"
            ],
            [
             1,
             "#276419"
            ]
           ],
           "sequential": [
            [
             0,
             "#0d0887"
            ],
            [
             0.1111111111111111,
             "#46039f"
            ],
            [
             0.2222222222222222,
             "#7201a8"
            ],
            [
             0.3333333333333333,
             "#9c179e"
            ],
            [
             0.4444444444444444,
             "#bd3786"
            ],
            [
             0.5555555555555556,
             "#d8576b"
            ],
            [
             0.6666666666666666,
             "#ed7953"
            ],
            [
             0.7777777777777778,
             "#fb9f3a"
            ],
            [
             0.8888888888888888,
             "#fdca26"
            ],
            [
             1,
             "#f0f921"
            ]
           ],
           "sequentialminus": [
            [
             0,
             "#0d0887"
            ],
            [
             0.1111111111111111,
             "#46039f"
            ],
            [
             0.2222222222222222,
             "#7201a8"
            ],
            [
             0.3333333333333333,
             "#9c179e"
            ],
            [
             0.4444444444444444,
             "#bd3786"
            ],
            [
             0.5555555555555556,
             "#d8576b"
            ],
            [
             0.6666666666666666,
             "#ed7953"
            ],
            [
             0.7777777777777778,
             "#fb9f3a"
            ],
            [
             0.8888888888888888,
             "#fdca26"
            ],
            [
             1,
             "#f0f921"
            ]
           ]
          },
          "colorway": [
           "#636efa",
           "#EF553B",
           "#00cc96",
           "#ab63fa",
           "#FFA15A",
           "#19d3f3",
           "#FF6692",
           "#B6E880",
           "#FF97FF",
           "#FECB52"
          ],
          "font": {
           "color": "#2a3f5f"
          },
          "geo": {
           "bgcolor": "white",
           "lakecolor": "white",
           "landcolor": "#E5ECF6",
           "showlakes": true,
           "showland": true,
           "subunitcolor": "white"
          },
          "hoverlabel": {
           "align": "left"
          },
          "hovermode": "closest",
          "mapbox": {
           "style": "light"
          },
          "paper_bgcolor": "white",
          "plot_bgcolor": "#E5ECF6",
          "polar": {
           "angularaxis": {
            "gridcolor": "white",
            "linecolor": "white",
            "ticks": ""
           },
           "bgcolor": "#E5ECF6",
           "radialaxis": {
            "gridcolor": "white",
            "linecolor": "white",
            "ticks": ""
           }
          },
          "scene": {
           "xaxis": {
            "backgroundcolor": "#E5ECF6",
            "gridcolor": "white",
            "gridwidth": 2,
            "linecolor": "white",
            "showbackground": true,
            "ticks": "",
            "zerolinecolor": "white"
           },
           "yaxis": {
            "backgroundcolor": "#E5ECF6",
            "gridcolor": "white",
            "gridwidth": 2,
            "linecolor": "white",
            "showbackground": true,
            "ticks": "",
            "zerolinecolor": "white"
           },
           "zaxis": {
            "backgroundcolor": "#E5ECF6",
            "gridcolor": "white",
            "gridwidth": 2,
            "linecolor": "white",
            "showbackground": true,
            "ticks": "",
            "zerolinecolor": "white"
           }
          },
          "shapedefaults": {
           "line": {
            "color": "#2a3f5f"
           }
          },
          "ternary": {
           "aaxis": {
            "gridcolor": "white",
            "linecolor": "white",
            "ticks": ""
           },
           "baxis": {
            "gridcolor": "white",
            "linecolor": "white",
            "ticks": ""
           },
           "bgcolor": "#E5ECF6",
           "caxis": {
            "gridcolor": "white",
            "linecolor": "white",
            "ticks": ""
           }
          },
          "title": {
           "x": 0.05
          },
          "xaxis": {
           "automargin": true,
           "gridcolor": "white",
           "linecolor": "white",
           "ticks": "",
           "title": {
            "standoff": 15
           },
           "zerolinecolor": "white",
           "zerolinewidth": 2
          },
          "yaxis": {
           "automargin": true,
           "gridcolor": "white",
           "linecolor": "white",
           "ticks": "",
           "title": {
            "standoff": 15
           },
           "zerolinecolor": "white",
           "zerolinewidth": 2
          }
         }
        },
        "title": {
         "text": "Data Categorizing",
         "x": 0.5,
         "xanchor": "center",
         "y": 0.95,
         "yanchor": "top"
        },
        "width": 600
       }
      },
      "image/png": "[encoded data removed]",
      "text/html": [
       "<div>                            <div id=\"e85fbdbc-217d-414c-b66a-58954ebcd767\" class=\"plotly-graph-div\" style=\"height:600px; width:600px;\"></div>            <script type=\"text/javascript\">                require([\"plotly\"], function(Plotly) {                    window.PLOTLYENV=window.PLOTLYENV || {};                                    if (document.getElementById(\"e85fbdbc-217d-414c-b66a-58954ebcd767\")) {                    Plotly.newPlot(                        \"e85fbdbc-217d-414c-b66a-58954ebcd767\",                        [{\"domain\":{\"x\":[0.0,1.0],\"y\":[0.0,1.0]},\"hovertemplate\":\"character=%{label}<br>parent=%{parent}<extra></extra>\",\"labels\":[\"Basic\",\"Location\",\"Environment\",\"Infrastructure\",\"ID\",\"Severity\",\"Start_Time\",\"End_Time\",\"Distance(mi)\",\"Description\",\"Start_Lat\",\"Start_Lng\",\"End_Lat\",\"End_Lng\",\"Number\",\"Street\",\"Side\",\"City\",\"County\",\"State\",\"Zipcode\",\"Country\",\"Timezone\",\"Airport_Code\",\"Weather_Timestamp\",\"Temperature(F)\",\"Wind_Chill(F)\",\"Humidity(%)\",\"Pressure(in)\",\"Visibility(mi)\",\"Wind_Direction\",\"Wind_Speed(mph)\",\"Precipitation(in)\",\"Weather_Condition\",\"Sunrise_Sunset\",\"Civil_Twilight\",\"Nautical_Twilight\",\"Astronomical_Twilight\",\"Amenity\",\"Bump\",\"Crossing\",\"Give_Way\",\"Junction\",\"No_Exit\",\"Railway\",\"Roundabout\",\"Station\",\"Stop\",\"Traffic_Calming\",\"Traffic_Signal\",\"Turning_Loop\"],\"name\":\"\",\"parents\":[\"\",\"\",\"\",\"\",\"Basic\",\"Basic\",\"Basic\",\"Basic\",\"Basic\",\"Basic\",\"Location\",\"Location\",\"Location\",\"Location\",\"Location\",\"Location\",\"Location\",\"Location\",\"Location\",\"Location\",\"Location\",\"Location\",\"Location\",\"Location\",\"Environment\",\"Environment\",\"Environment\",\"Environment\",\"Environment\",\"Environment\",\"Environment\",\"Environment\",\"Environment\",\"Environment\",\"Environment\",\"Environment\",\"Environment\",\"Environment\",\"Infrastructure\",\"Infrastructure\",\"Infrastructure\",\"Infrastructure\",\"Infrastructure\",\"Infrastructure\",\"Infrastructure\",\"Infrastructure\",\"Infrastructure\",\"Infrastructure\",\"Infrastructure\",\"Infrastructure\",\"Infrastructure\"],\"type\":\"sunburst\"}],                        {\"template\":{\"data\":{\"histogram2dcontour\":[{\"type\":\"histogram2dcontour\",\"colorbar\":{\"outlinewidth\":0,\"ticks\":\"\"},\"colorscale\":[[0.0,\"#0d0887\"],[0.1111111111111111,\"#46039f\"],[0.2222222222222222,\"#7201a8\"],[0.3333333333333333,\"#9c179e\"],[0.4444444444444444,\"#bd3786\"],[0.5555555555555556,\"#d8576b\"],[0.6666666666666666,\"#ed7953\"],[0.7777777777777778,\"#fb9f3a\"],[0.8888888888888888,\"#fdca26\"],[1.0,\"#f0f921\"]]}],\"choropleth\":[{\"type\":\"choropleth\",\"colorbar\":{\"outlinewidth\":0,\"ticks\":\"\"}}],\"histogram2d\":[{\"type\":\"histogram2d\",\"colorbar\":{\"outlinewidth\":0,\"ticks\":\"\"},\"colorscale\":[[0.0,\"#0d0887\"],[0.1111111111111111,\"#46039f\"],[0.2222222222222222,\"#7201a8\"],[0.3333333333333333,\"#9c179e\"],[0.4444444444444444,\"#bd3786\"],[0.5555555555555556,\"#d8576b\"],[0.6666666666666666,\"#ed7953\"],[0.7777777777777778,\"#fb9f3a\"],[0.8888888888888888,\"#fdca26\"],[1.0,\"#f0f921\"]]}],\"heatmap\":[{\"type\":\"heatmap\",\"colorbar\":{\"outlinewidth\":0,\"ticks\":\"\"},\"colorscale\":[[0.0,\"#0d0887\"],[0.1111111111111111,\"#46039f\"],[0.2222222222222222,\"#7201a8\"],[0.3333333333333333,\"#9c179e\"],[0.4444444444444444,\"#bd3786\"],[0.5555555555555556,\"#d8576b\"],[0.6666666666666666,\"#ed7953\"],[0.7777777777777778,\"#fb9f3a\"],[0.8888888888888888,\"#fdca26\"],[1.0,\"#f0f921\"]]}],\"heatmapgl\":[{\"type\":\"heatmapgl\",\"colorbar\":{\"outlinewidth\":0,\"ticks\":\"\"},\"colorscale\":[[0.0,\"#0d0887\"],[0.1111111111111111,\"#46039f\"],[0.2222222222222222,\"#7201a8\"],[0.3333333333333333,\"#9c179e\"],[0.4444444444444444,\"#bd3786\"],[0.5555555555555556,\"#d8576b\"],[0.6666666666666666,\"#ed7953\"],[0.7777777777777778,\"#fb9f3a\"],[0.8888888888888888,\"#fdca26\"],[1.0,\"#f0f921\"]]}],\"contourcarpet\":[{\"type\":\"contourcarpet\",\"colorbar\":{\"outlinewidth\":0,\"ticks\":\"\"}}],\"contour\":[{\"type\":\"contour\",\"colorbar\":{\"outlinewidth\":0,\"ticks\":\"\"},\"colorscale\":[[0.0,\"#0d0887\"],[0.1111111111111111,\"#46039f\"],[0.2222222222222222,\"#7201a8\"],[0.3333333333333333,\"#9c179e\"],[0.4444444444444444,\"#bd3786\"],[0.5555555555555556,\"#d8576b\"],[0.6666666666666666,\"#ed7953\"],[0.7777777777777778,\"#fb9f3a\"],[0.8888888888888888,\"#fdca26\"],[1.0,\"#f0f921\"]]}],\"surface\":[{\"type\":\"surface\",\"colorbar\":{\"outlinewidth\":0,\"ticks\":\"\"},\"colorscale\":[[0.0,\"#0d0887\"],[0.1111111111111111,\"#46039f\"],[0.2222222222222222,\"#7201a8\"],[0.3333333333333333,\"#9c179e\"],[0.4444444444444444,\"#bd3786\"],[0.5555555555555556,\"#d8576b\"],[0.6666666666666666,\"#ed7953\"],[0.7777777777777778,\"#fb9f3a\"],[0.8888888888888888,\"#fdca26\"],[1.0,\"#f0f921\"]]}],\"mesh3d\":[{\"type\":\"mesh3d\",\"colorbar\":{\"outlinewidth\":0,\"ticks\":\"\"}}],\"scatter\":[{\"fillpattern\":{\"fillmode\":\"overlay\",\"size\":10,\"solidity\":0.2},\"type\":\"scatter\"}],\"parcoords\":[{\"type\":\"parcoords\",\"line\":{\"colorbar\":{\"outlinewidth\":0,\"ticks\":\"\"}}}],\"scatterpolargl\":[{\"type\":\"scatterpolargl\",\"marker\":{\"colorbar\":{\"outlinewidth\":0,\"ticks\":\"\"}}}],\"bar\":[{\"error_x\":{\"color\":\"#2a3f5f\"},\"error_y\":{\"color\":\"#2a3f5f\"},\"marker\":{\"line\":{\"color\":\"#E5ECF6\",\"width\":0.5},\"pattern\":{\"fillmode\":\"overlay\",\"size\":10,\"solidity\":0.2}},\"type\":\"bar\"}],\"scattergeo\":[{\"type\":\"scattergeo\",\"marker\":{\"colorbar\":{\"outlinewidth\":0,\"ticks\":\"\"}}}],\"scatterpolar\":[{\"type\":\"scatterpolar\",\"marker\":{\"colorbar\":{\"outlinewidth\":0,\"ticks\":\"\"}}}],\"histogram\":[{\"marker\":{\"pattern\":{\"fillmode\":\"overlay\",\"size\":10,\"solidity\":0.2}},\"type\":\"histogram\"}],\"scattergl\":[{\"type\":\"scattergl\",\"marker\":{\"colorbar\":{\"outlinewidth\":0,\"ticks\":\"\"}}}],\"scatter3d\":[{\"type\":\"scatter3d\",\"line\":{\"colorbar\":{\"outlinewidth\":0,\"ticks\":\"\"}},\"marker\":{\"colorbar\":{\"outlinewidth\":0,\"ticks\":\"\"}}}],\"scattermapbox\":[{\"type\":\"scattermapbox\",\"marker\":{\"colorbar\":{\"outlinewidth\":0,\"ticks\":\"\"}}}],\"scatterternary\":[{\"type\":\"scatterternary\",\"marker\":{\"colorbar\":{\"outlinewidth\":0,\"ticks\":\"\"}}}],\"scattercarpet\":[{\"type\":\"scattercarpet\",\"marker\":{\"colorbar\":{\"outlinewidth\":0,\"ticks\":\"\"}}}],\"carpet\":[{\"aaxis\":{\"endlinecolor\":\"#2a3f5f\",\"gridcolor\":\"white\",\"linecolor\":\"white\",\"minorgridcolor\":\"white\",\"startlinecolor\":\"#2a3f5f\"},\"baxis\":{\"endlinecolor\":\"#2a3f5f\",\"gridcolor\":\"white\",\"linecolor\":\"white\",\"minorgridcolor\":\"white\",\"startlinecolor\":\"#2a3f5f\"},\"type\":\"carpet\"}],\"table\":[{\"cells\":{\"fill\":{\"color\":\"#EBF0F8\"},\"line\":{\"color\":\"white\"}},\"header\":{\"fill\":{\"color\":\"#C8D4E3\"},\"line\":{\"color\":\"white\"}},\"type\":\"table\"}],\"barpolar\":[{\"marker\":{\"line\":{\"color\":\"#E5ECF6\",\"width\":0.5},\"pattern\":{\"fillmode\":\"overlay\",\"size\":10,\"solidity\":0.2}},\"type\":\"barpolar\"}],\"pie\":[{\"automargin\":true,\"type\":\"pie\"}]},\"layout\":{\"autotypenumbers\":\"strict\",\"colorway\":[\"#636efa\",\"#EF553B\",\"#00cc96\",\"#ab63fa\",\"#FFA15A\",\"#19d3f3\",\"#FF6692\",\"#B6E880\",\"#FF97FF\",\"#FECB52\"],\"font\":{\"color\":\"#2a3f5f\"},\"hovermode\":\"closest\",\"hoverlabel\":{\"align\":\"left\"},\"paper_bgcolor\":\"white\",\"plot_bgcolor\":\"#E5ECF6\",\"polar\":{\"bgcolor\":\"#E5ECF6\",\"angularaxis\":{\"gridcolor\":\"white\",\"linecolor\":\"white\",\"ticks\":\"\"},\"radialaxis\":{\"gridcolor\":\"white\",\"linecolor\":\"white\",\"ticks\":\"\"}},\"ternary\":{\"bgcolor\":\"#E5ECF6\",\"aaxis\":{\"gridcolor\":\"white\",\"linecolor\":\"white\",\"ticks\":\"\"},\"baxis\":{\"gridcolor\":\"white\",\"linecolor\":\"white\",\"ticks\":\"\"},\"caxis\":{\"gridcolor\":\"white\",\"linecolor\":\"white\",\"ticks\":\"\"}},\"coloraxis\":{\"colorbar\":{\"outlinewidth\":0,\"ticks\":\"\"}},\"colorscale\":{\"sequential\":[[0.0,\"#0d0887\"],[0.1111111111111111,\"#46039f\"],[0.2222222222222222,\"#7201a8\"],[0.3333333333333333,\"#9c179e\"],[0.4444444444444444,\"#bd3786\"],[0.5555555555555556,\"#d8576b\"],[0.6666666666666666,\"#ed7953\"],[0.7777777777777778,\"#fb9f3a\"],[0.8888888888888888,\"#fdca26\"],[1.0,\"#f0f921\"]],\"sequentialminus\":[[0.0,\"#0d0887\"],[0.1111111111111111,\"#46039f\"],[0.2222222222222222,\"#7201a8\"],[0.3333333333333333,\"#9c179e\"],[0.4444444444444444,\"#bd3786\"],[0.5555555555555556,\"#d8576b\"],[0.6666666666666666,\"#ed7953\"],[0.7777777777777778,\"#fb9f3a\"],[0.8888888888888888,\"#fdca26\"],[1.0,\"#f0f921\"]],\"diverging\":[[0,\"#8e0152\"],[0.1,\"#c51b7d\"],[0.2,\"#de77ae\"],[0.3,\"#f1b6da\"],[0.4,\"#fde0ef\"],[0.5,\"#f7f7f7\"],[0.6,\"#e6f5d0\"],[0.7,\"#b8e186\"],[0.8,\"#7fbc41\"],[0.9,\"#4d9221\"],[1,\"#276419\"]]},\"xaxis\":{\"gridcolor\":\"white\",\"linecolor\":\"white\",\"ticks\":\"\",\"title\":{\"standoff\":15},\"zerolinecolor\":\"white\",\"automargin\":true,\"zerolinewidth\":2},\"yaxis\":{\"gridcolor\":\"white\",\"linecolor\":\"white\",\"ticks\":\"\",\"title\":{\"standoff\":15},\"zerolinecolor\":\"white\",\"automargin\":true,\"zerolinewidth\":2},\"scene\":{\"xaxis\":{\"backgroundcolor\":\"#E5ECF6\",\"gridcolor\":\"white\",\"linecolor\":\"white\",\"showbackground\":true,\"ticks\":\"\",\"zerolinecolor\":\"white\",\"gridwidth\":2},\"yaxis\":{\"backgroundcolor\":\"#E5ECF6\",\"gridcolor\":\"white\",\"linecolor\":\"white\",\"showbackground\":true,\"ticks\":\"\",\"zerolinecolor\":\"white\",\"gridwidth\":2},\"zaxis\":{\"backgroundcolor\":\"#E5ECF6\",\"gridcolor\":\"white\",\"linecolor\":\"white\",\"showbackground\":true,\"ticks\":\"\",\"zerolinecolor\":\"white\",\"gridwidth\":2}},\"shapedefaults\":{\"line\":{\"color\":\"#2a3f5f\"}},\"annotationdefaults\":{\"arrowcolor\":\"#2a3f5f\",\"arrowhead\":0,\"arrowwidth\":1},\"geo\":{\"bgcolor\":\"white\",\"landcolor\":\"#E5ECF6\",\"subunitcolor\":\"white\",\"showland\":true,\"showlakes\":true,\"lakecolor\":\"white\"},\"title\":{\"x\":0.05},\"mapbox\":{\"style\":\"light\"}}},\"legend\":{\"tracegroupgap\":0},\"margin\":{\"t\":60},\"title\":{\"text\":\"Data Categorizing\",\"y\":0.95,\"x\":0.5,\"xanchor\":\"center\",\"yanchor\":\"top\"},\"autosize\":false,\"width\":600,\"height\":600},                        {\"responsive\": true}                    ).then(function(){\n",
       "                            \n",
       "var gd = document.getElementById('e85fbdbc-217d-414c-b66a-58954ebcd767');\n",
       "var x = new MutationObserver(function (mutations, observer) {{\n",
       "        var display = window.getComputedStyle(gd).display;\n",
       "        if (!display || display === 'none') {{\n",
       "            console.log([gd, 'removed!']);\n",
       "            Plotly.purge(gd);\n",
       "            observer.disconnect();\n",
       "        }}\n",
       "}});\n",
       "\n",
       "// Listen for the removal of the full notebook cells\n",
       "var notebookContainer = gd.closest('#notebook-container');\n",
       "if (notebookContainer) {{\n",
       "    x.observe(notebookContainer, {childList: true});\n",
       "}}\n",
       "\n",
       "// Listen for the clearing of the current output cell\n",
       "var outputEl = gd.closest('.output');\n",
       "if (outputEl) {{\n",
       "    x.observe(outputEl, {childList: true});\n",
       "}}\n",
       "\n",
       "                        })                };                });            </script>        </div>"
      ]
     },
     "metadata": {},
     "output_type": "display_data"
    }
   ],
   "source": [
    "# Category Visualization\n",
    "# https://plotly.com/python/sunburst-charts/\n",
    "data_category = dict(\n",
    "    character=[\"Basic\", \"Location\", \"Environment\", \"Infrastructure\", 'ID', 'Severity', 'Start_Time', 'End_Time', 'Distance(mi)', 'Description', 'Start_Lat', 'Start_Lng','End_Lat', 'End_Lng', 'Number', 'Street','Side', 'City', 'County', 'State', 'Zipcode', 'Country', 'Timezone', 'Airport_Code', 'Weather_Timestamp', 'Temperature(F)', 'Wind_Chill(F)', 'Humidity(%)', 'Pressure(in)', 'Visibility(mi)', 'Wind_Direction', 'Wind_Speed(mph)', 'Precipitation(in)', 'Weather_Condition', 'Sunrise_Sunset', 'Civil_Twilight', 'Nautical_Twilight', 'Astronomical_Twilight', 'Amenity', 'Bump', 'Crossing', 'Give_Way', 'Junction', 'No_Exit', 'Railway', 'Roundabout', 'Station', 'Stop', 'Traffic_Calming', 'Traffic_Signal', 'Turning_Loop'],\n",
    "    parent=[\"\",\"\",\"\",\"\",\"Basic\", \"Basic\", \"Basic\", \"Basic\", \"Basic\", \"Basic\", \"Location\", \"Location\", \"Location\", \"Location\", \"Location\", \"Location\", \"Location\", \"Location\", \"Location\", \"Location\", \"Location\", \"Location\", \"Location\", \"Location\", \"Environment\", \"Environment\", \"Environment\", \"Environment\", \"Environment\", \"Environment\", \"Environment\", \"Environment\", \"Environment\", \"Environment\", \"Environment\", \"Environment\", \"Environment\", \"Environment\", \"Infrastructure\", \"Infrastructure\", \"Infrastructure\", \"Infrastructure\", \"Infrastructure\", \"Infrastructure\", \"Infrastructure\", \"Infrastructure\", \"Infrastructure\", \"Infrastructure\", \"Infrastructure\", \"Infrastructure\", \"Infrastructure\"],\n",
    ")\n",
    "\n",
    "category_fig =px.sunburst(\n",
    "    data_category,\n",
    "    names='character',\n",
    "    parents='parent'\n",
    ")\n",
    "category_fig.update_layout(\n",
    "    autosize=False,\n",
    "    width=600,\n",
    "    height=600,\n",
    "    title={\n",
    "        'text': \"Data Categorizing\",\n",
    "        'y':0.95,\n",
    "        'x':0.5,\n",
    "        'xanchor': 'center',\n",
    "        'yanchor': 'top'})\n",
    "category_fig.show()"
   ]
  },
  {
   "cell_type": "code",
   "execution_count": 125,
   "id": "4293d555-c3b3-4d5d-8f12-790c757b055b",
   "metadata": {},
   "outputs": [
    {
     "data": {
      "text/plain": [
       "0"
      ]
     },
     "execution_count": 125,
     "metadata": {},
     "output_type": "execute_result"
    }
   ],
   "source": [
    "#Data preprocessing\n",
    "#searching about duplicated values\n",
    "acdf.duplicated().sum()"
   ]
  },
  {
   "cell_type": "code",
   "execution_count": 126,
   "id": "5b443642-6dc1-45c8-8ccb-7cbd481fc108",
   "metadata": {},
   "outputs": [
    {
     "data": {
      "text/plain": [
       "ID                          0\n",
       "Source                      0\n",
       "Severity                    0\n",
       "Start_Time                  0\n",
       "End_Time                    0\n",
       "Start_Lat                   0\n",
       "Start_Lng                   0\n",
       "End_Lat                  1550\n",
       "End_Lng                  1550\n",
       "Distance(mi)                0\n",
       "Description                 0\n",
       "Street                      0\n",
       "City                        0\n",
       "County                      0\n",
       "State                       0\n",
       "Zipcode                     0\n",
       "Country                     0\n",
       "Timezone                    0\n",
       "Airport_Code                0\n",
       "Weather_Timestamp           1\n",
       "Temperature(F)              1\n",
       "Wind_Chill(F)            1090\n",
       "Humidity(%)                 1\n",
       "Pressure(in)                1\n",
       "Visibility(mi)              7\n",
       "Wind_Direction              1\n",
       "Wind_Speed(mph)           126\n",
       "Precipitation(in)        1363\n",
       "Weather_Condition           3\n",
       "Amenity                     0\n",
       "Bump                        0\n",
       "Crossing                    0\n",
       "Give_Way                    0\n",
       "Junction                    0\n",
       "No_Exit                     0\n",
       "Railway                     0\n",
       "Roundabout                  0\n",
       "Station                     0\n",
       "Stop                        0\n",
       "Traffic_Calming             0\n",
       "Traffic_Signal              0\n",
       "Turning_Loop                0\n",
       "Sunrise_Sunset              0\n",
       "Civil_Twilight              0\n",
       "Nautical_Twilight           0\n",
       "Astronomical_Twilight       0\n",
       "dtype: int64"
      ]
     },
     "execution_count": 126,
     "metadata": {},
     "output_type": "execute_result"
    }
   ],
   "source": [
    "#Filling Missing Values\n",
    "acdf.isnull().sum()"
   ]
  },
  {
   "cell_type": "code",
   "execution_count": 127,
   "id": "f7220504-3842-46d8-b97d-8248bceb74f7",
   "metadata": {},
   "outputs": [
    {
     "data": {
      "image/png": "[encoded data removed]",
      "text/plain": [
       "<Figure size 600x600 with 1 Axes>"
      ]
     },
     "metadata": {},
     "output_type": "display_data"
    }
   ],
   "source": [
    "missing_df = acdf.isnull().sum(axis=0).reset_index()\n",
    "missing_df.columns = ['column_name', 'missing_count']\n",
    "\n",
    "missing_df = missing_df.loc[missing_df['missing_count'] > 0]\n",
    "missing_df = missing_df.sort_values(by='missing_count')\n",
    "\n",
    "ind = np.arange(missing_df.shape[0])\n",
    "width = 0.5\n",
    "fig, ax = plt.subplots(figsize=(6, 6))\n",
    "rects = ax.barh(ind, missing_df['missing_count'], color='blue')\n",
    "ax.set_yticks(ind)\n",
    "ax.set_yticklabels(missing_df['column_name'], rotation='horizontal')\n",
    "ax.set_xlabel(\"Count of missing values\")\n",
    "ax.set_title(\"Number of missing values in each column\")\n",
    "plt.show()"
   ]
  },
  {
   "cell_type": "code",
   "execution_count": 128,
   "id": "564b6ced-317d-4bf1-96fa-fc82f7e82d66",
   "metadata": {},
   "outputs": [],
   "source": [
    "#Drop these columns because they have more null values.\n",
    "acdf.drop(columns=['End_Lat', 'End_Lng','Wind_Chill(F)','Turning_Loop'],inplace= True)"
   ]
  },
  {
   "cell_type": "code",
   "execution_count": 129,
   "id": "8eeb81a9-87a7-4b87-9487-183e1c8a2e70",
   "metadata": {},
   "outputs": [
    {
     "data": {
      "text/html": [
       "<div>\n",
       "<style scoped>\n",
       "    .dataframe tbody tr th:only-of-type {\n",
       "        vertical-align: middle;\n",
       "    }\n",
       "\n",
       "    .dataframe tbody tr th {\n",
       "        vertical-align: top;\n",
       "    }\n",
       "\n",
       "    .dataframe thead th {\n",
       "        text-align: right;\n",
       "    }\n",
       "</style>\n",
       "<table border=\"1\" class=\"dataframe\">\n",
       "  <thead>\n",
       "    <tr style=\"text-align: right;\">\n",
       "      <th></th>\n",
       "      <th>Precipitation(in)</th>\n",
       "      <th>Precipitation_NA</th>\n",
       "    </tr>\n",
       "  </thead>\n",
       "  <tbody>\n",
       "    <tr>\n",
       "      <th>0</th>\n",
       "      <td>0.02</td>\n",
       "      <td>0</td>\n",
       "    </tr>\n",
       "    <tr>\n",
       "      <th>1</th>\n",
       "      <td>0.00</td>\n",
       "      <td>0</td>\n",
       "    </tr>\n",
       "    <tr>\n",
       "      <th>2</th>\n",
       "      <td>0.00</td>\n",
       "      <td>1</td>\n",
       "    </tr>\n",
       "    <tr>\n",
       "      <th>3</th>\n",
       "      <td>0.00</td>\n",
       "      <td>1</td>\n",
       "    </tr>\n",
       "    <tr>\n",
       "      <th>4</th>\n",
       "      <td>0.00</td>\n",
       "      <td>1</td>\n",
       "    </tr>\n",
       "    <tr>\n",
       "      <th>5</th>\n",
       "      <td>0.03</td>\n",
       "      <td>0</td>\n",
       "    </tr>\n",
       "  </tbody>\n",
       "</table>\n",
       "</div>"
      ],
      "text/plain": [
       "   Precipitation(in)  Precipitation_NA\n",
       "0               0.02                 0\n",
       "1               0.00                 0\n",
       "2               0.00                 1\n",
       "3               0.00                 1\n",
       "4               0.00                 1\n",
       "5               0.03                 0"
      ]
     },
     "execution_count": 129,
     "metadata": {},
     "output_type": "execute_result"
    }
   ],
   "source": [
    "#Add a new feature for missing values in 'Precipitation(in)' and replace missing values with median.\n",
    "acdf['Precipitation_NA'] = 0\n",
    "acdf.loc[acdf['Precipitation(in)'].isnull(),'Precipitation_NA'] = 1\n",
    "acdf['Precipitation(in)'] = acdf['Precipitation(in)'].fillna(acdf['Precipitation(in)'].median())\n",
    "acdf.loc[:5,['Precipitation(in)','Precipitation_NA']]"
   ]
  },
  {
   "cell_type": "code",
   "execution_count": 130,
   "id": "59b2bf19-014f-4970-9b82-e278f2257ec3",
   "metadata": {},
   "outputs": [],
   "source": [
    "# Forward fill for some columns\n",
    "columns_to_ffill = ['Weather_Timestamp', 'Temperature(F)','Humidity(%)','Pressure(in)']\n",
    "acdf[columns_to_ffill] = acdf[columns_to_ffill].ffill()\n",
    "\n",
    "# Backward fill for other columns\n",
    "columns_to_bfill = ['Visibility(mi)', 'Wind_Speed(mph)','Wind_Direction','Weather_Condition']\n",
    "acdf[columns_to_bfill] = acdf[columns_to_bfill].bfill()\n"
   ]
  },
  {
   "cell_type": "code",
   "execution_count": 131,
   "id": "2a8f5bd5-3f41-4bfb-8250-b6a7d0c0c640",
   "metadata": {},
   "outputs": [
    {
     "data": {
      "text/plain": [
       "ID                       0\n",
       "Source                   0\n",
       "Severity                 0\n",
       "Start_Time               0\n",
       "End_Time                 0\n",
       "Start_Lat                0\n",
       "Start_Lng                0\n",
       "Distance(mi)             0\n",
       "Description              0\n",
       "Street                   0\n",
       "City                     0\n",
       "County                   0\n",
       "State                    0\n",
       "Zipcode                  0\n",
       "Country                  0\n",
       "Timezone                 0\n",
       "Airport_Code             0\n",
       "Weather_Timestamp        0\n",
       "Temperature(F)           0\n",
       "Humidity(%)              0\n",
       "Pressure(in)             0\n",
       "Visibility(mi)           0\n",
       "Wind_Direction           0\n",
       "Wind_Speed(mph)          0\n",
       "Precipitation(in)        0\n",
       "Weather_Condition        0\n",
       "Amenity                  0\n",
       "Bump                     0\n",
       "Crossing                 0\n",
       "Give_Way                 0\n",
       "Junction                 0\n",
       "No_Exit                  0\n",
       "Railway                  0\n",
       "Roundabout               0\n",
       "Station                  0\n",
       "Stop                     0\n",
       "Traffic_Calming          0\n",
       "Traffic_Signal           0\n",
       "Sunrise_Sunset           0\n",
       "Civil_Twilight           0\n",
       "Nautical_Twilight        0\n",
       "Astronomical_Twilight    0\n",
       "Precipitation_NA         0\n",
       "dtype: int64"
      ]
     },
     "execution_count": 131,
     "metadata": {},
     "output_type": "execute_result"
    }
   ],
   "source": [
    "acdf.isnull().sum()"
   ]
  },
  {
   "cell_type": "code",
   "execution_count": 132,
   "id": "a6babeb7-17b0-4c24-9495-ab7832d91025",
   "metadata": {},
   "outputs": [
    {
     "name": "stdout",
     "output_type": "stream",
     "text": [
      "19\n",
      "['Light Rain' 'Overcast' 'Mostly Cloudy' 'Rain' 'Light Snow' 'Haze'\n",
      " 'Scattered Clouds' 'Partly Cloudy' 'Clear' 'Snow'\n",
      " 'Light Freezing Drizzle' 'Light Drizzle' 'Fog' 'Shallow Fog' 'Heavy Rain'\n",
      " 'Light Freezing Rain' 'Cloudy' 'Drizzle' 'Light Rain Showers']\n"
     ]
    }
   ],
   "source": [
    "#Data Transforming\n",
    "#If we analyze the weather conditions, we can see that there are lots of them, so it's better to reduce the number of unique conditions.\n",
    "unique_weather = acdf[\"Weather_Condition\"].unique()\n",
    "\n",
    "print(len(unique_weather))\n",
    "print(unique_weather)"
   ]
  },
  {
   "cell_type": "code",
   "execution_count": 133,
   "id": "34c9ab74-4416-4fc7-beae-01273c49ff35",
   "metadata": {},
   "outputs": [
    {
     "name": "stdout",
     "output_type": "stream",
     "text": [
      "['Rain' 'Cloudy' 'Snow' 'Fog' 'Clear']\n"
     ]
    }
   ],
   "source": [
    "#To do so, we are going to replace them with a more generic description\n",
    "acdf.loc[acdf[\"Weather_Condition\"].str.contains(\"Thunder|T-Storm\", na=False), \"Weather_Condition\"] = \"Thunderstorm\"\n",
    "acdf.loc[acdf[\"Weather_Condition\"].str.contains(\"Snow|Sleet|Wintry\", na=False), \"Weather_Condition\"] = \"Snow\"\n",
    "acdf.loc[acdf[\"Weather_Condition\"].str.contains(\"Rain|Drizzle|Shower\", na=False), \"Weather_Condition\"] = \"Rain\"\n",
    "acdf.loc[acdf[\"Weather_Condition\"].str.contains(\"Wind|Squalls\", na=False), \"Weather_Condition\"] = \"Windy\"\n",
    "acdf.loc[acdf[\"Weather_Condition\"].str.contains(\"Hail|Pellets\", na=False), \"Weather_Condition\"] = \"Hail\"\n",
    "acdf.loc[acdf[\"Weather_Condition\"].str.contains(\"Fair\", na=False), \"Weather_Condition\"] = \"Clear\"\n",
    "acdf.loc[acdf[\"Weather_Condition\"].str.contains(\"Cloud|Overcast\", na=False), \"Weather_Condition\"] = \"Cloudy\"\n",
    "acdf.loc[acdf[\"Weather_Condition\"].str.contains(\"Mist|Haze|Fog\", na=False), \"Weather_Condition\"] = \"Fog\"\n",
    "acdf.loc[acdf[\"Weather_Condition\"].str.contains(\"Sand|Dust\", na=False), \"Weather_Condition\"] = \"Sand\"\n",
    "acdf.loc[acdf[\"Weather_Condition\"].str.contains(\"Smoke|Volcanic Ash\", na=False), \"Weather_Condition\"] = \"Smoke\"\n",
    "acdf.loc[acdf[\"Weather_Condition\"].str.contains(\"N/A Precipitation\", na=False), \"Weather_Condition\"] = np.nan\n",
    "\n",
    "print(acdf[\"Weather_Condition\"].unique())"
   ]
  },
  {
   "cell_type": "code",
   "execution_count": 134,
   "id": "f1e4b460-637c-45d9-a27a-1694f47383f3",
   "metadata": {},
   "outputs": [
    {
     "data": {
      "text/plain": [
       "array(['Calm', 'SW', 'SSW', 'WSW', 'WNW', 'NW', 'West', 'NNW', 'NNE',\n",
       "       'South', 'North', 'Variable', 'SE', 'SSE', 'ESE', 'East', 'NE',\n",
       "       'ENE', 'E', 'W'], dtype=object)"
      ]
     },
     "execution_count": 134,
     "metadata": {},
     "output_type": "execute_result"
    }
   ],
   "source": [
    "#Let's check also the Wind_Direction field:\n",
    "acdf[\"Wind_Direction\"].unique()"
   ]
  },
  {
   "cell_type": "code",
   "execution_count": 135,
   "id": "0a630651-699f-4eac-b5b2-eda805ee5309",
   "metadata": {},
   "outputs": [
    {
     "data": {
      "text/plain": [
       "array(['Calm', 'SW', 'NW', 'W', 'NE', 'S', 'N', 'Variable', 'SE', 'E'],\n",
       "      dtype=object)"
      ]
     },
     "execution_count": 135,
     "metadata": {},
     "output_type": "execute_result"
    }
   ],
   "source": [
    "acdf.loc[acdf[\"Wind_Direction\"] == \"CALM\", \"Wind_Direction\"] = \"Calm\"\n",
    "acdf.loc[acdf[\"Wind_Direction\"] == \"VAR\", \"Wind_Direction\"] = \"Variable\"\n",
    "acdf.loc[acdf[\"Wind_Direction\"] == \"East\", \"Wind_Direction\"] = \"E\"\n",
    "acdf.loc[acdf[\"Wind_Direction\"] == \"North\", \"Wind_Direction\"] = \"N\"\n",
    "acdf.loc[acdf[\"Wind_Direction\"] == \"South\", \"Wind_Direction\"] = \"S\"\n",
    "acdf.loc[acdf[\"Wind_Direction\"] == \"West\", \"Wind_Direction\"] = \"W\"\n",
    "\n",
    "acdf[\"Wind_Direction\"] = acdf[\"Wind_Direction\"].map(lambda x : x if len(x) != 3 else x[1:], na_action=\"ignore\")\n",
    "\n",
    "acdf[\"Wind_Direction\"].unique()"
   ]
  },
  {
   "cell_type": "code",
   "execution_count": 136,
   "id": "ae75668b-6ebd-41dc-8257-223477e67c93",
   "metadata": {},
   "outputs": [
    {
     "data": {
      "text/html": [
       "<div>\n",
       "<style scoped>\n",
       "    .dataframe tbody tr th:only-of-type {\n",
       "        vertical-align: middle;\n",
       "    }\n",
       "\n",
       "    .dataframe tbody tr th {\n",
       "        vertical-align: top;\n",
       "    }\n",
       "\n",
       "    .dataframe thead th {\n",
       "        text-align: right;\n",
       "    }\n",
       "</style>\n",
       "<table border=\"1\" class=\"dataframe\">\n",
       "  <thead>\n",
       "    <tr style=\"text-align: right;\">\n",
       "      <th></th>\n",
       "      <th>ID</th>\n",
       "      <th>Source</th>\n",
       "      <th>Severity</th>\n",
       "      <th>Start_Time</th>\n",
       "      <th>End_Time</th>\n",
       "      <th>Start_Lat</th>\n",
       "      <th>Start_Lng</th>\n",
       "      <th>Distance(mi)</th>\n",
       "      <th>Description</th>\n",
       "      <th>Street</th>\n",
       "      <th>...</th>\n",
       "      <th>Civil_Twilight</th>\n",
       "      <th>Nautical_Twilight</th>\n",
       "      <th>Astronomical_Twilight</th>\n",
       "      <th>Precipitation_NA</th>\n",
       "      <th>Year</th>\n",
       "      <th>Month</th>\n",
       "      <th>Weekday</th>\n",
       "      <th>Day</th>\n",
       "      <th>Hour</th>\n",
       "      <th>Minute</th>\n",
       "    </tr>\n",
       "  </thead>\n",
       "  <tbody>\n",
       "    <tr>\n",
       "      <th>0</th>\n",
       "      <td>A-1</td>\n",
       "      <td>Source1</td>\n",
       "      <td>3</td>\n",
       "      <td>2016-02-08 05:46:00</td>\n",
       "      <td>2016-02-08 11:00:00</td>\n",
       "      <td>11.043213</td>\n",
       "      <td>79.098396</td>\n",
       "      <td>0.01</td>\n",
       "      <td>Right lane blocked due to accident on I-70 chi...</td>\n",
       "      <td>chidambaram road</td>\n",
       "      <td>...</td>\n",
       "      <td>Night</td>\n",
       "      <td>Night</td>\n",
       "      <td>Night</td>\n",
       "      <td>0</td>\n",
       "      <td>2016</td>\n",
       "      <td>2</td>\n",
       "      <td>0</td>\n",
       "      <td>8</td>\n",
       "      <td>5</td>\n",
       "      <td>46</td>\n",
       "    </tr>\n",
       "    <tr>\n",
       "      <th>1</th>\n",
       "      <td>A-2</td>\n",
       "      <td>Source2</td>\n",
       "      <td>2</td>\n",
       "      <td>2016-02-08 06:07:59</td>\n",
       "      <td>2016-02-08 06:37:59</td>\n",
       "      <td>11.211145</td>\n",
       "      <td>79.362847</td>\n",
       "      <td>0.01</td>\n",
       "      <td>Accident bus stand Rd. Expect delays.</td>\n",
       "      <td>bus stand road</td>\n",
       "      <td>...</td>\n",
       "      <td>Night</td>\n",
       "      <td>Night</td>\n",
       "      <td>Day</td>\n",
       "      <td>0</td>\n",
       "      <td>2016</td>\n",
       "      <td>2</td>\n",
       "      <td>0</td>\n",
       "      <td>8</td>\n",
       "      <td>6</td>\n",
       "      <td>7</td>\n",
       "    </tr>\n",
       "    <tr>\n",
       "      <th>2</th>\n",
       "      <td>A-3</td>\n",
       "      <td>Source2</td>\n",
       "      <td>2</td>\n",
       "      <td>2016-02-08 06:49:27</td>\n",
       "      <td>2016-02-08 07:19:27</td>\n",
       "      <td>11.256016</td>\n",
       "      <td>79.177572</td>\n",
       "      <td>0.01</td>\n",
       "      <td>Accident on OH-32 State Route 32 4th cross. Ex...</td>\n",
       "      <td>4th cross road</td>\n",
       "      <td>...</td>\n",
       "      <td>Night</td>\n",
       "      <td>Day</td>\n",
       "      <td>Day</td>\n",
       "      <td>1</td>\n",
       "      <td>2016</td>\n",
       "      <td>2</td>\n",
       "      <td>0</td>\n",
       "      <td>8</td>\n",
       "      <td>6</td>\n",
       "      <td>49</td>\n",
       "    </tr>\n",
       "    <tr>\n",
       "      <th>3</th>\n",
       "      <td>A-4</td>\n",
       "      <td>Source2</td>\n",
       "      <td>3</td>\n",
       "      <td>2016-02-08 07:23:34</td>\n",
       "      <td>2016-02-08 07:53:34</td>\n",
       "      <td>11.287254</td>\n",
       "      <td>79.102273</td>\n",
       "      <td>0.01</td>\n",
       "      <td>Accident on I-75 annanagar rd,at Exits 52 52B ...</td>\n",
       "      <td>annanagar road</td>\n",
       "      <td>...</td>\n",
       "      <td>Day</td>\n",
       "      <td>Day</td>\n",
       "      <td>Day</td>\n",
       "      <td>1</td>\n",
       "      <td>2016</td>\n",
       "      <td>2</td>\n",
       "      <td>0</td>\n",
       "      <td>8</td>\n",
       "      <td>7</td>\n",
       "      <td>23</td>\n",
       "    </tr>\n",
       "    <tr>\n",
       "      <th>4</th>\n",
       "      <td>A-5</td>\n",
       "      <td>Source2</td>\n",
       "      <td>2</td>\n",
       "      <td>2016-02-08 07:39:07</td>\n",
       "      <td>2016-02-08 08:09:07</td>\n",
       "      <td>10.978284</td>\n",
       "      <td>79.396555</td>\n",
       "      <td>0.01</td>\n",
       "      <td>Accident on kumbakonam rd. Expect delays.</td>\n",
       "      <td>kumbakonam road</td>\n",
       "      <td>...</td>\n",
       "      <td>Day</td>\n",
       "      <td>Day</td>\n",
       "      <td>Day</td>\n",
       "      <td>1</td>\n",
       "      <td>2016</td>\n",
       "      <td>2</td>\n",
       "      <td>0</td>\n",
       "      <td>8</td>\n",
       "      <td>7</td>\n",
       "      <td>39</td>\n",
       "    </tr>\n",
       "  </tbody>\n",
       "</table>\n",
       "<p>5 rows × 49 columns</p>\n",
       "</div>"
      ],
      "text/plain": [
       "    ID   Source  Severity          Start_Time            End_Time  Start_Lat  \\\n",
       "0  A-1  Source1         3 2016-02-08 05:46:00 2016-02-08 11:00:00  11.043213   \n",
       "1  A-2  Source2         2 2016-02-08 06:07:59 2016-02-08 06:37:59  11.211145   \n",
       "2  A-3  Source2         2 2016-02-08 06:49:27 2016-02-08 07:19:27  11.256016   \n",
       "3  A-4  Source2         3 2016-02-08 07:23:34 2016-02-08 07:53:34  11.287254   \n",
       "4  A-5  Source2         2 2016-02-08 07:39:07 2016-02-08 08:09:07  10.978284   \n",
       "\n",
       "   Start_Lng  Distance(mi)                                        Description  \\\n",
       "0  79.098396          0.01  Right lane blocked due to accident on I-70 chi...   \n",
       "1  79.362847          0.01              Accident bus stand Rd. Expect delays.   \n",
       "2  79.177572          0.01  Accident on OH-32 State Route 32 4th cross. Ex...   \n",
       "3  79.102273          0.01  Accident on I-75 annanagar rd,at Exits 52 52B ...   \n",
       "4  79.396555          0.01          Accident on kumbakonam rd. Expect delays.   \n",
       "\n",
       "             Street  ... Civil_Twilight Nautical_Twilight  \\\n",
       "0  chidambaram road  ...          Night             Night   \n",
       "1    bus stand road  ...          Night             Night   \n",
       "2    4th cross road  ...          Night               Day   \n",
       "3    annanagar road  ...            Day               Day   \n",
       "4   kumbakonam road  ...            Day               Day   \n",
       "\n",
       "  Astronomical_Twilight Precipitation_NA  Year Month Weekday Day  Hour  Minute  \n",
       "0                 Night                0  2016     2       0   8     5      46  \n",
       "1                   Day                0  2016     2       0   8     6       7  \n",
       "2                   Day                1  2016     2       0   8     6      49  \n",
       "3                   Day                1  2016     2       0   8     7      23  \n",
       "4                   Day                1  2016     2       0   8     7      39  \n",
       "\n",
       "[5 rows x 49 columns]"
      ]
     },
     "execution_count": 136,
     "metadata": {},
     "output_type": "execute_result"
    }
   ],
   "source": [
    "acdf[\"Start_Time\"] = pd.to_datetime(acdf[\"Start_Time\"])\n",
    "\n",
    "# Extract year, month, weekday and day\n",
    "acdf[\"Year\"] = acdf[\"Start_Time\"].dt.year\n",
    "acdf[\"Month\"] = acdf[\"Start_Time\"].dt.month\n",
    "acdf[\"Weekday\"] = acdf[\"Start_Time\"].dt.weekday\n",
    "acdf[\"Day\"] = acdf[\"Start_Time\"].dt.day\n",
    "\n",
    "# Extract hour and minute\n",
    "acdf[\"Hour\"] = acdf[\"Start_Time\"].dt.hour\n",
    "acdf[\"Minute\"] = acdf[\"Start_Time\"].dt.minute\n",
    "\n",
    "acdf.head()"
   ]
  },
  {
   "cell_type": "code",
   "execution_count": 137,
   "id": "918229b4-bf90-42de-b158-1ef059c39b72",
   "metadata": {},
   "outputs": [
    {
     "name": "stderr",
     "output_type": "stream",
     "text": [
      "C:\\ProgramData\\anaconda3\\Lib\\site-packages\\seaborn\\matrix.py:260: FutureWarning:\n",
      "\n",
      "Format strings passed to MaskedConstant are ignored, but in future may error or produce different behavior\n",
      "\n"
     ]
    },
    {
     "data": {
      "image/png": "[encoded data removed]",
      "text/plain": [
       "<Figure size 1500x1000 with 2 Axes>"
      ]
     },
     "metadata": {},
     "output_type": "display_data"
    }
   ],
   "source": [
    "# The correlation matrix between all the possible features, in the form of an heatmap.\n",
    "# Ensure 'Start_Time' is a datetime object\n",
    "acdf['Start_Time'] = pd.to_datetime(acdf['Start_Time'], errors='coerce')\n",
    "\n",
    "# Create the 'Month' and 'Is_Weekend' columns if they don't exist\n",
    "acdf['Month'] = acdf['Start_Time'].dt.month\n",
    "acdf['Is_Weekend'] = acdf['Start_Time'].dt.dayofweek >= 5  # 5 = Saturday, 6 = Sunday\n",
    "\n",
    "# Handle NaN values in 'Is_Weekend' column\n",
    "acdf['Is_Weekend'] = acdf['Is_Weekend'].fillna(False)  # Default to False or any logical choice\n",
    "\n",
    "# Ensure all columns in acdf used for correlation are numeric\n",
    "numeric_df = acdf.select_dtypes(include=[np.number])\n",
    "\n",
    "# Calculate the correlation matrix\n",
    "corr_matrix = numeric_df.corr()\n",
    "\n",
    "# Plot the heatmap\n",
    "plt.figure(figsize=(15, 10))\n",
    "sns.heatmap(corr_matrix, vmin=-1, vmax=1, cmap=\"PiYG\", annot=True, fmt=\".2f\")\n",
    "plt.title('Correlation Matrix', fontsize=16)\n",
    "plt.show()\n"
   ]
  },
  {
   "cell_type": "code",
   "execution_count": 138,
   "id": "9417257f-16c4-4fb3-b06e-1a974753b69c",
   "metadata": {},
   "outputs": [
    {
     "data": {
      "image/png": "[encoded data removed]",
      "text/plain": [
       "<Figure size 600x600 with 1 Axes>"
      ]
     },
     "metadata": {},
     "output_type": "display_data"
    }
   ],
   "source": [
    "#Exploratory Data Analysis (EDA)\n",
    "# Count the number of accidents per city\n",
    "city_counts = acdf[\"City\"].value_counts()\n",
    "\n",
    "# Create the bar plot for the top 10 cities\n",
    "plt.figure(figsize=(6, 6))\n",
    "plt.title(\"Top 10 Cities with the Highest Number of Accidents\")\n",
    "\n",
    "# Using keyword arguments for sns.barplot\n",
    "sns.barplot(\n",
    "    x=city_counts[:10].values,\n",
    "    y=city_counts[:10].index,\n",
    "    orient=\"h\",\n",
    "    palette=\"viridis\"\n",
    ")\n",
    "\n",
    "plt.xlabel(\"Number of Accidents\")\n",
    "plt.ylabel(\"City\")\n",
    "plt.show()\n"
   ]
  },
  {
   "cell_type": "code",
   "execution_count": 139,
   "id": "34b31aa7-bd7e-4de6-9c76-d604271937ba",
   "metadata": {},
   "outputs": [
    {
     "name": "stderr",
     "output_type": "stream",
     "text": [
      "[nltk_data] Downloading package stopwords to\n",
      "[nltk_data]     C:\\Users\\perum\\AppData\\Roaming\\nltk_data...\n",
      "[nltk_data]   Package stopwords is already up-to-date!\n"
     ]
    }
   ],
   "source": [
    "#Importing Necessary Libraries_3\n",
    "import nltk\n",
    "nltk.download('stopwords')\n",
    "from nltk.corpus import stopwords"
   ]
  },
  {
   "cell_type": "code",
   "execution_count": 140,
   "id": "eb44ac5a-d197-4d9c-8bfc-576877d96a59",
   "metadata": {},
   "outputs": [
    {
     "data": {
      "image/png": "[encoded data removed]",
      "text/plain": [
       "<Figure size 1000x600 with 1 Axes>"
      ]
     },
     "metadata": {},
     "output_type": "display_data"
    }
   ],
   "source": [
    "#Most frequent words in the description of an accident with severity 4\n",
    "# Combine the default English stopwords with additional custom stopwords\n",
    "stop = stopwords.words(\"english\") + [\"-\"]\n",
    "\n",
    "# Filter descriptions with severity 4\n",
    "df_s4_desc = acdf[acdf[\"Severity\"] == 4][\"Description\"]\n",
    "\n",
    "# Ensure there are descriptions with severity 4\n",
    "if df_s4_desc.empty:\n",
    "    raise ValueError(\"No descriptions found for Severity 4\")\n",
    "\n",
    "# Split the description into words\n",
    "df_words = df_s4_desc.str.lower().str.split(expand=True).stack()\n",
    "\n",
    "# Check if df_words is empty\n",
    "if df_words.empty:\n",
    "    raise ValueError(\"No words found in descriptions\")\n",
    "\n",
    "# Exclude stopwords\n",
    "df_words_filtered = df_words[~df_words.isin(stop)]\n",
    "\n",
    "# Check if df_words_filtered is empty\n",
    "if df_words_filtered.empty:\n",
    "    raise ValueError(\"All words are stopwords\")\n",
    "\n",
    "# Count occurrences of each word\n",
    "counts = df_words_filtered.value_counts()[:10]\n",
    "\n",
    "# Check if counts is empty\n",
    "if counts.empty:\n",
    "    raise ValueError(\"No words to display after filtering\")\n",
    "\n",
    "# Plotting\n",
    "plt.figure(figsize=(10, 6))\n",
    "plt.title(\"Top 10 Words Used to Describe an Accident with Severity 4\")\n",
    "sns.barplot(x=counts.values, y=counts.index, orient=\"h\", palette='Spectral')\n",
    "plt.xlabel(\"Count\")\n",
    "plt.ylabel(\"Word\")\n",
    "plt.show()"
   ]
  },
  {
   "cell_type": "code",
   "execution_count": 141,
   "id": "b075c7e2-cb4d-4fb7-bcb0-00f813ad3406",
   "metadata": {},
   "outputs": [
    {
     "data": {
      "image/png": "[encoded data removed]",
      "text/plain": [
       "<Figure size 600x600 with 1 Axes>"
      ]
     },
     "metadata": {},
     "output_type": "display_data"
    }
   ],
   "source": [
    "# most frequent road features in accidents.\n",
    "road_features = [\"Amenity\", \"Bump\", \"Crossing\", \"Give_Way\", \"Junction\", \"No_Exit\", \"Railway\", \"Roundabout\", \"Station\", \"Stop\", \"Traffic_Calming\", \"Traffic_Signal\"]\n",
    "data = acdf[road_features].sum().sort_values(ascending=False)\n",
    "\n",
    "# Plotting with sns.barplot\n",
    "plt.figure(figsize=(6, 6))\n",
    "plt.title(\"Most Frequent Road Features in Accident\")\n",
    "\n",
    "# Using keyword arguments for sns.barplot\n",
    "sns.barplot(\n",
    "    x=data.values,  # Values for the x-axis\n",
    "    y=data.index,   # Index (road features) for the y-axis\n",
    "    orient=\"h\",     # Horizontal bars\n",
    "    palette='Paired'  # Color palette\n",
    ")\n",
    "\n",
    "plt.xlabel(\"Count\")\n",
    "plt.ylabel(\"Road Feature\")\n",
    "plt.show()\n"
   ]
  },
  {
   "cell_type": "code",
   "execution_count": 142,
   "id": "735baf24-0855-425f-9d02-9e9e2d1e393e",
   "metadata": {},
   "outputs": [
    {
     "data": {
      "image/png": "[encoded data removed]",
      "text/plain": [
       "<Figure size 1600x600 with 1 Axes>"
      ]
     },
     "metadata": {},
     "output_type": "display_data"
    }
   ],
   "source": [
    "# Top 10 States with the Most Accidents in a view of severity \n",
    "\n",
    "# Ensure 'Severity' is categorical\n",
    "acdf['Severity'] = acdf['Severity'].astype(str)\n",
    "\n",
    "# Get the top 10 cities with the most accidents\n",
    "top_cities = acdf['City'].value_counts().index[:10]\n",
    "\n",
    "# Filter data for these top 10 cities\n",
    "filtered_acdf = acdf[acdf['City'].isin(top_cities)]\n",
    "\n",
    "# Plot\n",
    "plt.figure(figsize=(16, 6))\n",
    "ax = sns.countplot(\n",
    "    x=\"City\", \n",
    "    data=filtered_acdf, \n",
    "    order=top_cities, \n",
    "    hue='Severity',\n",
    "    palette='tab10'\n",
    ")\n",
    "plt.title(\"Top 10 Cities with the Most Accidents in Severity\", fontsize=22)\n",
    "\n",
    "# Optional: Add annotations\n",
    "for p in ax.patches:\n",
    "    height = p.get_height()\n",
    "    ax.annotate(f'{int(height)}', \n",
    "                (p.get_x() + p.get_width() / 2., height), \n",
    "                ha='center', va='center',\n",
    "                xytext=(0, 5), \n",
    "                textcoords='offset points')\n",
    "\n",
    "plt.xticks(rotation=45)\n",
    "plt.xlabel('City')\n",
    "plt.ylabel('Number of Accidents')\n",
    "plt.legend(title='Severity')\n",
    "plt.tight_layout()\n",
    "plt.show()\n"
   ]
  },
  {
   "cell_type": "code",
   "execution_count": 143,
   "id": "bca64404-57fb-4501-bfba-158699a433a5",
   "metadata": {},
   "outputs": [
    {
     "data": {
      "image/png": "[encoded data removed]",
      "text/plain": [
       "<Figure size 800x800 with 1 Axes>"
      ]
     },
     "metadata": {},
     "output_type": "display_data"
    }
   ],
   "source": [
    "#Distribution of Weather Conditions in Accident\n",
    "counts = acdf[\"Weather_Condition\"].value_counts()[:15]\n",
    "\n",
    "# Choose a Seaborn color palette\n",
    "palette = sns.color_palette(\"pastel\", n_colors=len(counts))\n",
    "\n",
    "# Plotting the pie chart\n",
    "plt.figure(figsize=(8, 8))\n",
    "plt.title(\"Distribution of Weather Conditions in Accident\")\n",
    "\n",
    "# Create the pie chart with custom colors\n",
    "plt.pie(\n",
    "    counts,\n",
    "    labels=counts.index,\n",
    "    autopct='%1.1f%%',  # Percentage display format\n",
    "    colors=palette,  # Custom color palette\n",
    "    startangle=140,  # Start angle for better layout\n",
    ")\n",
    "\n",
    "plt.show()\n"
   ]
  },
  {
   "cell_type": "code",
   "execution_count": 144,
   "id": "21d1c106-ed4f-4458-850b-f1e3d8dc7ba9",
   "metadata": {},
   "outputs": [
    {
     "data": {
      "image/png": "[encoded data removed]",
      "text/plain": [
       "<Figure size 600x600 with 1 Axes>"
      ]
     },
     "metadata": {},
     "output_type": "display_data"
    }
   ],
   "source": [
    "#Number of Accidents for Each Weekday\n",
    "# Convert 'Start_Time' to datetime if not already\n",
    "acdf['Start_Time'] = pd.to_datetime(acdf['Start_Time'], errors='coerce')\n",
    "\n",
    "# Calculate the number of accidents for each weekday\n",
    "counts = acdf['Start_Time'].dt.day_name().value_counts()\n",
    "\n",
    "# Define weekday order\n",
    "weekdays = [\"Monday\", \"Tuesday\", \"Wednesday\", \"Thursday\", \"Friday\", \"Saturday\", \"Sunday\"]\n",
    "\n",
    "# Reindex counts to ensure the correct order\n",
    "counts = counts.reindex(weekdays, fill_value=0)\n",
    "\n",
    "# Plotting the donut chart\n",
    "plt.figure(figsize=(6, 6))\n",
    "plt.title(\"Number of Accidents per Each Day\")\n",
    "\n",
    "# Create the pie chart with a hole in the middle (donut chart)\n",
    "plt.pie(\n",
    "    counts,\n",
    "    labels=counts.index,\n",
    "    autopct='%1.1f%%',  # Percentage display format\n",
    "    colors=palette,  # Color map\n",
    "    startangle=140,  # Start angle for better layout\n",
    "    wedgeprops=dict(width=0.4)  # Make it a donut chart\n",
    ")\n",
    "\n",
    "plt.show()\n"
   ]
  },
  {
   "cell_type": "code",
   "execution_count": 145,
   "id": "ec506495-0e4d-4a55-921e-877075c06a9a",
   "metadata": {},
   "outputs": [],
   "source": [
    "#In this section we are going to scale and normalize the features.\n",
    "\n",
    "#To improve the performance of our models, we normalized the values of the continuous features.\n",
    "from sklearn.preprocessing import MinMaxScaler"
   ]
  },
  {
   "cell_type": "code",
   "execution_count": 146,
   "id": "8bc503d1-08b1-4d69-9dbb-4333fb9c508c",
   "metadata": {},
   "outputs": [
    {
     "data": {
      "text/html": [
       "<div>\n",
       "<style scoped>\n",
       "    .dataframe tbody tr th:only-of-type {\n",
       "        vertical-align: middle;\n",
       "    }\n",
       "\n",
       "    .dataframe tbody tr th {\n",
       "        vertical-align: top;\n",
       "    }\n",
       "\n",
       "    .dataframe thead th {\n",
       "        text-align: right;\n",
       "    }\n",
       "</style>\n",
       "<table border=\"1\" class=\"dataframe\">\n",
       "  <thead>\n",
       "    <tr style=\"text-align: right;\">\n",
       "      <th></th>\n",
       "      <th>ID</th>\n",
       "      <th>Source</th>\n",
       "      <th>Severity</th>\n",
       "      <th>Start_Time</th>\n",
       "      <th>End_Time</th>\n",
       "      <th>Start_Lat</th>\n",
       "      <th>Start_Lng</th>\n",
       "      <th>Distance(mi)</th>\n",
       "      <th>Description</th>\n",
       "      <th>Street</th>\n",
       "      <th>...</th>\n",
       "      <th>Nautical_Twilight</th>\n",
       "      <th>Astronomical_Twilight</th>\n",
       "      <th>Precipitation_NA</th>\n",
       "      <th>Year</th>\n",
       "      <th>Month</th>\n",
       "      <th>Weekday</th>\n",
       "      <th>Day</th>\n",
       "      <th>Hour</th>\n",
       "      <th>Minute</th>\n",
       "      <th>Is_Weekend</th>\n",
       "    </tr>\n",
       "  </thead>\n",
       "  <tbody>\n",
       "    <tr>\n",
       "      <th>0</th>\n",
       "      <td>A-1</td>\n",
       "      <td>Source1</td>\n",
       "      <td>3</td>\n",
       "      <td>2016-02-08 05:46:00</td>\n",
       "      <td>2016-02-08 11:00:00</td>\n",
       "      <td>0.018475</td>\n",
       "      <td>0.994163</td>\n",
       "      <td>0.001414</td>\n",
       "      <td>Right lane blocked due to accident on I-70 chi...</td>\n",
       "      <td>chidambaram road</td>\n",
       "      <td>...</td>\n",
       "      <td>Night</td>\n",
       "      <td>Night</td>\n",
       "      <td>0</td>\n",
       "      <td>0.0</td>\n",
       "      <td>0.0</td>\n",
       "      <td>0.0</td>\n",
       "      <td>0.25</td>\n",
       "      <td>0.217391</td>\n",
       "      <td>0.779661</td>\n",
       "      <td>False</td>\n",
       "    </tr>\n",
       "    <tr>\n",
       "      <th>1</th>\n",
       "      <td>A-2</td>\n",
       "      <td>Source2</td>\n",
       "      <td>2</td>\n",
       "      <td>2016-02-08 06:07:59</td>\n",
       "      <td>2016-02-08 06:37:59</td>\n",
       "      <td>0.023900</td>\n",
       "      <td>0.995462</td>\n",
       "      <td>0.001414</td>\n",
       "      <td>Accident bus stand Rd. Expect delays.</td>\n",
       "      <td>bus stand road</td>\n",
       "      <td>...</td>\n",
       "      <td>Night</td>\n",
       "      <td>Day</td>\n",
       "      <td>0</td>\n",
       "      <td>0.0</td>\n",
       "      <td>0.0</td>\n",
       "      <td>0.0</td>\n",
       "      <td>0.25</td>\n",
       "      <td>0.260870</td>\n",
       "      <td>0.118644</td>\n",
       "      <td>False</td>\n",
       "    </tr>\n",
       "    <tr>\n",
       "      <th>2</th>\n",
       "      <td>A-3</td>\n",
       "      <td>Source2</td>\n",
       "      <td>2</td>\n",
       "      <td>2016-02-08 06:49:27</td>\n",
       "      <td>2016-02-08 07:19:27</td>\n",
       "      <td>0.025349</td>\n",
       "      <td>0.994552</td>\n",
       "      <td>0.001414</td>\n",
       "      <td>Accident on OH-32 State Route 32 4th cross. Ex...</td>\n",
       "      <td>4th cross road</td>\n",
       "      <td>...</td>\n",
       "      <td>Day</td>\n",
       "      <td>Day</td>\n",
       "      <td>1</td>\n",
       "      <td>0.0</td>\n",
       "      <td>0.0</td>\n",
       "      <td>0.0</td>\n",
       "      <td>0.25</td>\n",
       "      <td>0.260870</td>\n",
       "      <td>0.830508</td>\n",
       "      <td>False</td>\n",
       "    </tr>\n",
       "    <tr>\n",
       "      <th>3</th>\n",
       "      <td>A-4</td>\n",
       "      <td>Source2</td>\n",
       "      <td>3</td>\n",
       "      <td>2016-02-08 07:23:34</td>\n",
       "      <td>2016-02-08 07:53:34</td>\n",
       "      <td>0.026358</td>\n",
       "      <td>0.994182</td>\n",
       "      <td>0.001414</td>\n",
       "      <td>Accident on I-75 annanagar rd,at Exits 52 52B ...</td>\n",
       "      <td>annanagar road</td>\n",
       "      <td>...</td>\n",
       "      <td>Day</td>\n",
       "      <td>Day</td>\n",
       "      <td>1</td>\n",
       "      <td>0.0</td>\n",
       "      <td>0.0</td>\n",
       "      <td>0.0</td>\n",
       "      <td>0.25</td>\n",
       "      <td>0.304348</td>\n",
       "      <td>0.389831</td>\n",
       "      <td>False</td>\n",
       "    </tr>\n",
       "    <tr>\n",
       "      <th>4</th>\n",
       "      <td>A-5</td>\n",
       "      <td>Source2</td>\n",
       "      <td>2</td>\n",
       "      <td>2016-02-08 07:39:07</td>\n",
       "      <td>2016-02-08 08:09:07</td>\n",
       "      <td>0.016378</td>\n",
       "      <td>0.995627</td>\n",
       "      <td>0.001414</td>\n",
       "      <td>Accident on kumbakonam rd. Expect delays.</td>\n",
       "      <td>kumbakonam road</td>\n",
       "      <td>...</td>\n",
       "      <td>Day</td>\n",
       "      <td>Day</td>\n",
       "      <td>1</td>\n",
       "      <td>0.0</td>\n",
       "      <td>0.0</td>\n",
       "      <td>0.0</td>\n",
       "      <td>0.25</td>\n",
       "      <td>0.304348</td>\n",
       "      <td>0.661017</td>\n",
       "      <td>False</td>\n",
       "    </tr>\n",
       "  </tbody>\n",
       "</table>\n",
       "<p>5 rows × 50 columns</p>\n",
       "</div>"
      ],
      "text/plain": [
       "    ID   Source Severity          Start_Time            End_Time  Start_Lat  \\\n",
       "0  A-1  Source1        3 2016-02-08 05:46:00 2016-02-08 11:00:00   0.018475   \n",
       "1  A-2  Source2        2 2016-02-08 06:07:59 2016-02-08 06:37:59   0.023900   \n",
       "2  A-3  Source2        2 2016-02-08 06:49:27 2016-02-08 07:19:27   0.025349   \n",
       "3  A-4  Source2        3 2016-02-08 07:23:34 2016-02-08 07:53:34   0.026358   \n",
       "4  A-5  Source2        2 2016-02-08 07:39:07 2016-02-08 08:09:07   0.016378   \n",
       "\n",
       "   Start_Lng  Distance(mi)                                        Description  \\\n",
       "0   0.994163      0.001414  Right lane blocked due to accident on I-70 chi...   \n",
       "1   0.995462      0.001414              Accident bus stand Rd. Expect delays.   \n",
       "2   0.994552      0.001414  Accident on OH-32 State Route 32 4th cross. Ex...   \n",
       "3   0.994182      0.001414  Accident on I-75 annanagar rd,at Exits 52 52B ...   \n",
       "4   0.995627      0.001414          Accident on kumbakonam rd. Expect delays.   \n",
       "\n",
       "             Street  ... Nautical_Twilight Astronomical_Twilight  \\\n",
       "0  chidambaram road  ...             Night                 Night   \n",
       "1    bus stand road  ...             Night                   Day   \n",
       "2    4th cross road  ...               Day                   Day   \n",
       "3    annanagar road  ...               Day                   Day   \n",
       "4   kumbakonam road  ...               Day                   Day   \n",
       "\n",
       "  Precipitation_NA Year Month Weekday   Day      Hour    Minute  Is_Weekend  \n",
       "0                0  0.0   0.0     0.0  0.25  0.217391  0.779661       False  \n",
       "1                0  0.0   0.0     0.0  0.25  0.260870  0.118644       False  \n",
       "2                1  0.0   0.0     0.0  0.25  0.260870  0.830508       False  \n",
       "3                1  0.0   0.0     0.0  0.25  0.304348  0.389831       False  \n",
       "4                1  0.0   0.0     0.0  0.25  0.304348  0.661017       False  \n",
       "\n",
       "[5 rows x 50 columns]"
      ]
     },
     "execution_count": 146,
     "metadata": {},
     "output_type": "execute_result"
    }
   ],
   "source": [
    "#Feature scaling\n",
    "scaler = MinMaxScaler()\n",
    "features = ['Temperature(F)','Distance(mi)','Humidity(%)','Pressure(in)','Visibility(mi)','Wind_Speed(mph)','Precipitation(in)','Start_Lng','Start_Lat','Year', 'Month','Weekday','Day','Hour','Minute']\n",
    "acdf[features] = scaler.fit_transform(acdf[features])\n",
    "acdf.head()"
   ]
  },
  {
   "cell_type": "code",
   "execution_count": 147,
   "id": "529ff609-90e9-4e31-8ce1-bd3daced65c1",
   "metadata": {},
   "outputs": [
    {
     "name": "stdout",
     "output_type": "stream",
     "text": [
      "<class 'pandas.core.frame.DataFrame'>\n",
      "RangeIndex: 1550 entries, 0 to 1549\n",
      "Data columns (total 50 columns):\n",
      " #   Column                 Non-Null Count  Dtype         \n",
      "---  ------                 --------------  -----         \n",
      " 0   ID                     1550 non-null   object        \n",
      " 1   Source                 1550 non-null   object        \n",
      " 2   Severity               1550 non-null   object        \n",
      " 3   Start_Time             1550 non-null   datetime64[ns]\n",
      " 4   End_Time               1550 non-null   datetime64[ns]\n",
      " 5   Start_Lat              1550 non-null   float64       \n",
      " 6   Start_Lng              1550 non-null   float64       \n",
      " 7   Distance(mi)           1550 non-null   float64       \n",
      " 8   Description            1550 non-null   object        \n",
      " 9   Street                 1550 non-null   object        \n",
      " 10  City                   1550 non-null   category      \n",
      " 11  County                 1550 non-null   object        \n",
      " 12  State                  1550 non-null   object        \n",
      " 13  Zipcode                1550 non-null   object        \n",
      " 14  Country                1550 non-null   object        \n",
      " 15  Timezone               1550 non-null   object        \n",
      " 16  Airport_Code           1550 non-null   object        \n",
      " 17  Weather_Timestamp      1550 non-null   datetime64[ns]\n",
      " 18  Temperature(F)         1550 non-null   float64       \n",
      " 19  Humidity(%)            1550 non-null   float64       \n",
      " 20  Pressure(in)           1550 non-null   float64       \n",
      " 21  Visibility(mi)         1550 non-null   float64       \n",
      " 22  Wind_Direction         1550 non-null   category      \n",
      " 23  Wind_Speed(mph)        1550 non-null   float64       \n",
      " 24  Precipitation(in)      1550 non-null   float64       \n",
      " 25  Weather_Condition      1550 non-null   category      \n",
      " 26  Amenity                1550 non-null   bool          \n",
      " 27  Bump                   1550 non-null   bool          \n",
      " 28  Crossing               1550 non-null   bool          \n",
      " 29  Give_Way               1550 non-null   bool          \n",
      " 30  Junction               1550 non-null   bool          \n",
      " 31  No_Exit                1550 non-null   bool          \n",
      " 32  Railway                1550 non-null   bool          \n",
      " 33  Roundabout             1550 non-null   bool          \n",
      " 34  Station                1550 non-null   bool          \n",
      " 35  Stop                   1550 non-null   bool          \n",
      " 36  Traffic_Calming        1550 non-null   bool          \n",
      " 37  Traffic_Signal         1550 non-null   bool          \n",
      " 38  Sunrise_Sunset         1550 non-null   object        \n",
      " 39  Civil_Twilight         1550 non-null   category      \n",
      " 40  Nautical_Twilight      1550 non-null   object        \n",
      " 41  Astronomical_Twilight  1550 non-null   object        \n",
      " 42  Precipitation_NA       1550 non-null   int64         \n",
      " 43  Year                   1550 non-null   float64       \n",
      " 44  Month                  1550 non-null   float64       \n",
      " 45  Weekday                1550 non-null   float64       \n",
      " 46  Day                    1550 non-null   float64       \n",
      " 47  Hour                   1550 non-null   float64       \n",
      " 48  Minute                 1550 non-null   float64       \n",
      " 49  Is_Weekend             1550 non-null   bool          \n",
      "dtypes: bool(13), category(4), datetime64[ns](3), float64(15), int64(1), object(14)\n",
      "memory usage: 426.8+ KB\n"
     ]
    }
   ],
   "source": [
    "#Feature Encoding\n",
    "categorical_features = set([\"City\", \"Wind_Direction\", \"Weather_Condition\", \"Civil_Twilight\"])\n",
    "\n",
    "for cat in categorical_features:\n",
    "    acdf[cat] = acdf[cat].astype(\"category\")\n",
    "\n",
    "acdf.info()"
   ]
  },
  {
   "cell_type": "code",
   "execution_count": 148,
   "id": "46dc5445-f3c8-43ae-97b2-dece6cd81199",
   "metadata": {},
   "outputs": [
    {
     "name": "stdout",
     "output_type": "stream",
     "text": [
      "Unique classes for each categorical feature:\n",
      "Wind_Direction  \t 10\n",
      "Weather_Condition \t 5\n",
      "City            \t 16\n",
      "Civil_Twilight  \t 2\n"
     ]
    }
   ],
   "source": [
    "#First of all, we show the number of unique classes for each categorical feature.\n",
    "print(\"Unique classes for each categorical feature:\")\n",
    "for cat in categorical_features:\n",
    "    print(\"{:15s}\".format(cat), \"\\t\", len(acdf[cat].unique()))"
   ]
  },
  {
   "cell_type": "code",
   "execution_count": 149,
   "id": "9f4b340a-418d-4372-8eb4-c49d088cf182",
   "metadata": {},
   "outputs": [
    {
     "data": {
      "text/html": [
       "<div>\n",
       "<style scoped>\n",
       "    .dataframe tbody tr th:only-of-type {\n",
       "        vertical-align: middle;\n",
       "    }\n",
       "\n",
       "    .dataframe tbody tr th {\n",
       "        vertical-align: top;\n",
       "    }\n",
       "\n",
       "    .dataframe thead th {\n",
       "        text-align: right;\n",
       "    }\n",
       "</style>\n",
       "<table border=\"1\" class=\"dataframe\">\n",
       "  <thead>\n",
       "    <tr style=\"text-align: right;\">\n",
       "      <th></th>\n",
       "      <th>ID</th>\n",
       "      <th>Source</th>\n",
       "      <th>Severity</th>\n",
       "      <th>Start_Time</th>\n",
       "      <th>End_Time</th>\n",
       "      <th>Start_Lat</th>\n",
       "      <th>Start_Lng</th>\n",
       "      <th>Distance(mi)</th>\n",
       "      <th>Description</th>\n",
       "      <th>Street</th>\n",
       "      <th>...</th>\n",
       "      <th>Nautical_Twilight</th>\n",
       "      <th>Astronomical_Twilight</th>\n",
       "      <th>Precipitation_NA</th>\n",
       "      <th>Year</th>\n",
       "      <th>Month</th>\n",
       "      <th>Weekday</th>\n",
       "      <th>Day</th>\n",
       "      <th>Hour</th>\n",
       "      <th>Minute</th>\n",
       "      <th>Is_Weekend</th>\n",
       "    </tr>\n",
       "  </thead>\n",
       "  <tbody>\n",
       "    <tr>\n",
       "      <th>0</th>\n",
       "      <td>A-1</td>\n",
       "      <td>Source1</td>\n",
       "      <td>3</td>\n",
       "      <td>2016-02-08 05:46:00</td>\n",
       "      <td>2016-02-08 11:00:00</td>\n",
       "      <td>0.018475</td>\n",
       "      <td>0.994163</td>\n",
       "      <td>0.001414</td>\n",
       "      <td>Right lane blocked due to accident on I-70 chi...</td>\n",
       "      <td>chidambaram road</td>\n",
       "      <td>...</td>\n",
       "      <td>Night</td>\n",
       "      <td>Night</td>\n",
       "      <td>0</td>\n",
       "      <td>0.0</td>\n",
       "      <td>0.0</td>\n",
       "      <td>0.0</td>\n",
       "      <td>0.25</td>\n",
       "      <td>0.217391</td>\n",
       "      <td>0.779661</td>\n",
       "      <td>0</td>\n",
       "    </tr>\n",
       "    <tr>\n",
       "      <th>1</th>\n",
       "      <td>A-2</td>\n",
       "      <td>Source2</td>\n",
       "      <td>2</td>\n",
       "      <td>2016-02-08 06:07:59</td>\n",
       "      <td>2016-02-08 06:37:59</td>\n",
       "      <td>0.023900</td>\n",
       "      <td>0.995462</td>\n",
       "      <td>0.001414</td>\n",
       "      <td>Accident bus stand Rd. Expect delays.</td>\n",
       "      <td>bus stand road</td>\n",
       "      <td>...</td>\n",
       "      <td>Night</td>\n",
       "      <td>Day</td>\n",
       "      <td>0</td>\n",
       "      <td>0.0</td>\n",
       "      <td>0.0</td>\n",
       "      <td>0.0</td>\n",
       "      <td>0.25</td>\n",
       "      <td>0.260870</td>\n",
       "      <td>0.118644</td>\n",
       "      <td>0</td>\n",
       "    </tr>\n",
       "    <tr>\n",
       "      <th>2</th>\n",
       "      <td>A-3</td>\n",
       "      <td>Source2</td>\n",
       "      <td>2</td>\n",
       "      <td>2016-02-08 06:49:27</td>\n",
       "      <td>2016-02-08 07:19:27</td>\n",
       "      <td>0.025349</td>\n",
       "      <td>0.994552</td>\n",
       "      <td>0.001414</td>\n",
       "      <td>Accident on OH-32 State Route 32 4th cross. Ex...</td>\n",
       "      <td>4th cross road</td>\n",
       "      <td>...</td>\n",
       "      <td>Day</td>\n",
       "      <td>Day</td>\n",
       "      <td>1</td>\n",
       "      <td>0.0</td>\n",
       "      <td>0.0</td>\n",
       "      <td>0.0</td>\n",
       "      <td>0.25</td>\n",
       "      <td>0.260870</td>\n",
       "      <td>0.830508</td>\n",
       "      <td>0</td>\n",
       "    </tr>\n",
       "    <tr>\n",
       "      <th>3</th>\n",
       "      <td>A-4</td>\n",
       "      <td>Source2</td>\n",
       "      <td>3</td>\n",
       "      <td>2016-02-08 07:23:34</td>\n",
       "      <td>2016-02-08 07:53:34</td>\n",
       "      <td>0.026358</td>\n",
       "      <td>0.994182</td>\n",
       "      <td>0.001414</td>\n",
       "      <td>Accident on I-75 annanagar rd,at Exits 52 52B ...</td>\n",
       "      <td>annanagar road</td>\n",
       "      <td>...</td>\n",
       "      <td>Day</td>\n",
       "      <td>Day</td>\n",
       "      <td>1</td>\n",
       "      <td>0.0</td>\n",
       "      <td>0.0</td>\n",
       "      <td>0.0</td>\n",
       "      <td>0.25</td>\n",
       "      <td>0.304348</td>\n",
       "      <td>0.389831</td>\n",
       "      <td>0</td>\n",
       "    </tr>\n",
       "    <tr>\n",
       "      <th>4</th>\n",
       "      <td>A-5</td>\n",
       "      <td>Source2</td>\n",
       "      <td>2</td>\n",
       "      <td>2016-02-08 07:39:07</td>\n",
       "      <td>2016-02-08 08:09:07</td>\n",
       "      <td>0.016378</td>\n",
       "      <td>0.995627</td>\n",
       "      <td>0.001414</td>\n",
       "      <td>Accident on kumbakonam rd. Expect delays.</td>\n",
       "      <td>kumbakonam road</td>\n",
       "      <td>...</td>\n",
       "      <td>Day</td>\n",
       "      <td>Day</td>\n",
       "      <td>1</td>\n",
       "      <td>0.0</td>\n",
       "      <td>0.0</td>\n",
       "      <td>0.0</td>\n",
       "      <td>0.25</td>\n",
       "      <td>0.304348</td>\n",
       "      <td>0.661017</td>\n",
       "      <td>0</td>\n",
       "    </tr>\n",
       "  </tbody>\n",
       "</table>\n",
       "<p>5 rows × 50 columns</p>\n",
       "</div>"
      ],
      "text/plain": [
       "    ID   Source Severity          Start_Time            End_Time  Start_Lat  \\\n",
       "0  A-1  Source1        3 2016-02-08 05:46:00 2016-02-08 11:00:00   0.018475   \n",
       "1  A-2  Source2        2 2016-02-08 06:07:59 2016-02-08 06:37:59   0.023900   \n",
       "2  A-3  Source2        2 2016-02-08 06:49:27 2016-02-08 07:19:27   0.025349   \n",
       "3  A-4  Source2        3 2016-02-08 07:23:34 2016-02-08 07:53:34   0.026358   \n",
       "4  A-5  Source2        2 2016-02-08 07:39:07 2016-02-08 08:09:07   0.016378   \n",
       "\n",
       "   Start_Lng  Distance(mi)                                        Description  \\\n",
       "0   0.994163      0.001414  Right lane blocked due to accident on I-70 chi...   \n",
       "1   0.995462      0.001414              Accident bus stand Rd. Expect delays.   \n",
       "2   0.994552      0.001414  Accident on OH-32 State Route 32 4th cross. Ex...   \n",
       "3   0.994182      0.001414  Accident on I-75 annanagar rd,at Exits 52 52B ...   \n",
       "4   0.995627      0.001414          Accident on kumbakonam rd. Expect delays.   \n",
       "\n",
       "             Street  ... Nautical_Twilight Astronomical_Twilight  \\\n",
       "0  chidambaram road  ...             Night                 Night   \n",
       "1    bus stand road  ...             Night                   Day   \n",
       "2    4th cross road  ...               Day                   Day   \n",
       "3    annanagar road  ...               Day                   Day   \n",
       "4   kumbakonam road  ...               Day                   Day   \n",
       "\n",
       "  Precipitation_NA Year Month Weekday   Day      Hour    Minute  Is_Weekend  \n",
       "0                0  0.0   0.0     0.0  0.25  0.217391  0.779661           0  \n",
       "1                0  0.0   0.0     0.0  0.25  0.260870  0.118644           0  \n",
       "2                1  0.0   0.0     0.0  0.25  0.260870  0.830508           0  \n",
       "3                1  0.0   0.0     0.0  0.25  0.304348  0.389831           0  \n",
       "4                1  0.0   0.0     0.0  0.25  0.304348  0.661017           0  \n",
       "\n",
       "[5 rows x 50 columns]"
      ]
     },
     "execution_count": 149,
     "metadata": {},
     "output_type": "execute_result"
    }
   ],
   "source": [
    "#Let's first encode the boolean values in a numerical form.\n",
    "X = acdf.replace([True, False], [1, 0])\n",
    "\n",
    "X.head()"
   ]
  },
  {
   "cell_type": "code",
   "execution_count": 150,
   "id": "a3c28b9e-f297-41c8-b207-76119c93e326",
   "metadata": {},
   "outputs": [
    {
     "name": "stdout",
     "output_type": "stream",
     "text": [
      "    ID   Source Severity          Start_Time            End_Time  Start_Lat  \\\n",
      "0  A-1  Source1        3 2016-02-08 05:46:00 2016-02-08 11:00:00   0.018475   \n",
      "1  A-2  Source2        2 2016-02-08 06:07:59 2016-02-08 06:37:59   0.023900   \n",
      "2  A-3  Source2        2 2016-02-08 06:49:27 2016-02-08 07:19:27   0.025349   \n",
      "3  A-4  Source2        3 2016-02-08 07:23:34 2016-02-08 07:53:34   0.026358   \n",
      "4  A-5  Source2        2 2016-02-08 07:39:07 2016-02-08 08:09:07   0.016378   \n",
      "\n",
      "   Start_Lng  Distance(mi)                                        Description  \\\n",
      "0   0.994163      0.001414  Right lane blocked due to accident on I-70 chi...   \n",
      "1   0.995462      0.001414              Accident bus stand Rd. Expect delays.   \n",
      "2   0.994552      0.001414  Accident on OH-32 State Route 32 4th cross. Ex...   \n",
      "3   0.994182      0.001414  Accident on I-75 annanagar rd,at Exits 52 52B ...   \n",
      "4   0.995627      0.001414          Accident on kumbakonam rd. Expect delays.   \n",
      "\n",
      "             Street  ... Wind_Direction_S Wind_Direction_SE Wind_Direction_SW  \\\n",
      "0  chidambaram road  ...            False             False             False   \n",
      "1    bus stand road  ...            False             False             False   \n",
      "2    4th cross road  ...            False             False              True   \n",
      "3    annanagar road  ...            False             False              True   \n",
      "4   kumbakonam road  ...            False             False              True   \n",
      "\n",
      "  Wind_Direction_Variable Wind_Direction_W Weather_Condition_Cloudy  \\\n",
      "0                   False            False                    False   \n",
      "1                   False            False                    False   \n",
      "2                   False            False                     True   \n",
      "3                   False            False                     True   \n",
      "4                   False            False                     True   \n",
      "\n",
      "  Weather_Condition_Fog Weather_Condition_Rain  Weather_Condition_Snow  \\\n",
      "0                 False                   True                   False   \n",
      "1                 False                   True                   False   \n",
      "2                 False                  False                   False   \n",
      "3                 False                  False                   False   \n",
      "4                 False                  False                   False   \n",
      "\n",
      "   Civil_Twilight_Night  \n",
      "0                  True  \n",
      "1                  True  \n",
      "2                  True  \n",
      "3                 False  \n",
      "4                 False  \n",
      "\n",
      "[5 rows x 61 columns]\n"
     ]
    }
   ],
   "source": [
    "#Now we can encode the categorical features using the method get_dummies() which converts the features with the one-hot encoding.\n",
    "# Remove city because it will be encoded later# Define categorical features\n",
    "categorical_features = set([\"City\", \"Wind_Direction\", \"Weather_Condition\", \"Civil_Twilight\"])  # Example set, replace with actual feature names\n",
    "\n",
    "# Exclude 'City' from the categorical features\n",
    "onehot_cols = list(categorical_features - set([\"City\"]))\n",
    "\n",
    "# Apply one-hot encoding\n",
    "X = pd.get_dummies(acdf, columns=onehot_cols, drop_first=True)\n",
    "\n",
    "# Display the first few rows of the transformed DataFrame\n",
    "print(X.head())"
   ]
  },
  {
   "cell_type": "code",
   "execution_count": 151,
   "id": "b7230e5d-2d0b-4683-8fae-8669835e20c0",
   "metadata": {},
   "outputs": [
    {
     "name": "stdout",
     "output_type": "stream",
     "text": [
      "Defaulting to user installation because normal site-packages is not writeable\n",
      "Requirement already satisfied: category_encoders in c:\\users\\perum\\appdata\\roaming\\python\\python311\\site-packages (2.6.3)\n",
      "Requirement already satisfied: numpy>=1.14.0 in c:\\programdata\\anaconda3\\lib\\site-packages (from category_encoders) (1.26.4)\n",
      "Requirement already satisfied: scikit-learn>=0.20.0 in c:\\programdata\\anaconda3\\lib\\site-packages (from category_encoders) (1.2.2)\n",
      "Requirement already satisfied: scipy>=1.0.0 in c:\\programdata\\anaconda3\\lib\\site-packages (from category_encoders) (1.11.4)\n",
      "Requirement already satisfied: statsmodels>=0.9.0 in c:\\programdata\\anaconda3\\lib\\site-packages (from category_encoders) (0.14.0)\n",
      "Requirement already satisfied: pandas>=1.0.5 in c:\\programdata\\anaconda3\\lib\\site-packages (from category_encoders) (2.1.4)\n",
      "Requirement already satisfied: patsy>=0.5.1 in c:\\programdata\\anaconda3\\lib\\site-packages (from category_encoders) (0.5.3)\n",
      "Requirement already satisfied: python-dateutil>=2.8.2 in c:\\programdata\\anaconda3\\lib\\site-packages (from pandas>=1.0.5->category_encoders) (2.8.2)\n",
      "Requirement already satisfied: pytz>=2020.1 in c:\\programdata\\anaconda3\\lib\\site-packages (from pandas>=1.0.5->category_encoders) (2023.3.post1)\n",
      "Requirement already satisfied: tzdata>=2022.1 in c:\\programdata\\anaconda3\\lib\\site-packages (from pandas>=1.0.5->category_encoders) (2023.3)\n",
      "Requirement already satisfied: six in c:\\programdata\\anaconda3\\lib\\site-packages (from patsy>=0.5.1->category_encoders) (1.16.0)\n",
      "Requirement already satisfied: joblib>=1.1.1 in c:\\programdata\\anaconda3\\lib\\site-packages (from scikit-learn>=0.20.0->category_encoders) (1.2.0)\n",
      "Requirement already satisfied: threadpoolctl>=2.0.0 in c:\\programdata\\anaconda3\\lib\\site-packages (from scikit-learn>=0.20.0->category_encoders) (2.2.0)\n",
      "Requirement already satisfied: packaging>=21.3 in c:\\programdata\\anaconda3\\lib\\site-packages (from statsmodels>=0.9.0->category_encoders) (23.1)\n",
      "Note: you may need to restart the kernel to use updated packages.\n"
     ]
    }
   ],
   "source": [
    "pip install category_encoders"
   ]
  },
  {
   "cell_type": "code",
   "execution_count": 152,
   "id": "c41b4f47-8e80-49b6-8bd1-b31a44707580",
   "metadata": {},
   "outputs": [],
   "source": [
    "import category_encoders as ce"
   ]
  },
  {
   "cell_type": "code",
   "execution_count": 153,
   "id": "d8c565b2-b4e7-46ce-acdd-6c54dfdd9d9d",
   "metadata": {},
   "outputs": [
    {
     "data": {
      "text/html": [
       "<div>\n",
       "<style scoped>\n",
       "    .dataframe tbody tr th:only-of-type {\n",
       "        vertical-align: middle;\n",
       "    }\n",
       "\n",
       "    .dataframe tbody tr th {\n",
       "        vertical-align: top;\n",
       "    }\n",
       "\n",
       "    .dataframe thead th {\n",
       "        text-align: right;\n",
       "    }\n",
       "</style>\n",
       "<table border=\"1\" class=\"dataframe\">\n",
       "  <thead>\n",
       "    <tr style=\"text-align: right;\">\n",
       "      <th></th>\n",
       "      <th>City_0</th>\n",
       "      <th>City_1</th>\n",
       "      <th>City_2</th>\n",
       "      <th>City_3</th>\n",
       "      <th>City_4</th>\n",
       "    </tr>\n",
       "  </thead>\n",
       "  <tbody>\n",
       "    <tr>\n",
       "      <th>0</th>\n",
       "      <td>0</td>\n",
       "      <td>0</td>\n",
       "      <td>0</td>\n",
       "      <td>0</td>\n",
       "      <td>1</td>\n",
       "    </tr>\n",
       "    <tr>\n",
       "      <th>1</th>\n",
       "      <td>0</td>\n",
       "      <td>0</td>\n",
       "      <td>0</td>\n",
       "      <td>0</td>\n",
       "      <td>1</td>\n",
       "    </tr>\n",
       "    <tr>\n",
       "      <th>2</th>\n",
       "      <td>0</td>\n",
       "      <td>0</td>\n",
       "      <td>0</td>\n",
       "      <td>0</td>\n",
       "      <td>1</td>\n",
       "    </tr>\n",
       "    <tr>\n",
       "      <th>3</th>\n",
       "      <td>0</td>\n",
       "      <td>0</td>\n",
       "      <td>0</td>\n",
       "      <td>0</td>\n",
       "      <td>1</td>\n",
       "    </tr>\n",
       "    <tr>\n",
       "      <th>4</th>\n",
       "      <td>0</td>\n",
       "      <td>0</td>\n",
       "      <td>0</td>\n",
       "      <td>0</td>\n",
       "      <td>1</td>\n",
       "    </tr>\n",
       "    <tr>\n",
       "      <th>...</th>\n",
       "      <td>...</td>\n",
       "      <td>...</td>\n",
       "      <td>...</td>\n",
       "      <td>...</td>\n",
       "      <td>...</td>\n",
       "    </tr>\n",
       "    <tr>\n",
       "      <th>1545</th>\n",
       "      <td>0</td>\n",
       "      <td>0</td>\n",
       "      <td>1</td>\n",
       "      <td>0</td>\n",
       "      <td>0</td>\n",
       "    </tr>\n",
       "    <tr>\n",
       "      <th>1546</th>\n",
       "      <td>0</td>\n",
       "      <td>0</td>\n",
       "      <td>1</td>\n",
       "      <td>0</td>\n",
       "      <td>0</td>\n",
       "    </tr>\n",
       "    <tr>\n",
       "      <th>1547</th>\n",
       "      <td>0</td>\n",
       "      <td>0</td>\n",
       "      <td>1</td>\n",
       "      <td>0</td>\n",
       "      <td>0</td>\n",
       "    </tr>\n",
       "    <tr>\n",
       "      <th>1548</th>\n",
       "      <td>0</td>\n",
       "      <td>0</td>\n",
       "      <td>1</td>\n",
       "      <td>0</td>\n",
       "      <td>0</td>\n",
       "    </tr>\n",
       "    <tr>\n",
       "      <th>1549</th>\n",
       "      <td>0</td>\n",
       "      <td>0</td>\n",
       "      <td>1</td>\n",
       "      <td>0</td>\n",
       "      <td>0</td>\n",
       "    </tr>\n",
       "  </tbody>\n",
       "</table>\n",
       "<p>1550 rows × 5 columns</p>\n",
       "</div>"
      ],
      "text/plain": [
       "      City_0  City_1  City_2  City_3  City_4\n",
       "0          0       0       0       0       1\n",
       "1          0       0       0       0       1\n",
       "2          0       0       0       0       1\n",
       "3          0       0       0       0       1\n",
       "4          0       0       0       0       1\n",
       "...      ...     ...     ...     ...     ...\n",
       "1545       0       0       1       0       0\n",
       "1546       0       0       1       0       0\n",
       "1547       0       0       1       0       0\n",
       "1548       0       0       1       0       0\n",
       "1549       0       0       1       0       0\n",
       "\n",
       "[1550 rows x 5 columns]"
      ]
     },
     "execution_count": 153,
     "metadata": {},
     "output_type": "execute_result"
    }
   ],
   "source": [
    "#Now, remains only to encode the City feature. In order to, reduce the usage of memory and the number of features we used the BinaryEncoder included in the library category_encoders.\n",
    "binary_encoder = ce.binary.BinaryEncoder()\n",
    "\n",
    "city_binary_enc = binary_encoder.fit_transform(acdf[\"City\"])\n",
    "city_binary_enc"
   ]
  },
  {
   "cell_type": "code",
   "execution_count": 154,
   "id": "bb59498c-7632-4c43-b692-bc3af63ca418",
   "metadata": {},
   "outputs": [
    {
     "data": {
      "text/html": [
       "<div>\n",
       "<style scoped>\n",
       "    .dataframe tbody tr th:only-of-type {\n",
       "        vertical-align: middle;\n",
       "    }\n",
       "\n",
       "    .dataframe tbody tr th {\n",
       "        vertical-align: top;\n",
       "    }\n",
       "\n",
       "    .dataframe thead th {\n",
       "        text-align: right;\n",
       "    }\n",
       "</style>\n",
       "<table border=\"1\" class=\"dataframe\">\n",
       "  <thead>\n",
       "    <tr style=\"text-align: right;\">\n",
       "      <th></th>\n",
       "      <th>ID</th>\n",
       "      <th>Source</th>\n",
       "      <th>Severity</th>\n",
       "      <th>Start_Time</th>\n",
       "      <th>End_Time</th>\n",
       "      <th>Start_Lat</th>\n",
       "      <th>Start_Lng</th>\n",
       "      <th>Distance(mi)</th>\n",
       "      <th>Description</th>\n",
       "      <th>Street</th>\n",
       "      <th>...</th>\n",
       "      <th>Weekday</th>\n",
       "      <th>Day</th>\n",
       "      <th>Hour</th>\n",
       "      <th>Minute</th>\n",
       "      <th>Is_Weekend</th>\n",
       "      <th>City_0</th>\n",
       "      <th>City_1</th>\n",
       "      <th>City_2</th>\n",
       "      <th>City_3</th>\n",
       "      <th>City_4</th>\n",
       "    </tr>\n",
       "  </thead>\n",
       "  <tbody>\n",
       "    <tr>\n",
       "      <th>0</th>\n",
       "      <td>A-1</td>\n",
       "      <td>Source1</td>\n",
       "      <td>3</td>\n",
       "      <td>2016-02-08 05:46:00</td>\n",
       "      <td>2016-02-08 11:00:00</td>\n",
       "      <td>0.018475</td>\n",
       "      <td>0.994163</td>\n",
       "      <td>0.001414</td>\n",
       "      <td>Right lane blocked due to accident on I-70 chi...</td>\n",
       "      <td>chidambaram road</td>\n",
       "      <td>...</td>\n",
       "      <td>0.0</td>\n",
       "      <td>0.25</td>\n",
       "      <td>0.217391</td>\n",
       "      <td>0.779661</td>\n",
       "      <td>False</td>\n",
       "      <td>0</td>\n",
       "      <td>0</td>\n",
       "      <td>0</td>\n",
       "      <td>0</td>\n",
       "      <td>1</td>\n",
       "    </tr>\n",
       "    <tr>\n",
       "      <th>1</th>\n",
       "      <td>A-2</td>\n",
       "      <td>Source2</td>\n",
       "      <td>2</td>\n",
       "      <td>2016-02-08 06:07:59</td>\n",
       "      <td>2016-02-08 06:37:59</td>\n",
       "      <td>0.023900</td>\n",
       "      <td>0.995462</td>\n",
       "      <td>0.001414</td>\n",
       "      <td>Accident bus stand Rd. Expect delays.</td>\n",
       "      <td>bus stand road</td>\n",
       "      <td>...</td>\n",
       "      <td>0.0</td>\n",
       "      <td>0.25</td>\n",
       "      <td>0.260870</td>\n",
       "      <td>0.118644</td>\n",
       "      <td>False</td>\n",
       "      <td>0</td>\n",
       "      <td>0</td>\n",
       "      <td>0</td>\n",
       "      <td>0</td>\n",
       "      <td>1</td>\n",
       "    </tr>\n",
       "    <tr>\n",
       "      <th>2</th>\n",
       "      <td>A-3</td>\n",
       "      <td>Source2</td>\n",
       "      <td>2</td>\n",
       "      <td>2016-02-08 06:49:27</td>\n",
       "      <td>2016-02-08 07:19:27</td>\n",
       "      <td>0.025349</td>\n",
       "      <td>0.994552</td>\n",
       "      <td>0.001414</td>\n",
       "      <td>Accident on OH-32 State Route 32 4th cross. Ex...</td>\n",
       "      <td>4th cross road</td>\n",
       "      <td>...</td>\n",
       "      <td>0.0</td>\n",
       "      <td>0.25</td>\n",
       "      <td>0.260870</td>\n",
       "      <td>0.830508</td>\n",
       "      <td>False</td>\n",
       "      <td>0</td>\n",
       "      <td>0</td>\n",
       "      <td>0</td>\n",
       "      <td>0</td>\n",
       "      <td>1</td>\n",
       "    </tr>\n",
       "    <tr>\n",
       "      <th>3</th>\n",
       "      <td>A-4</td>\n",
       "      <td>Source2</td>\n",
       "      <td>3</td>\n",
       "      <td>2016-02-08 07:23:34</td>\n",
       "      <td>2016-02-08 07:53:34</td>\n",
       "      <td>0.026358</td>\n",
       "      <td>0.994182</td>\n",
       "      <td>0.001414</td>\n",
       "      <td>Accident on I-75 annanagar rd,at Exits 52 52B ...</td>\n",
       "      <td>annanagar road</td>\n",
       "      <td>...</td>\n",
       "      <td>0.0</td>\n",
       "      <td>0.25</td>\n",
       "      <td>0.304348</td>\n",
       "      <td>0.389831</td>\n",
       "      <td>False</td>\n",
       "      <td>0</td>\n",
       "      <td>0</td>\n",
       "      <td>0</td>\n",
       "      <td>0</td>\n",
       "      <td>1</td>\n",
       "    </tr>\n",
       "    <tr>\n",
       "      <th>4</th>\n",
       "      <td>A-5</td>\n",
       "      <td>Source2</td>\n",
       "      <td>2</td>\n",
       "      <td>2016-02-08 07:39:07</td>\n",
       "      <td>2016-02-08 08:09:07</td>\n",
       "      <td>0.016378</td>\n",
       "      <td>0.995627</td>\n",
       "      <td>0.001414</td>\n",
       "      <td>Accident on kumbakonam rd. Expect delays.</td>\n",
       "      <td>kumbakonam road</td>\n",
       "      <td>...</td>\n",
       "      <td>0.0</td>\n",
       "      <td>0.25</td>\n",
       "      <td>0.304348</td>\n",
       "      <td>0.661017</td>\n",
       "      <td>False</td>\n",
       "      <td>0</td>\n",
       "      <td>0</td>\n",
       "      <td>0</td>\n",
       "      <td>0</td>\n",
       "      <td>1</td>\n",
       "    </tr>\n",
       "  </tbody>\n",
       "</table>\n",
       "<p>5 rows × 54 columns</p>\n",
       "</div>"
      ],
      "text/plain": [
       "    ID   Source Severity          Start_Time            End_Time  Start_Lat  \\\n",
       "0  A-1  Source1        3 2016-02-08 05:46:00 2016-02-08 11:00:00   0.018475   \n",
       "1  A-2  Source2        2 2016-02-08 06:07:59 2016-02-08 06:37:59   0.023900   \n",
       "2  A-3  Source2        2 2016-02-08 06:49:27 2016-02-08 07:19:27   0.025349   \n",
       "3  A-4  Source2        3 2016-02-08 07:23:34 2016-02-08 07:53:34   0.026358   \n",
       "4  A-5  Source2        2 2016-02-08 07:39:07 2016-02-08 08:09:07   0.016378   \n",
       "\n",
       "   Start_Lng  Distance(mi)                                        Description  \\\n",
       "0   0.994163      0.001414  Right lane blocked due to accident on I-70 chi...   \n",
       "1   0.995462      0.001414              Accident bus stand Rd. Expect delays.   \n",
       "2   0.994552      0.001414  Accident on OH-32 State Route 32 4th cross. Ex...   \n",
       "3   0.994182      0.001414  Accident on I-75 annanagar rd,at Exits 52 52B ...   \n",
       "4   0.995627      0.001414          Accident on kumbakonam rd. Expect delays.   \n",
       "\n",
       "             Street  ... Weekday   Day      Hour    Minute Is_Weekend City_0  \\\n",
       "0  chidambaram road  ...     0.0  0.25  0.217391  0.779661      False      0   \n",
       "1    bus stand road  ...     0.0  0.25  0.260870  0.118644      False      0   \n",
       "2    4th cross road  ...     0.0  0.25  0.260870  0.830508      False      0   \n",
       "3    annanagar road  ...     0.0  0.25  0.304348  0.389831      False      0   \n",
       "4   kumbakonam road  ...     0.0  0.25  0.304348  0.661017      False      0   \n",
       "\n",
       "  City_1  City_2  City_3  City_4  \n",
       "0      0       0       0       1  \n",
       "1      0       0       0       1  \n",
       "2      0       0       0       1  \n",
       "3      0       0       0       1  \n",
       "4      0       0       0       1  \n",
       "\n",
       "[5 rows x 54 columns]"
      ]
     },
     "execution_count": 154,
     "metadata": {},
     "output_type": "execute_result"
    }
   ],
   "source": [
    "#Finally, we can merge the two dataframes and obtain the final dataframe X with the categorical features encoded.\n",
    "X = pd.concat([acdf, city_binary_enc], axis=1).drop(\"City\", axis=1)\n",
    "\n",
    "X.head()"
   ]
  },
  {
   "cell_type": "code",
   "execution_count": 155,
   "id": "9682459e-a8e8-46ed-a121-a889e7e2ec32",
   "metadata": {},
   "outputs": [],
   "source": [
    "from sklearn import svm\n",
    "from sklearn.metrics import classification_report, confusion_matrix, accuracy_score, f1_score, roc_curve\n",
    "from sklearn.model_selection import train_test_split, GridSearchCV\n",
    "from sklearn.naive_bayes import CategoricalNB, BernoulliNB, MultinomialNB, GaussianNB\n",
    "from sklearn.neural_network import MLPClassifier\n",
    "from sklearn.ensemble import RandomForestClassifier\n",
    "from sklearn.tree import DecisionTreeClassifier, plot_tree\n",
    "from sklearn.linear_model import LogisticRegression\n",
    "from sklearn.preprocessing import MinMaxScaler\n",
    "from sklearn.metrics import precision_recall_curve\n",
    "from sklearn.metrics import average_precision_score\n",
    "from sklearn.preprocessing import label_binarize"
   ]
  },
  {
   "cell_type": "markdown",
   "id": "af8480e5-8ed5-4cbf-b671-23cbfad4ccc0",
   "metadata": {},
   "source": [
    "Model\n",
    "In this section we will test sevaral models to identify the best one for this task.\n",
    "\n",
    "In particular, we will use the following models:\n",
    "\n",
    "Logistic Regression;\n",
    "Support Vector Machine;\n",
    "Decision Tree\n",
    "Random Forest\n",
    "Naive Bayes\n",
    "Multi Layer Perceptron\n",
    "Moreover, we are going to seach the best hyperparameters to produce the best results for each model. In the end, we will show the performance of each model using different metrics: precision, recall, accuracy."
   ]
  },
  {
   "cell_type": "code",
   "execution_count": 156,
   "id": "e237670a-d259-48dc-bda9-b7394ef22138",
   "metadata": {},
   "outputs": [],
   "source": [
    "# Metrics dictionary\n",
    "accuracy = dict()\n",
    "precision = dict()\n",
    "recall = dict()\n",
    "f1 = dict()\n",
    "fpr = dict()\n",
    "tpr = dict()"
   ]
  },
  {
   "cell_type": "code",
   "execution_count": 157,
   "id": "88c562e6-c58c-4bf2-91ed-cef31eda56d2",
   "metadata": {},
   "outputs": [
    {
     "name": "stdout",
     "output_type": "stream",
     "text": [
      "(1240, 50) (310, 50)\n"
     ]
    }
   ],
   "source": [
    "# Train/Validation - Test split\n",
    "acdf, X_test = train_test_split(acdf, test_size=.2, random_state=42)\n",
    "print(acdf.shape, X_test.shape)"
   ]
  },
  {
   "cell_type": "code",
   "execution_count": 158,
   "id": "8ff09818-bc5a-4cd6-bc88-9c2a319ac96c",
   "metadata": {},
   "outputs": [
    {
     "name": "stdout",
     "output_type": "stream",
     "text": [
      "(930, 49) (930,)\n",
      "(310, 49) (310,)\n"
     ]
    }
   ],
   "source": [
    "sample = acdf\n",
    "y_sample = sample[\"Severity\"]\n",
    "X_sample = sample.drop(\"Severity\", axis=1)\n",
    "\n",
    "X_train, X_validate, y_train, y_validate = train_test_split(X_sample, y_sample, random_state=42)\n",
    "print(X_train.shape, y_train.shape)\n",
    "print(X_validate.shape, y_validate.shape)"
   ]
  },
  {
   "cell_type": "code",
   "execution_count": 164,
   "id": "ab327c9e-12cd-494e-8b11-1718f2cb38e7",
   "metadata": {},
   "outputs": [],
   "source": [
    "grid = GridSearchCV(lr, params, n_jobs=-1, verbose=5, error_score='raise')\n"
   ]
  },
  {
   "cell_type": "code",
   "execution_count": 165,
   "id": "6be4ae4a-c4d6-4d6b-9c31-20ea179513af",
   "metadata": {},
   "outputs": [
    {
     "name": "stdout",
     "output_type": "stream",
     "text": [
      "ID                       0\n",
      "Source                   0\n",
      "Start_Time               0\n",
      "End_Time                 0\n",
      "Start_Lat                0\n",
      "Start_Lng                0\n",
      "Distance(mi)             0\n",
      "Description              0\n",
      "Street                   0\n",
      "City                     0\n",
      "County                   0\n",
      "State                    0\n",
      "Zipcode                  0\n",
      "Country                  0\n",
      "Timezone                 0\n",
      "Airport_Code             0\n",
      "Weather_Timestamp        0\n",
      "Temperature(F)           0\n",
      "Humidity(%)              0\n",
      "Pressure(in)             0\n",
      "Visibility(mi)           0\n",
      "Wind_Direction           0\n",
      "Wind_Speed(mph)          0\n",
      "Precipitation(in)        0\n",
      "Weather_Condition        0\n",
      "Amenity                  0\n",
      "Bump                     0\n",
      "Crossing                 0\n",
      "Give_Way                 0\n",
      "Junction                 0\n",
      "No_Exit                  0\n",
      "Railway                  0\n",
      "Roundabout               0\n",
      "Station                  0\n",
      "Stop                     0\n",
      "Traffic_Calming          0\n",
      "Traffic_Signal           0\n",
      "Sunrise_Sunset           0\n",
      "Civil_Twilight           0\n",
      "Nautical_Twilight        0\n",
      "Astronomical_Twilight    0\n",
      "Precipitation_NA         0\n",
      "Year                     0\n",
      "Month                    0\n",
      "Weekday                  0\n",
      "Day                      0\n",
      "Hour                     0\n",
      "Minute                   0\n",
      "Is_Weekend               0\n",
      "dtype: int64\n",
      "0\n"
     ]
    }
   ],
   "source": [
    "print(X_train.isnull().sum())  # Check for missing values in X_train\n",
    "print(y_train.isnull().sum())  # Check for missing values in y_train\n"
   ]
  },
  {
   "cell_type": "code",
   "execution_count": 166,
   "id": "932a68c0-d8ed-4d4e-9dc9-7c0e7d6c7e93",
   "metadata": {},
   "outputs": [
    {
     "name": "stdout",
     "output_type": "stream",
     "text": [
      "ID                               object\n",
      "Source                           object\n",
      "Start_Time               datetime64[ns]\n",
      "End_Time                 datetime64[ns]\n",
      "Start_Lat                       float64\n",
      "Start_Lng                       float64\n",
      "Distance(mi)                    float64\n",
      "Description                      object\n",
      "Street                           object\n",
      "City                           category\n",
      "County                           object\n",
      "State                            object\n",
      "Zipcode                          object\n",
      "Country                          object\n",
      "Timezone                         object\n",
      "Airport_Code                     object\n",
      "Weather_Timestamp        datetime64[ns]\n",
      "Temperature(F)                  float64\n",
      "Humidity(%)                     float64\n",
      "Pressure(in)                    float64\n",
      "Visibility(mi)                  float64\n",
      "Wind_Direction                 category\n",
      "Wind_Speed(mph)                 float64\n",
      "Precipitation(in)               float64\n",
      "Weather_Condition              category\n",
      "Amenity                            bool\n",
      "Bump                               bool\n",
      "Crossing                           bool\n",
      "Give_Way                           bool\n",
      "Junction                           bool\n",
      "No_Exit                            bool\n",
      "Railway                            bool\n",
      "Roundabout                         bool\n",
      "Station                            bool\n",
      "Stop                               bool\n",
      "Traffic_Calming                    bool\n",
      "Traffic_Signal                     bool\n",
      "Sunrise_Sunset                   object\n",
      "Civil_Twilight                 category\n",
      "Nautical_Twilight                object\n",
      "Astronomical_Twilight            object\n",
      "Precipitation_NA                  int64\n",
      "Year                            float64\n",
      "Month                           float64\n",
      "Weekday                         float64\n",
      "Day                             float64\n",
      "Hour                            float64\n",
      "Minute                          float64\n",
      "Is_Weekend                         bool\n",
      "dtype: object\n"
     ]
    }
   ],
   "source": [
    "print(X_train.dtypes)  # Check data types in X_train\n"
   ]
  },
  {
   "cell_type": "code",
   "execution_count": 168,
   "id": "df173484-2d93-4d0c-859f-749f61966b83",
   "metadata": {},
   "outputs": [
    {
     "name": "stdout",
     "output_type": "stream",
     "text": [
      "Shape of X_train: (930, 49)\n",
      "Shape of y_train: (930,)\n"
     ]
    },
    {
     "ename": "ValueError",
     "evalue": "could not convert string to float: 'A-1175'",
     "output_type": "error",
     "traceback": [
      "\u001b[1;31m---------------------------------------------------------------------------\u001b[0m",
      "\u001b[1;31mValueError\u001b[0m                                Traceback (most recent call last)",
      "Cell \u001b[1;32mIn[168], line 17\u001b[0m\n\u001b[0;32m     15\u001b[0m \u001b[38;5;66;03m# Scale features\u001b[39;00m\n\u001b[0;32m     16\u001b[0m scaler \u001b[38;5;241m=\u001b[39m StandardScaler()\n\u001b[1;32m---> 17\u001b[0m X_train_scaled \u001b[38;5;241m=\u001b[39m scaler\u001b[38;5;241m.\u001b[39mfit_transform(X_train)\n\u001b[0;32m     18\u001b[0m X_validate_scaled \u001b[38;5;241m=\u001b[39m scaler\u001b[38;5;241m.\u001b[39mtransform(X_validate)\n\u001b[0;32m     20\u001b[0m \u001b[38;5;66;03m# Check for NaNs and Infs\u001b[39;00m\n",
      "File \u001b[1;32mC:\\ProgramData\\anaconda3\\Lib\\site-packages\\sklearn\\utils\\_set_output.py:140\u001b[0m, in \u001b[0;36m_wrap_method_output.<locals>.wrapped\u001b[1;34m(self, X, *args, **kwargs)\u001b[0m\n\u001b[0;32m    138\u001b[0m \u001b[38;5;129m@wraps\u001b[39m(f)\n\u001b[0;32m    139\u001b[0m \u001b[38;5;28;01mdef\u001b[39;00m \u001b[38;5;21mwrapped\u001b[39m(\u001b[38;5;28mself\u001b[39m, X, \u001b[38;5;241m*\u001b[39margs, \u001b[38;5;241m*\u001b[39m\u001b[38;5;241m*\u001b[39mkwargs):\n\u001b[1;32m--> 140\u001b[0m     data_to_wrap \u001b[38;5;241m=\u001b[39m f(\u001b[38;5;28mself\u001b[39m, X, \u001b[38;5;241m*\u001b[39margs, \u001b[38;5;241m*\u001b[39m\u001b[38;5;241m*\u001b[39mkwargs)\n\u001b[0;32m    141\u001b[0m     \u001b[38;5;28;01mif\u001b[39;00m \u001b[38;5;28misinstance\u001b[39m(data_to_wrap, \u001b[38;5;28mtuple\u001b[39m):\n\u001b[0;32m    142\u001b[0m         \u001b[38;5;66;03m# only wrap the first output for cross decomposition\u001b[39;00m\n\u001b[0;32m    143\u001b[0m         \u001b[38;5;28;01mreturn\u001b[39;00m (\n\u001b[0;32m    144\u001b[0m             _wrap_data_with_container(method, data_to_wrap[\u001b[38;5;241m0\u001b[39m], X, \u001b[38;5;28mself\u001b[39m),\n\u001b[0;32m    145\u001b[0m             \u001b[38;5;241m*\u001b[39mdata_to_wrap[\u001b[38;5;241m1\u001b[39m:],\n\u001b[0;32m    146\u001b[0m         )\n",
      "File \u001b[1;32mC:\\ProgramData\\anaconda3\\Lib\\site-packages\\sklearn\\base.py:878\u001b[0m, in \u001b[0;36mTransformerMixin.fit_transform\u001b[1;34m(self, X, y, **fit_params)\u001b[0m\n\u001b[0;32m    874\u001b[0m \u001b[38;5;66;03m# non-optimized default implementation; override when a better\u001b[39;00m\n\u001b[0;32m    875\u001b[0m \u001b[38;5;66;03m# method is possible for a given clustering algorithm\u001b[39;00m\n\u001b[0;32m    876\u001b[0m \u001b[38;5;28;01mif\u001b[39;00m y \u001b[38;5;129;01mis\u001b[39;00m \u001b[38;5;28;01mNone\u001b[39;00m:\n\u001b[0;32m    877\u001b[0m     \u001b[38;5;66;03m# fit method of arity 1 (unsupervised transformation)\u001b[39;00m\n\u001b[1;32m--> 878\u001b[0m     \u001b[38;5;28;01mreturn\u001b[39;00m \u001b[38;5;28mself\u001b[39m\u001b[38;5;241m.\u001b[39mfit(X, \u001b[38;5;241m*\u001b[39m\u001b[38;5;241m*\u001b[39mfit_params)\u001b[38;5;241m.\u001b[39mtransform(X)\n\u001b[0;32m    879\u001b[0m \u001b[38;5;28;01melse\u001b[39;00m:\n\u001b[0;32m    880\u001b[0m     \u001b[38;5;66;03m# fit method of arity 2 (supervised transformation)\u001b[39;00m\n\u001b[0;32m    881\u001b[0m     \u001b[38;5;28;01mreturn\u001b[39;00m \u001b[38;5;28mself\u001b[39m\u001b[38;5;241m.\u001b[39mfit(X, y, \u001b[38;5;241m*\u001b[39m\u001b[38;5;241m*\u001b[39mfit_params)\u001b[38;5;241m.\u001b[39mtransform(X)\n",
      "File \u001b[1;32mC:\\ProgramData\\anaconda3\\Lib\\site-packages\\sklearn\\preprocessing\\_data.py:824\u001b[0m, in \u001b[0;36mStandardScaler.fit\u001b[1;34m(self, X, y, sample_weight)\u001b[0m\n\u001b[0;32m    822\u001b[0m \u001b[38;5;66;03m# Reset internal state before fitting\u001b[39;00m\n\u001b[0;32m    823\u001b[0m \u001b[38;5;28mself\u001b[39m\u001b[38;5;241m.\u001b[39m_reset()\n\u001b[1;32m--> 824\u001b[0m \u001b[38;5;28;01mreturn\u001b[39;00m \u001b[38;5;28mself\u001b[39m\u001b[38;5;241m.\u001b[39mpartial_fit(X, y, sample_weight)\n",
      "File \u001b[1;32mC:\\ProgramData\\anaconda3\\Lib\\site-packages\\sklearn\\preprocessing\\_data.py:861\u001b[0m, in \u001b[0;36mStandardScaler.partial_fit\u001b[1;34m(self, X, y, sample_weight)\u001b[0m\n\u001b[0;32m    858\u001b[0m \u001b[38;5;28mself\u001b[39m\u001b[38;5;241m.\u001b[39m_validate_params()\n\u001b[0;32m    860\u001b[0m first_call \u001b[38;5;241m=\u001b[39m \u001b[38;5;129;01mnot\u001b[39;00m \u001b[38;5;28mhasattr\u001b[39m(\u001b[38;5;28mself\u001b[39m, \u001b[38;5;124m\"\u001b[39m\u001b[38;5;124mn_samples_seen_\u001b[39m\u001b[38;5;124m\"\u001b[39m)\n\u001b[1;32m--> 861\u001b[0m X \u001b[38;5;241m=\u001b[39m \u001b[38;5;28mself\u001b[39m\u001b[38;5;241m.\u001b[39m_validate_data(\n\u001b[0;32m    862\u001b[0m     X,\n\u001b[0;32m    863\u001b[0m     accept_sparse\u001b[38;5;241m=\u001b[39m(\u001b[38;5;124m\"\u001b[39m\u001b[38;5;124mcsr\u001b[39m\u001b[38;5;124m\"\u001b[39m, \u001b[38;5;124m\"\u001b[39m\u001b[38;5;124mcsc\u001b[39m\u001b[38;5;124m\"\u001b[39m),\n\u001b[0;32m    864\u001b[0m     dtype\u001b[38;5;241m=\u001b[39mFLOAT_DTYPES,\n\u001b[0;32m    865\u001b[0m     force_all_finite\u001b[38;5;241m=\u001b[39m\u001b[38;5;124m\"\u001b[39m\u001b[38;5;124mallow-nan\u001b[39m\u001b[38;5;124m\"\u001b[39m,\n\u001b[0;32m    866\u001b[0m     reset\u001b[38;5;241m=\u001b[39mfirst_call,\n\u001b[0;32m    867\u001b[0m )\n\u001b[0;32m    868\u001b[0m n_features \u001b[38;5;241m=\u001b[39m X\u001b[38;5;241m.\u001b[39mshape[\u001b[38;5;241m1\u001b[39m]\n\u001b[0;32m    870\u001b[0m \u001b[38;5;28;01mif\u001b[39;00m sample_weight \u001b[38;5;129;01mis\u001b[39;00m \u001b[38;5;129;01mnot\u001b[39;00m \u001b[38;5;28;01mNone\u001b[39;00m:\n",
      "File \u001b[1;32mC:\\ProgramData\\anaconda3\\Lib\\site-packages\\sklearn\\base.py:565\u001b[0m, in \u001b[0;36mBaseEstimator._validate_data\u001b[1;34m(self, X, y, reset, validate_separately, **check_params)\u001b[0m\n\u001b[0;32m    563\u001b[0m     \u001b[38;5;28;01mraise\u001b[39;00m \u001b[38;5;167;01mValueError\u001b[39;00m(\u001b[38;5;124m\"\u001b[39m\u001b[38;5;124mValidation should be done on X, y or both.\u001b[39m\u001b[38;5;124m\"\u001b[39m)\n\u001b[0;32m    564\u001b[0m \u001b[38;5;28;01melif\u001b[39;00m \u001b[38;5;129;01mnot\u001b[39;00m no_val_X \u001b[38;5;129;01mand\u001b[39;00m no_val_y:\n\u001b[1;32m--> 565\u001b[0m     X \u001b[38;5;241m=\u001b[39m check_array(X, input_name\u001b[38;5;241m=\u001b[39m\u001b[38;5;124m\"\u001b[39m\u001b[38;5;124mX\u001b[39m\u001b[38;5;124m\"\u001b[39m, \u001b[38;5;241m*\u001b[39m\u001b[38;5;241m*\u001b[39mcheck_params)\n\u001b[0;32m    566\u001b[0m     out \u001b[38;5;241m=\u001b[39m X\n\u001b[0;32m    567\u001b[0m \u001b[38;5;28;01melif\u001b[39;00m no_val_X \u001b[38;5;129;01mand\u001b[39;00m \u001b[38;5;129;01mnot\u001b[39;00m no_val_y:\n",
      "File \u001b[1;32mC:\\ProgramData\\anaconda3\\Lib\\site-packages\\sklearn\\utils\\validation.py:810\u001b[0m, in \u001b[0;36mcheck_array\u001b[1;34m(array, accept_sparse, accept_large_sparse, dtype, order, copy, force_all_finite, ensure_2d, allow_nd, ensure_min_samples, ensure_min_features, estimator, input_name)\u001b[0m\n\u001b[0;32m    805\u001b[0m \u001b[38;5;28;01mif\u001b[39;00m pandas_requires_conversion:\n\u001b[0;32m    806\u001b[0m     \u001b[38;5;66;03m# pandas dataframe requires conversion earlier to handle extension dtypes with\u001b[39;00m\n\u001b[0;32m    807\u001b[0m     \u001b[38;5;66;03m# nans\u001b[39;00m\n\u001b[0;32m    808\u001b[0m     \u001b[38;5;66;03m# Use the original dtype for conversion if dtype is None\u001b[39;00m\n\u001b[0;32m    809\u001b[0m     new_dtype \u001b[38;5;241m=\u001b[39m dtype_orig \u001b[38;5;28;01mif\u001b[39;00m dtype \u001b[38;5;129;01mis\u001b[39;00m \u001b[38;5;28;01mNone\u001b[39;00m \u001b[38;5;28;01melse\u001b[39;00m dtype\n\u001b[1;32m--> 810\u001b[0m     array \u001b[38;5;241m=\u001b[39m array\u001b[38;5;241m.\u001b[39mastype(new_dtype)\n\u001b[0;32m    811\u001b[0m     \u001b[38;5;66;03m# Since we converted here, we do not need to convert again later\u001b[39;00m\n\u001b[0;32m    812\u001b[0m     dtype \u001b[38;5;241m=\u001b[39m \u001b[38;5;28;01mNone\u001b[39;00m\n",
      "File \u001b[1;32mC:\\ProgramData\\anaconda3\\Lib\\site-packages\\pandas\\core\\generic.py:6534\u001b[0m, in \u001b[0;36mNDFrame.astype\u001b[1;34m(self, dtype, copy, errors)\u001b[0m\n\u001b[0;32m   6530\u001b[0m     results \u001b[38;5;241m=\u001b[39m [ser\u001b[38;5;241m.\u001b[39mastype(dtype, copy\u001b[38;5;241m=\u001b[39mcopy) \u001b[38;5;28;01mfor\u001b[39;00m _, ser \u001b[38;5;129;01min\u001b[39;00m \u001b[38;5;28mself\u001b[39m\u001b[38;5;241m.\u001b[39mitems()]\n\u001b[0;32m   6532\u001b[0m \u001b[38;5;28;01melse\u001b[39;00m:\n\u001b[0;32m   6533\u001b[0m     \u001b[38;5;66;03m# else, only a single dtype is given\u001b[39;00m\n\u001b[1;32m-> 6534\u001b[0m     new_data \u001b[38;5;241m=\u001b[39m \u001b[38;5;28mself\u001b[39m\u001b[38;5;241m.\u001b[39m_mgr\u001b[38;5;241m.\u001b[39mastype(dtype\u001b[38;5;241m=\u001b[39mdtype, copy\u001b[38;5;241m=\u001b[39mcopy, errors\u001b[38;5;241m=\u001b[39merrors)\n\u001b[0;32m   6535\u001b[0m     res \u001b[38;5;241m=\u001b[39m \u001b[38;5;28mself\u001b[39m\u001b[38;5;241m.\u001b[39m_constructor_from_mgr(new_data, axes\u001b[38;5;241m=\u001b[39mnew_data\u001b[38;5;241m.\u001b[39maxes)\n\u001b[0;32m   6536\u001b[0m     \u001b[38;5;28;01mreturn\u001b[39;00m res\u001b[38;5;241m.\u001b[39m__finalize__(\u001b[38;5;28mself\u001b[39m, method\u001b[38;5;241m=\u001b[39m\u001b[38;5;124m\"\u001b[39m\u001b[38;5;124mastype\u001b[39m\u001b[38;5;124m\"\u001b[39m)\n",
      "File \u001b[1;32mC:\\ProgramData\\anaconda3\\Lib\\site-packages\\pandas\\core\\internals\\managers.py:414\u001b[0m, in \u001b[0;36mBaseBlockManager.astype\u001b[1;34m(self, dtype, copy, errors)\u001b[0m\n\u001b[0;32m    411\u001b[0m \u001b[38;5;28;01melif\u001b[39;00m using_copy_on_write():\n\u001b[0;32m    412\u001b[0m     copy \u001b[38;5;241m=\u001b[39m \u001b[38;5;28;01mFalse\u001b[39;00m\n\u001b[1;32m--> 414\u001b[0m \u001b[38;5;28;01mreturn\u001b[39;00m \u001b[38;5;28mself\u001b[39m\u001b[38;5;241m.\u001b[39mapply(\n\u001b[0;32m    415\u001b[0m     \u001b[38;5;124m\"\u001b[39m\u001b[38;5;124mastype\u001b[39m\u001b[38;5;124m\"\u001b[39m,\n\u001b[0;32m    416\u001b[0m     dtype\u001b[38;5;241m=\u001b[39mdtype,\n\u001b[0;32m    417\u001b[0m     copy\u001b[38;5;241m=\u001b[39mcopy,\n\u001b[0;32m    418\u001b[0m     errors\u001b[38;5;241m=\u001b[39merrors,\n\u001b[0;32m    419\u001b[0m     using_cow\u001b[38;5;241m=\u001b[39musing_copy_on_write(),\n\u001b[0;32m    420\u001b[0m )\n",
      "File \u001b[1;32mC:\\ProgramData\\anaconda3\\Lib\\site-packages\\pandas\\core\\internals\\managers.py:354\u001b[0m, in \u001b[0;36mBaseBlockManager.apply\u001b[1;34m(self, f, align_keys, **kwargs)\u001b[0m\n\u001b[0;32m    352\u001b[0m         applied \u001b[38;5;241m=\u001b[39m b\u001b[38;5;241m.\u001b[39mapply(f, \u001b[38;5;241m*\u001b[39m\u001b[38;5;241m*\u001b[39mkwargs)\n\u001b[0;32m    353\u001b[0m     \u001b[38;5;28;01melse\u001b[39;00m:\n\u001b[1;32m--> 354\u001b[0m         applied \u001b[38;5;241m=\u001b[39m \u001b[38;5;28mgetattr\u001b[39m(b, f)(\u001b[38;5;241m*\u001b[39m\u001b[38;5;241m*\u001b[39mkwargs)\n\u001b[0;32m    355\u001b[0m     result_blocks \u001b[38;5;241m=\u001b[39m extend_blocks(applied, result_blocks)\n\u001b[0;32m    357\u001b[0m out \u001b[38;5;241m=\u001b[39m \u001b[38;5;28mtype\u001b[39m(\u001b[38;5;28mself\u001b[39m)\u001b[38;5;241m.\u001b[39mfrom_blocks(result_blocks, \u001b[38;5;28mself\u001b[39m\u001b[38;5;241m.\u001b[39maxes)\n",
      "File \u001b[1;32mC:\\ProgramData\\anaconda3\\Lib\\site-packages\\pandas\\core\\internals\\blocks.py:616\u001b[0m, in \u001b[0;36mBlock.astype\u001b[1;34m(self, dtype, copy, errors, using_cow)\u001b[0m\n\u001b[0;32m    596\u001b[0m \u001b[38;5;250m\u001b[39m\u001b[38;5;124;03m\"\"\"\u001b[39;00m\n\u001b[0;32m    597\u001b[0m \u001b[38;5;124;03mCoerce to the new dtype.\u001b[39;00m\n\u001b[0;32m    598\u001b[0m \n\u001b[1;32m   (...)\u001b[0m\n\u001b[0;32m    612\u001b[0m \u001b[38;5;124;03mBlock\u001b[39;00m\n\u001b[0;32m    613\u001b[0m \u001b[38;5;124;03m\"\"\"\u001b[39;00m\n\u001b[0;32m    614\u001b[0m values \u001b[38;5;241m=\u001b[39m \u001b[38;5;28mself\u001b[39m\u001b[38;5;241m.\u001b[39mvalues\n\u001b[1;32m--> 616\u001b[0m new_values \u001b[38;5;241m=\u001b[39m astype_array_safe(values, dtype, copy\u001b[38;5;241m=\u001b[39mcopy, errors\u001b[38;5;241m=\u001b[39merrors)\n\u001b[0;32m    618\u001b[0m new_values \u001b[38;5;241m=\u001b[39m maybe_coerce_values(new_values)\n\u001b[0;32m    620\u001b[0m refs \u001b[38;5;241m=\u001b[39m \u001b[38;5;28;01mNone\u001b[39;00m\n",
      "File \u001b[1;32mC:\\ProgramData\\anaconda3\\Lib\\site-packages\\pandas\\core\\dtypes\\astype.py:238\u001b[0m, in \u001b[0;36mastype_array_safe\u001b[1;34m(values, dtype, copy, errors)\u001b[0m\n\u001b[0;32m    235\u001b[0m     dtype \u001b[38;5;241m=\u001b[39m dtype\u001b[38;5;241m.\u001b[39mnumpy_dtype\n\u001b[0;32m    237\u001b[0m \u001b[38;5;28;01mtry\u001b[39;00m:\n\u001b[1;32m--> 238\u001b[0m     new_values \u001b[38;5;241m=\u001b[39m astype_array(values, dtype, copy\u001b[38;5;241m=\u001b[39mcopy)\n\u001b[0;32m    239\u001b[0m \u001b[38;5;28;01mexcept\u001b[39;00m (\u001b[38;5;167;01mValueError\u001b[39;00m, \u001b[38;5;167;01mTypeError\u001b[39;00m):\n\u001b[0;32m    240\u001b[0m     \u001b[38;5;66;03m# e.g. _astype_nansafe can fail on object-dtype of strings\u001b[39;00m\n\u001b[0;32m    241\u001b[0m     \u001b[38;5;66;03m#  trying to convert to float\u001b[39;00m\n\u001b[0;32m    242\u001b[0m     \u001b[38;5;28;01mif\u001b[39;00m errors \u001b[38;5;241m==\u001b[39m \u001b[38;5;124m\"\u001b[39m\u001b[38;5;124mignore\u001b[39m\u001b[38;5;124m\"\u001b[39m:\n",
      "File \u001b[1;32mC:\\ProgramData\\anaconda3\\Lib\\site-packages\\pandas\\core\\dtypes\\astype.py:183\u001b[0m, in \u001b[0;36mastype_array\u001b[1;34m(values, dtype, copy)\u001b[0m\n\u001b[0;32m    180\u001b[0m     values \u001b[38;5;241m=\u001b[39m values\u001b[38;5;241m.\u001b[39mastype(dtype, copy\u001b[38;5;241m=\u001b[39mcopy)\n\u001b[0;32m    182\u001b[0m \u001b[38;5;28;01melse\u001b[39;00m:\n\u001b[1;32m--> 183\u001b[0m     values \u001b[38;5;241m=\u001b[39m _astype_nansafe(values, dtype, copy\u001b[38;5;241m=\u001b[39mcopy)\n\u001b[0;32m    185\u001b[0m \u001b[38;5;66;03m# in pandas we don't store numpy str dtypes, so convert to object\u001b[39;00m\n\u001b[0;32m    186\u001b[0m \u001b[38;5;28;01mif\u001b[39;00m \u001b[38;5;28misinstance\u001b[39m(dtype, np\u001b[38;5;241m.\u001b[39mdtype) \u001b[38;5;129;01mand\u001b[39;00m \u001b[38;5;28missubclass\u001b[39m(values\u001b[38;5;241m.\u001b[39mdtype\u001b[38;5;241m.\u001b[39mtype, \u001b[38;5;28mstr\u001b[39m):\n",
      "File \u001b[1;32mC:\\ProgramData\\anaconda3\\Lib\\site-packages\\pandas\\core\\dtypes\\astype.py:134\u001b[0m, in \u001b[0;36m_astype_nansafe\u001b[1;34m(arr, dtype, copy, skipna)\u001b[0m\n\u001b[0;32m    130\u001b[0m     \u001b[38;5;28;01mraise\u001b[39;00m \u001b[38;5;167;01mValueError\u001b[39;00m(msg)\n\u001b[0;32m    132\u001b[0m \u001b[38;5;28;01mif\u001b[39;00m copy \u001b[38;5;129;01mor\u001b[39;00m arr\u001b[38;5;241m.\u001b[39mdtype \u001b[38;5;241m==\u001b[39m \u001b[38;5;28mobject\u001b[39m \u001b[38;5;129;01mor\u001b[39;00m dtype \u001b[38;5;241m==\u001b[39m \u001b[38;5;28mobject\u001b[39m:\n\u001b[0;32m    133\u001b[0m     \u001b[38;5;66;03m# Explicit copy, or required since NumPy can't view from / to object.\u001b[39;00m\n\u001b[1;32m--> 134\u001b[0m     \u001b[38;5;28;01mreturn\u001b[39;00m arr\u001b[38;5;241m.\u001b[39mastype(dtype, copy\u001b[38;5;241m=\u001b[39m\u001b[38;5;28;01mTrue\u001b[39;00m)\n\u001b[0;32m    136\u001b[0m \u001b[38;5;28;01mreturn\u001b[39;00m arr\u001b[38;5;241m.\u001b[39mastype(dtype, copy\u001b[38;5;241m=\u001b[39mcopy)\n",
      "\u001b[1;31mValueError\u001b[0m: could not convert string to float: 'A-1175'"
     ]
    }
   ],
   "source": [
    "from sklearn.preprocessing import StandardScaler\n",
    "from sklearn.linear_model import LogisticRegression\n",
    "from sklearn.model_selection import GridSearchCV\n",
    "import numpy as np\n",
    "import pandas as pd\n",
    "\n",
    "# Sample data (replace with your actual data)\n",
    "# X_train = ... (your training features)\n",
    "# y_train = ... (your training labels)\n",
    "\n",
    "# Check shapes\n",
    "print(\"Shape of X_train:\", X_train.shape)\n",
    "print(\"Shape of y_train:\", y_train.shape)\n",
    "\n",
    "# Scale features\n",
    "scaler = StandardScaler()\n",
    "X_train_scaled = scaler.fit_transform(X_train)\n",
    "X_validate_scaled = scaler.transform(X_validate)\n",
    "\n",
    "# Check for NaNs and Infs\n",
    "print(\"Any NaNs in X_train_scaled?\", np.any(np.isnan(X_train_scaled)))\n",
    "print(\"Any Infs in X_train_scaled?\", np.any(np.isinf(X_train_scaled)))\n",
    "\n",
    "# Check for valid labels\n",
    "print(\"Unique values in y_train:\", y_train.unique())\n",
    "\n",
    "# Initialize logistic regression\n",
    "lr = LogisticRegression(random_state=42, n_jobs=-1)\n",
    "\n",
    "# Temporarily fit without GridSearchCV to isolate issues\n",
    "try:\n",
    "    lr.fit(X_train_scaled, y_train)\n",
    "    print(\"Train score:\", lr.score(X_train_scaled, y_train))\n",
    "except ValueError as e:\n",
    "    print(\"Error fitting logistic regression:\", e)\n",
    "\n",
    "# If successful, set up GridSearchCV\n",
    "params = {\"solver\": [\"newton-cg\", \"sag\", \"saga\"]}\n",
    "grid = GridSearchCV(lr, params, n_jobs=-1, verbose=5, error_score='raise')\n",
    "\n",
    "# Fit the grid search with scaled data\n",
    "try:\n",
    "    grid.fit(X_train_scaled, y_train)\n",
    "    print(\"Best parameters scores:\")\n",
    "    print(grid.best_params_)\n",
    "except ValueError as e:\n",
    "    print(\"Error during GridSearchCV fitting:\", e)\n"
   ]
  },
  {
   "cell_type": "code",
   "execution_count": 169,
   "id": "75aa5537-1752-4938-9f97-cc8491cb9c79",
   "metadata": {},
   "outputs": [
    {
     "name": "stdout",
     "output_type": "stream",
     "text": [
      "ID                       0\n",
      "Source                   0\n",
      "Start_Time               0\n",
      "End_Time                 0\n",
      "Start_Lat                0\n",
      "Start_Lng                0\n",
      "Distance(mi)             0\n",
      "Description              0\n",
      "Street                   0\n",
      "City                     0\n",
      "County                   0\n",
      "State                    0\n",
      "Zipcode                  0\n",
      "Country                  0\n",
      "Timezone                 0\n",
      "Airport_Code             0\n",
      "Weather_Timestamp        0\n",
      "Temperature(F)           0\n",
      "Humidity(%)              0\n",
      "Pressure(in)             0\n",
      "Visibility(mi)           0\n",
      "Wind_Direction           0\n",
      "Wind_Speed(mph)          0\n",
      "Precipitation(in)        0\n",
      "Weather_Condition        0\n",
      "Amenity                  0\n",
      "Bump                     0\n",
      "Crossing                 0\n",
      "Give_Way                 0\n",
      "Junction                 0\n",
      "No_Exit                  0\n",
      "Railway                  0\n",
      "Roundabout               0\n",
      "Station                  0\n",
      "Stop                     0\n",
      "Traffic_Calming          0\n",
      "Traffic_Signal           0\n",
      "Sunrise_Sunset           0\n",
      "Civil_Twilight           0\n",
      "Nautical_Twilight        0\n",
      "Astronomical_Twilight    0\n",
      "Precipitation_NA         0\n",
      "Year                     0\n",
      "Month                    0\n",
      "Weekday                  0\n",
      "Day                      0\n",
      "Hour                     0\n",
      "Minute                   0\n",
      "Is_Weekend               0\n",
      "dtype: int64\n",
      "0\n"
     ]
    },
    {
     "ename": "ValueError",
     "evalue": "could not convert string to float: 'A-1175'",
     "output_type": "error",
     "traceback": [
      "\u001b[1;31m---------------------------------------------------------------------------\u001b[0m",
      "\u001b[1;31mValueError\u001b[0m                                Traceback (most recent call last)",
      "Cell \u001b[1;32mIn[169], line 11\u001b[0m\n\u001b[0;32m      9\u001b[0m \u001b[38;5;66;03m# Scale features\u001b[39;00m\n\u001b[0;32m     10\u001b[0m scaler \u001b[38;5;241m=\u001b[39m StandardScaler()\n\u001b[1;32m---> 11\u001b[0m X_train_scaled \u001b[38;5;241m=\u001b[39m scaler\u001b[38;5;241m.\u001b[39mfit_transform(X_train)\n\u001b[0;32m     12\u001b[0m X_validate_scaled \u001b[38;5;241m=\u001b[39m scaler\u001b[38;5;241m.\u001b[39mtransform(X_validate)\n\u001b[0;32m     14\u001b[0m \u001b[38;5;66;03m# Initialize and fit GridSearchCV\u001b[39;00m\n",
      "File \u001b[1;32mC:\\ProgramData\\anaconda3\\Lib\\site-packages\\sklearn\\utils\\_set_output.py:140\u001b[0m, in \u001b[0;36m_wrap_method_output.<locals>.wrapped\u001b[1;34m(self, X, *args, **kwargs)\u001b[0m\n\u001b[0;32m    138\u001b[0m \u001b[38;5;129m@wraps\u001b[39m(f)\n\u001b[0;32m    139\u001b[0m \u001b[38;5;28;01mdef\u001b[39;00m \u001b[38;5;21mwrapped\u001b[39m(\u001b[38;5;28mself\u001b[39m, X, \u001b[38;5;241m*\u001b[39margs, \u001b[38;5;241m*\u001b[39m\u001b[38;5;241m*\u001b[39mkwargs):\n\u001b[1;32m--> 140\u001b[0m     data_to_wrap \u001b[38;5;241m=\u001b[39m f(\u001b[38;5;28mself\u001b[39m, X, \u001b[38;5;241m*\u001b[39margs, \u001b[38;5;241m*\u001b[39m\u001b[38;5;241m*\u001b[39mkwargs)\n\u001b[0;32m    141\u001b[0m     \u001b[38;5;28;01mif\u001b[39;00m \u001b[38;5;28misinstance\u001b[39m(data_to_wrap, \u001b[38;5;28mtuple\u001b[39m):\n\u001b[0;32m    142\u001b[0m         \u001b[38;5;66;03m# only wrap the first output for cross decomposition\u001b[39;00m\n\u001b[0;32m    143\u001b[0m         \u001b[38;5;28;01mreturn\u001b[39;00m (\n\u001b[0;32m    144\u001b[0m             _wrap_data_with_container(method, data_to_wrap[\u001b[38;5;241m0\u001b[39m], X, \u001b[38;5;28mself\u001b[39m),\n\u001b[0;32m    145\u001b[0m             \u001b[38;5;241m*\u001b[39mdata_to_wrap[\u001b[38;5;241m1\u001b[39m:],\n\u001b[0;32m    146\u001b[0m         )\n",
      "File \u001b[1;32mC:\\ProgramData\\anaconda3\\Lib\\site-packages\\sklearn\\base.py:878\u001b[0m, in \u001b[0;36mTransformerMixin.fit_transform\u001b[1;34m(self, X, y, **fit_params)\u001b[0m\n\u001b[0;32m    874\u001b[0m \u001b[38;5;66;03m# non-optimized default implementation; override when a better\u001b[39;00m\n\u001b[0;32m    875\u001b[0m \u001b[38;5;66;03m# method is possible for a given clustering algorithm\u001b[39;00m\n\u001b[0;32m    876\u001b[0m \u001b[38;5;28;01mif\u001b[39;00m y \u001b[38;5;129;01mis\u001b[39;00m \u001b[38;5;28;01mNone\u001b[39;00m:\n\u001b[0;32m    877\u001b[0m     \u001b[38;5;66;03m# fit method of arity 1 (unsupervised transformation)\u001b[39;00m\n\u001b[1;32m--> 878\u001b[0m     \u001b[38;5;28;01mreturn\u001b[39;00m \u001b[38;5;28mself\u001b[39m\u001b[38;5;241m.\u001b[39mfit(X, \u001b[38;5;241m*\u001b[39m\u001b[38;5;241m*\u001b[39mfit_params)\u001b[38;5;241m.\u001b[39mtransform(X)\n\u001b[0;32m    879\u001b[0m \u001b[38;5;28;01melse\u001b[39;00m:\n\u001b[0;32m    880\u001b[0m     \u001b[38;5;66;03m# fit method of arity 2 (supervised transformation)\u001b[39;00m\n\u001b[0;32m    881\u001b[0m     \u001b[38;5;28;01mreturn\u001b[39;00m \u001b[38;5;28mself\u001b[39m\u001b[38;5;241m.\u001b[39mfit(X, y, \u001b[38;5;241m*\u001b[39m\u001b[38;5;241m*\u001b[39mfit_params)\u001b[38;5;241m.\u001b[39mtransform(X)\n",
      "File \u001b[1;32mC:\\ProgramData\\anaconda3\\Lib\\site-packages\\sklearn\\preprocessing\\_data.py:824\u001b[0m, in \u001b[0;36mStandardScaler.fit\u001b[1;34m(self, X, y, sample_weight)\u001b[0m\n\u001b[0;32m    822\u001b[0m \u001b[38;5;66;03m# Reset internal state before fitting\u001b[39;00m\n\u001b[0;32m    823\u001b[0m \u001b[38;5;28mself\u001b[39m\u001b[38;5;241m.\u001b[39m_reset()\n\u001b[1;32m--> 824\u001b[0m \u001b[38;5;28;01mreturn\u001b[39;00m \u001b[38;5;28mself\u001b[39m\u001b[38;5;241m.\u001b[39mpartial_fit(X, y, sample_weight)\n",
      "File \u001b[1;32mC:\\ProgramData\\anaconda3\\Lib\\site-packages\\sklearn\\preprocessing\\_data.py:861\u001b[0m, in \u001b[0;36mStandardScaler.partial_fit\u001b[1;34m(self, X, y, sample_weight)\u001b[0m\n\u001b[0;32m    858\u001b[0m \u001b[38;5;28mself\u001b[39m\u001b[38;5;241m.\u001b[39m_validate_params()\n\u001b[0;32m    860\u001b[0m first_call \u001b[38;5;241m=\u001b[39m \u001b[38;5;129;01mnot\u001b[39;00m \u001b[38;5;28mhasattr\u001b[39m(\u001b[38;5;28mself\u001b[39m, \u001b[38;5;124m\"\u001b[39m\u001b[38;5;124mn_samples_seen_\u001b[39m\u001b[38;5;124m\"\u001b[39m)\n\u001b[1;32m--> 861\u001b[0m X \u001b[38;5;241m=\u001b[39m \u001b[38;5;28mself\u001b[39m\u001b[38;5;241m.\u001b[39m_validate_data(\n\u001b[0;32m    862\u001b[0m     X,\n\u001b[0;32m    863\u001b[0m     accept_sparse\u001b[38;5;241m=\u001b[39m(\u001b[38;5;124m\"\u001b[39m\u001b[38;5;124mcsr\u001b[39m\u001b[38;5;124m\"\u001b[39m, \u001b[38;5;124m\"\u001b[39m\u001b[38;5;124mcsc\u001b[39m\u001b[38;5;124m\"\u001b[39m),\n\u001b[0;32m    864\u001b[0m     dtype\u001b[38;5;241m=\u001b[39mFLOAT_DTYPES,\n\u001b[0;32m    865\u001b[0m     force_all_finite\u001b[38;5;241m=\u001b[39m\u001b[38;5;124m\"\u001b[39m\u001b[38;5;124mallow-nan\u001b[39m\u001b[38;5;124m\"\u001b[39m,\n\u001b[0;32m    866\u001b[0m     reset\u001b[38;5;241m=\u001b[39mfirst_call,\n\u001b[0;32m    867\u001b[0m )\n\u001b[0;32m    868\u001b[0m n_features \u001b[38;5;241m=\u001b[39m X\u001b[38;5;241m.\u001b[39mshape[\u001b[38;5;241m1\u001b[39m]\n\u001b[0;32m    870\u001b[0m \u001b[38;5;28;01mif\u001b[39;00m sample_weight \u001b[38;5;129;01mis\u001b[39;00m \u001b[38;5;129;01mnot\u001b[39;00m \u001b[38;5;28;01mNone\u001b[39;00m:\n",
      "File \u001b[1;32mC:\\ProgramData\\anaconda3\\Lib\\site-packages\\sklearn\\base.py:565\u001b[0m, in \u001b[0;36mBaseEstimator._validate_data\u001b[1;34m(self, X, y, reset, validate_separately, **check_params)\u001b[0m\n\u001b[0;32m    563\u001b[0m     \u001b[38;5;28;01mraise\u001b[39;00m \u001b[38;5;167;01mValueError\u001b[39;00m(\u001b[38;5;124m\"\u001b[39m\u001b[38;5;124mValidation should be done on X, y or both.\u001b[39m\u001b[38;5;124m\"\u001b[39m)\n\u001b[0;32m    564\u001b[0m \u001b[38;5;28;01melif\u001b[39;00m \u001b[38;5;129;01mnot\u001b[39;00m no_val_X \u001b[38;5;129;01mand\u001b[39;00m no_val_y:\n\u001b[1;32m--> 565\u001b[0m     X \u001b[38;5;241m=\u001b[39m check_array(X, input_name\u001b[38;5;241m=\u001b[39m\u001b[38;5;124m\"\u001b[39m\u001b[38;5;124mX\u001b[39m\u001b[38;5;124m\"\u001b[39m, \u001b[38;5;241m*\u001b[39m\u001b[38;5;241m*\u001b[39mcheck_params)\n\u001b[0;32m    566\u001b[0m     out \u001b[38;5;241m=\u001b[39m X\n\u001b[0;32m    567\u001b[0m \u001b[38;5;28;01melif\u001b[39;00m no_val_X \u001b[38;5;129;01mand\u001b[39;00m \u001b[38;5;129;01mnot\u001b[39;00m no_val_y:\n",
      "File \u001b[1;32mC:\\ProgramData\\anaconda3\\Lib\\site-packages\\sklearn\\utils\\validation.py:810\u001b[0m, in \u001b[0;36mcheck_array\u001b[1;34m(array, accept_sparse, accept_large_sparse, dtype, order, copy, force_all_finite, ensure_2d, allow_nd, ensure_min_samples, ensure_min_features, estimator, input_name)\u001b[0m\n\u001b[0;32m    805\u001b[0m \u001b[38;5;28;01mif\u001b[39;00m pandas_requires_conversion:\n\u001b[0;32m    806\u001b[0m     \u001b[38;5;66;03m# pandas dataframe requires conversion earlier to handle extension dtypes with\u001b[39;00m\n\u001b[0;32m    807\u001b[0m     \u001b[38;5;66;03m# nans\u001b[39;00m\n\u001b[0;32m    808\u001b[0m     \u001b[38;5;66;03m# Use the original dtype for conversion if dtype is None\u001b[39;00m\n\u001b[0;32m    809\u001b[0m     new_dtype \u001b[38;5;241m=\u001b[39m dtype_orig \u001b[38;5;28;01mif\u001b[39;00m dtype \u001b[38;5;129;01mis\u001b[39;00m \u001b[38;5;28;01mNone\u001b[39;00m \u001b[38;5;28;01melse\u001b[39;00m dtype\n\u001b[1;32m--> 810\u001b[0m     array \u001b[38;5;241m=\u001b[39m array\u001b[38;5;241m.\u001b[39mastype(new_dtype)\n\u001b[0;32m    811\u001b[0m     \u001b[38;5;66;03m# Since we converted here, we do not need to convert again later\u001b[39;00m\n\u001b[0;32m    812\u001b[0m     dtype \u001b[38;5;241m=\u001b[39m \u001b[38;5;28;01mNone\u001b[39;00m\n",
      "File \u001b[1;32mC:\\ProgramData\\anaconda3\\Lib\\site-packages\\pandas\\core\\generic.py:6534\u001b[0m, in \u001b[0;36mNDFrame.astype\u001b[1;34m(self, dtype, copy, errors)\u001b[0m\n\u001b[0;32m   6530\u001b[0m     results \u001b[38;5;241m=\u001b[39m [ser\u001b[38;5;241m.\u001b[39mastype(dtype, copy\u001b[38;5;241m=\u001b[39mcopy) \u001b[38;5;28;01mfor\u001b[39;00m _, ser \u001b[38;5;129;01min\u001b[39;00m \u001b[38;5;28mself\u001b[39m\u001b[38;5;241m.\u001b[39mitems()]\n\u001b[0;32m   6532\u001b[0m \u001b[38;5;28;01melse\u001b[39;00m:\n\u001b[0;32m   6533\u001b[0m     \u001b[38;5;66;03m# else, only a single dtype is given\u001b[39;00m\n\u001b[1;32m-> 6534\u001b[0m     new_data \u001b[38;5;241m=\u001b[39m \u001b[38;5;28mself\u001b[39m\u001b[38;5;241m.\u001b[39m_mgr\u001b[38;5;241m.\u001b[39mastype(dtype\u001b[38;5;241m=\u001b[39mdtype, copy\u001b[38;5;241m=\u001b[39mcopy, errors\u001b[38;5;241m=\u001b[39merrors)\n\u001b[0;32m   6535\u001b[0m     res \u001b[38;5;241m=\u001b[39m \u001b[38;5;28mself\u001b[39m\u001b[38;5;241m.\u001b[39m_constructor_from_mgr(new_data, axes\u001b[38;5;241m=\u001b[39mnew_data\u001b[38;5;241m.\u001b[39maxes)\n\u001b[0;32m   6536\u001b[0m     \u001b[38;5;28;01mreturn\u001b[39;00m res\u001b[38;5;241m.\u001b[39m__finalize__(\u001b[38;5;28mself\u001b[39m, method\u001b[38;5;241m=\u001b[39m\u001b[38;5;124m\"\u001b[39m\u001b[38;5;124mastype\u001b[39m\u001b[38;5;124m\"\u001b[39m)\n",
      "File \u001b[1;32mC:\\ProgramData\\anaconda3\\Lib\\site-packages\\pandas\\core\\internals\\managers.py:414\u001b[0m, in \u001b[0;36mBaseBlockManager.astype\u001b[1;34m(self, dtype, copy, errors)\u001b[0m\n\u001b[0;32m    411\u001b[0m \u001b[38;5;28;01melif\u001b[39;00m using_copy_on_write():\n\u001b[0;32m    412\u001b[0m     copy \u001b[38;5;241m=\u001b[39m \u001b[38;5;28;01mFalse\u001b[39;00m\n\u001b[1;32m--> 414\u001b[0m \u001b[38;5;28;01mreturn\u001b[39;00m \u001b[38;5;28mself\u001b[39m\u001b[38;5;241m.\u001b[39mapply(\n\u001b[0;32m    415\u001b[0m     \u001b[38;5;124m\"\u001b[39m\u001b[38;5;124mastype\u001b[39m\u001b[38;5;124m\"\u001b[39m,\n\u001b[0;32m    416\u001b[0m     dtype\u001b[38;5;241m=\u001b[39mdtype,\n\u001b[0;32m    417\u001b[0m     copy\u001b[38;5;241m=\u001b[39mcopy,\n\u001b[0;32m    418\u001b[0m     errors\u001b[38;5;241m=\u001b[39merrors,\n\u001b[0;32m    419\u001b[0m     using_cow\u001b[38;5;241m=\u001b[39musing_copy_on_write(),\n\u001b[0;32m    420\u001b[0m )\n",
      "File \u001b[1;32mC:\\ProgramData\\anaconda3\\Lib\\site-packages\\pandas\\core\\internals\\managers.py:354\u001b[0m, in \u001b[0;36mBaseBlockManager.apply\u001b[1;34m(self, f, align_keys, **kwargs)\u001b[0m\n\u001b[0;32m    352\u001b[0m         applied \u001b[38;5;241m=\u001b[39m b\u001b[38;5;241m.\u001b[39mapply(f, \u001b[38;5;241m*\u001b[39m\u001b[38;5;241m*\u001b[39mkwargs)\n\u001b[0;32m    353\u001b[0m     \u001b[38;5;28;01melse\u001b[39;00m:\n\u001b[1;32m--> 354\u001b[0m         applied \u001b[38;5;241m=\u001b[39m \u001b[38;5;28mgetattr\u001b[39m(b, f)(\u001b[38;5;241m*\u001b[39m\u001b[38;5;241m*\u001b[39mkwargs)\n\u001b[0;32m    355\u001b[0m     result_blocks \u001b[38;5;241m=\u001b[39m extend_blocks(applied, result_blocks)\n\u001b[0;32m    357\u001b[0m out \u001b[38;5;241m=\u001b[39m \u001b[38;5;28mtype\u001b[39m(\u001b[38;5;28mself\u001b[39m)\u001b[38;5;241m.\u001b[39mfrom_blocks(result_blocks, \u001b[38;5;28mself\u001b[39m\u001b[38;5;241m.\u001b[39maxes)\n",
      "File \u001b[1;32mC:\\ProgramData\\anaconda3\\Lib\\site-packages\\pandas\\core\\internals\\blocks.py:616\u001b[0m, in \u001b[0;36mBlock.astype\u001b[1;34m(self, dtype, copy, errors, using_cow)\u001b[0m\n\u001b[0;32m    596\u001b[0m \u001b[38;5;250m\u001b[39m\u001b[38;5;124;03m\"\"\"\u001b[39;00m\n\u001b[0;32m    597\u001b[0m \u001b[38;5;124;03mCoerce to the new dtype.\u001b[39;00m\n\u001b[0;32m    598\u001b[0m \n\u001b[1;32m   (...)\u001b[0m\n\u001b[0;32m    612\u001b[0m \u001b[38;5;124;03mBlock\u001b[39;00m\n\u001b[0;32m    613\u001b[0m \u001b[38;5;124;03m\"\"\"\u001b[39;00m\n\u001b[0;32m    614\u001b[0m values \u001b[38;5;241m=\u001b[39m \u001b[38;5;28mself\u001b[39m\u001b[38;5;241m.\u001b[39mvalues\n\u001b[1;32m--> 616\u001b[0m new_values \u001b[38;5;241m=\u001b[39m astype_array_safe(values, dtype, copy\u001b[38;5;241m=\u001b[39mcopy, errors\u001b[38;5;241m=\u001b[39merrors)\n\u001b[0;32m    618\u001b[0m new_values \u001b[38;5;241m=\u001b[39m maybe_coerce_values(new_values)\n\u001b[0;32m    620\u001b[0m refs \u001b[38;5;241m=\u001b[39m \u001b[38;5;28;01mNone\u001b[39;00m\n",
      "File \u001b[1;32mC:\\ProgramData\\anaconda3\\Lib\\site-packages\\pandas\\core\\dtypes\\astype.py:238\u001b[0m, in \u001b[0;36mastype_array_safe\u001b[1;34m(values, dtype, copy, errors)\u001b[0m\n\u001b[0;32m    235\u001b[0m     dtype \u001b[38;5;241m=\u001b[39m dtype\u001b[38;5;241m.\u001b[39mnumpy_dtype\n\u001b[0;32m    237\u001b[0m \u001b[38;5;28;01mtry\u001b[39;00m:\n\u001b[1;32m--> 238\u001b[0m     new_values \u001b[38;5;241m=\u001b[39m astype_array(values, dtype, copy\u001b[38;5;241m=\u001b[39mcopy)\n\u001b[0;32m    239\u001b[0m \u001b[38;5;28;01mexcept\u001b[39;00m (\u001b[38;5;167;01mValueError\u001b[39;00m, \u001b[38;5;167;01mTypeError\u001b[39;00m):\n\u001b[0;32m    240\u001b[0m     \u001b[38;5;66;03m# e.g. _astype_nansafe can fail on object-dtype of strings\u001b[39;00m\n\u001b[0;32m    241\u001b[0m     \u001b[38;5;66;03m#  trying to convert to float\u001b[39;00m\n\u001b[0;32m    242\u001b[0m     \u001b[38;5;28;01mif\u001b[39;00m errors \u001b[38;5;241m==\u001b[39m \u001b[38;5;124m\"\u001b[39m\u001b[38;5;124mignore\u001b[39m\u001b[38;5;124m\"\u001b[39m:\n",
      "File \u001b[1;32mC:\\ProgramData\\anaconda3\\Lib\\site-packages\\pandas\\core\\dtypes\\astype.py:183\u001b[0m, in \u001b[0;36mastype_array\u001b[1;34m(values, dtype, copy)\u001b[0m\n\u001b[0;32m    180\u001b[0m     values \u001b[38;5;241m=\u001b[39m values\u001b[38;5;241m.\u001b[39mastype(dtype, copy\u001b[38;5;241m=\u001b[39mcopy)\n\u001b[0;32m    182\u001b[0m \u001b[38;5;28;01melse\u001b[39;00m:\n\u001b[1;32m--> 183\u001b[0m     values \u001b[38;5;241m=\u001b[39m _astype_nansafe(values, dtype, copy\u001b[38;5;241m=\u001b[39mcopy)\n\u001b[0;32m    185\u001b[0m \u001b[38;5;66;03m# in pandas we don't store numpy str dtypes, so convert to object\u001b[39;00m\n\u001b[0;32m    186\u001b[0m \u001b[38;5;28;01mif\u001b[39;00m \u001b[38;5;28misinstance\u001b[39m(dtype, np\u001b[38;5;241m.\u001b[39mdtype) \u001b[38;5;129;01mand\u001b[39;00m \u001b[38;5;28missubclass\u001b[39m(values\u001b[38;5;241m.\u001b[39mdtype\u001b[38;5;241m.\u001b[39mtype, \u001b[38;5;28mstr\u001b[39m):\n",
      "File \u001b[1;32mC:\\ProgramData\\anaconda3\\Lib\\site-packages\\pandas\\core\\dtypes\\astype.py:134\u001b[0m, in \u001b[0;36m_astype_nansafe\u001b[1;34m(arr, dtype, copy, skipna)\u001b[0m\n\u001b[0;32m    130\u001b[0m     \u001b[38;5;28;01mraise\u001b[39;00m \u001b[38;5;167;01mValueError\u001b[39;00m(msg)\n\u001b[0;32m    132\u001b[0m \u001b[38;5;28;01mif\u001b[39;00m copy \u001b[38;5;129;01mor\u001b[39;00m arr\u001b[38;5;241m.\u001b[39mdtype \u001b[38;5;241m==\u001b[39m \u001b[38;5;28mobject\u001b[39m \u001b[38;5;129;01mor\u001b[39;00m dtype \u001b[38;5;241m==\u001b[39m \u001b[38;5;28mobject\u001b[39m:\n\u001b[0;32m    133\u001b[0m     \u001b[38;5;66;03m# Explicit copy, or required since NumPy can't view from / to object.\u001b[39;00m\n\u001b[1;32m--> 134\u001b[0m     \u001b[38;5;28;01mreturn\u001b[39;00m arr\u001b[38;5;241m.\u001b[39mastype(dtype, copy\u001b[38;5;241m=\u001b[39m\u001b[38;5;28;01mTrue\u001b[39;00m)\n\u001b[0;32m    136\u001b[0m \u001b[38;5;28;01mreturn\u001b[39;00m arr\u001b[38;5;241m.\u001b[39mastype(dtype, copy\u001b[38;5;241m=\u001b[39mcopy)\n",
      "\u001b[1;31mValueError\u001b[0m: could not convert string to float: 'A-1175'"
     ]
    }
   ],
   "source": [
    "from sklearn.preprocessing import StandardScaler\n",
    "from sklearn.linear_model import LogisticRegression\n",
    "from sklearn.model_selection import GridSearchCV\n",
    "\n",
    "# Check for missing values\n",
    "print(X_train.isnull().sum())\n",
    "print(y_train.isnull().sum())\n",
    "\n",
    "# Scale features\n",
    "scaler = StandardScaler()\n",
    "X_train_scaled = scaler.fit_transform(X_train)\n",
    "X_validate_scaled = scaler.transform(X_validate)\n",
    "\n",
    "# Initialize and fit GridSearchCV\n",
    "lr = LogisticRegression(random_state=42, n_jobs=-1)\n",
    "params = {\"solver\": [\"newton-cg\", \"sag\", \"saga\"]}\n",
    "grid = GridSearchCV(lr, params, n_jobs=-1, verbose=5, error_score='raise')\n",
    "\n",
    "# Fit the model\n",
    "grid.fit(X_train_scaled, y_train)\n",
    "\n",
    "# Check results\n",
    "print(\"Best parameters scores:\")\n",
    "print(grid.best_params_)\n",
    "print(\"Train score:\", grid.score(X_train_scaled, y_train))\n",
    "print(\"Validation score:\", grid.score(X_validate_scaled, y_validate))\n"
   ]
  },
  {
   "cell_type": "code",
   "execution_count": null,
   "id": "0a5876b0-4b11-4c9f-b5f7-aea45c375e53",
   "metadata": {},
   "outputs": [],
   "source": []
  }
 ],
 "metadata": {
  "kernelspec": {
   "display_name": "Python 3 (ipykernel)",
   "language": "python",
   "name": "python3"
  },
  "language_info": {
   "codemirror_mode": {
    "name": "ipython",
    "version": 3
   },
   "file_extension": ".py",
   "mimetype": "text/x-python",
   "name": "python",
   "nbconvert_exporter": "python",
   "pygments_lexer": "ipython3",
   "version": "3.11.7"
  }
 },
 "nbformat": 4,
 "nbformat_minor": 5
}
